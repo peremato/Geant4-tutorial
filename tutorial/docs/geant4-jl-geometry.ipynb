{
 "cells": [
  {
   "cell_type": "markdown",
   "metadata": {
    "vscode": {
     "languageId": "julia"
    }
   },
   "source": [
    "# Defining Geant4.jl Geometries\n",
    "Currently we can define G4 geometries by constructing them using the API  of the C++ classes or by reading a GDML file. This notebook will guide you on this task.\n",
    "\n",
    "It is very convenient to be able to visualize the geometry on the way. For this purpose we need to load the G4Vis extension. This is done this way:\n"
   ]
  },
  {
   "cell_type": "code",
   "execution_count": 1,
   "metadata": {},
   "outputs": [
    {
     "ename": "LoadError",
     "evalue": "ArgumentError: Package CairoMakie not found in current path.\n- Run `import Pkg; Pkg.add(\"CairoMakie\")` to install the CairoMakie package.",
     "output_type": "error",
     "traceback": [
      "ArgumentError: Package CairoMakie not found in current path.\n- Run `import Pkg; Pkg.add(\"CairoMakie\")` to install the CairoMakie package.",
      "",
      "Stacktrace:",
      " [1] macro expansion",
      "   @ Base ./loading.jl:1766 [inlined]",
      " [2] macro expansion",
      "   @ Base ./lock.jl:267 [inlined]",
      " [3] __require(into::Module, mod::Symbol)",
      "   @ Base ./loading.jl:1747",
      " [4] #invoke_in_world#3",
      "   @ Base ./essentials.jl:921 [inlined]",
      " [5] invoke_in_world",
      "   @ Base ./essentials.jl:918 [inlined]",
      " [6] require(into::Module, mod::Symbol)",
      "   @ Base ./loading.jl:1740"
     ]
    }
   ],
   "source": [
    "using Geant4\n",
    "using Geant4.SystemOfUnits                # defines the usints used by Geant4 \n",
    "using CairoMakie, Rotations, IGLWrap_jll  # to force loading G4Vis extension"
   ]
  },
  {
   "cell_type": "markdown",
   "metadata": {},
   "source": [
    "## Defining Solids\n",
    "The first step is to define the solids. The following shapes are defined: `G4Box`, `G4Cons`, `G4Tubs`, `G4Orb`, `G4Sphere`, `G4Trd`, `G4CutTubs`, `G4Para`, `G4Trap`, `G4Torus`, `G4Polycone`, `G4Polyhedra`, `G4EllipticalTube`, `G4Ellipsoid`, `G4EllipticalCone`, `G4Paraboloid`, `G4Hype`, `G4Tet`, `G4ExtrudedSolid`, `G4TwistedBox`, `G4TwistedTrap`, `G4TwistedTrd`, `G4GenericTrap`, `G4TwistedTubs`. In addition there are the boolean shapes: `G4UnionSolid`, `G4SubtractionSolid`, `G4IntersectionSolid`.\n",
    "The definition of the constructor parameters can be found [documentation](https://geant4-userdoc.web.cern.ch/UsersGuides/ForApplicationDeveloper/html/Detector/Geometry/geomSolids.html#constructed-solid-geometry-csg-solids)\n",
    "\n",
    "Lets define a tube section like the following"
   ]
  },
  {
   "cell_type": "code",
   "execution_count": 2,
   "metadata": {},
   "outputs": [
    {
     "data": {
      "text/plain": [
       "Geant4.G4TubsAllocated(Ptr{Nothing} @0x0000000159d57f20)"
      ]
     },
     "execution_count": 2,
     "metadata": {},
     "output_type": "execute_result"
    }
   ],
   "source": [
    "rmin = 10cm\n",
    "rmax = 20cm\n",
    "halfz = 10cm\n",
    "ϕ₀ = 0\n",
    "Δϕ = 60deg\n",
    "tube = G4Tubs(\"tube\", rmin, rmax, halfz, ϕ₀, Δϕ ) "
   ]
  },
  {
   "cell_type": "markdown",
   "metadata": {},
   "source": [
    "We can easily draw the just constructed solid"
   ]
  },
  {
   "cell_type": "code",
   "execution_count": 3,
   "metadata": {},
   "outputs": [
    {
     "ename": "LoadError",
     "evalue": "MethodError: no method matching draw(::Geant4.G4TubsAllocated; wireframe::Bool)\n\n\u001b[0mClosest candidates are:\n\u001b[0m  draw()\u001b[91m got unsupported keyword argument \"wireframe\"\u001b[39m\n\u001b[0m\u001b[90m   @\u001b[39m \u001b[35mGeant4\u001b[39m \u001b[90m~/.julia/packages/Geant4/PERab/src/\u001b[39m\u001b[90m\u001b[4mGeant4.jl:43\u001b[24m\u001b[39m\n",
     "output_type": "error",
     "traceback": [
      "MethodError: no method matching draw(::Geant4.G4TubsAllocated; wireframe::Bool)\n\n\u001b[0mClosest candidates are:\n\u001b[0m  draw()\u001b[91m got unsupported keyword argument \"wireframe\"\u001b[39m\n\u001b[0m\u001b[90m   @\u001b[39m \u001b[35mGeant4\u001b[39m \u001b[90m~/.julia/packages/Geant4/PERab/src/\u001b[39m\u001b[90m\u001b[4mGeant4.jl:43\u001b[24m\u001b[39m\n",
      "",
      "Stacktrace:",
      " [1] top-level scope",
      "   @ In[3]:1"
     ]
    }
   ],
   "source": [
    "img = draw(tube,  wireframe=true)\n",
    "display(\"image/png\", img)   # This is needed specially for notebooks"
   ]
  },
  {
   "cell_type": "code",
   "execution_count": 4,
   "metadata": {},
   "outputs": [
    {
     "ename": "LoadError",
     "evalue": "MethodError: no method matching draw(::Geant4.G4ParaAllocated)\n\n\u001b[0mClosest candidates are:\n\u001b[0m  draw()\n\u001b[0m\u001b[90m   @\u001b[39m \u001b[35mGeant4\u001b[39m \u001b[90m~/.julia/packages/Geant4/PERab/src/\u001b[39m\u001b[90m\u001b[4mGeant4.jl:43\u001b[24m\u001b[39m\n",
     "output_type": "error",
     "traceback": [
      "MethodError: no method matching draw(::Geant4.G4ParaAllocated)\n\n\u001b[0mClosest candidates are:\n\u001b[0m  draw()\n\u001b[0m\u001b[90m   @\u001b[39m \u001b[35mGeant4\u001b[39m \u001b[90m~/.julia/packages/Geant4/PERab/src/\u001b[39m\u001b[90m\u001b[4mGeant4.jl:43\u001b[24m\u001b[39m\n",
      "",
      "Stacktrace:",
      " [1] top-level scope",
      "   @ In[4]:2"
     ]
    }
   ],
   "source": [
    "para = G4Para(\"parallelepiped\", 30,40,60,0, π/4, π/6)\n",
    "img = draw(para)\n",
    "display(\"image/png\", img)"
   ]
  },
  {
   "cell_type": "markdown",
   "metadata": {},
   "source": [
    "### Building Boolean solids\n",
    "We can build more complex geometries by combining with boolean operations simple shapes. For example building a 3D cross. "
   ]
  },
  {
   "cell_type": "code",
   "execution_count": 5,
   "metadata": {},
   "outputs": [
    {
     "ename": "LoadError",
     "evalue": "MethodError: no method matching draw(::Geant4.G4UnionSolidAllocated)\n\n\u001b[0mClosest candidates are:\n\u001b[0m  draw()\n\u001b[0m\u001b[90m   @\u001b[39m \u001b[35mGeant4\u001b[39m \u001b[90m~/.julia/packages/Geant4/PERab/src/\u001b[39m\u001b[90m\u001b[4mGeant4.jl:43\u001b[24m\u001b[39m\n",
     "output_type": "error",
     "traceback": [
      "MethodError: no method matching draw(::Geant4.G4UnionSolidAllocated)\n\n\u001b[0mClosest candidates are:\n\u001b[0m  draw()\n\u001b[0m\u001b[90m   @\u001b[39m \u001b[35mGeant4\u001b[39m \u001b[90m~/.julia/packages/Geant4/PERab/src/\u001b[39m\u001b[90m\u001b[4mGeant4.jl:43\u001b[24m\u001b[39m\n",
      "",
      "Stacktrace:",
      " [1] top-level scope",
      "   @ In[5]:4"
     ]
    }
   ],
   "source": [
    "box = G4Box(\"box\", 1, 1, 4)\n",
    "t = G4Transform3D(G4RotationMatrix(0,π/2,0), G4ThreeVector())\n",
    "cross = G4UnionSolid(\"cross\", CxxPtr(box), CxxPtr(box), t)\n",
    "img = draw(cross)\n",
    "isnothing(img) || display(\"image/png\", img)"
   ]
  },
  {
   "cell_type": "markdown",
   "metadata": {},
   "source": [
    "Lets use some geometry functionality to experiment with the created solid"
   ]
  },
  {
   "cell_type": "code",
   "execution_count": 6,
   "metadata": {},
   "outputs": [
    {
     "ename": "LoadError",
     "evalue": "MethodError: no method matching *(::Geant4.CLHEP!Hep3VectorAllocated, ::SVector{3, Float64})\n\n\u001b[0mClosest candidates are:\n\u001b[0m  *(::Any, ::Any, \u001b[91m::Any\u001b[39m, \u001b[91m::Any...\u001b[39m)\n\u001b[0m\u001b[90m   @\u001b[39m \u001b[90mBase\u001b[39m \u001b[90m\u001b[4moperators.jl:587\u001b[24m\u001b[39m\n\u001b[0m  *(\u001b[91m::LinearAlgebra.UniformScaling\u001b[39m, ::Union{StaticArray{Tuple{N}, T, 1} where {N, T}, StaticArray{Tuple{N, M}, T, 2} where {N, M, T}})\n\u001b[0m\u001b[90m   @\u001b[39m \u001b[32mStaticArrays\u001b[39m \u001b[90m~/.julia/packages/StaticArrays/EHHaF/src/\u001b[39m\u001b[90m\u001b[4mlinalg.jl:43\u001b[24m\u001b[39m\n\u001b[0m  *(\u001b[91m::LinearAlgebra.UniformScaling\u001b[39m, ::AbstractVecOrMat)\n\u001b[0m\u001b[90m   @\u001b[39m \u001b[33mLinearAlgebra\u001b[39m \u001b[90m/Applications/Julia-1.10.app/Contents/Resources/julia/share/julia/stdlib/v1.10/LinearAlgebra/src/\u001b[39m\u001b[90m\u001b[4muniformscaling.jl:262\u001b[24m\u001b[39m\n\u001b[0m  ...\n",
     "output_type": "error",
     "traceback": [
      "MethodError: no method matching *(::Geant4.CLHEP!Hep3VectorAllocated, ::SVector{3, Float64})\n\n\u001b[0mClosest candidates are:\n\u001b[0m  *(::Any, ::Any, \u001b[91m::Any\u001b[39m, \u001b[91m::Any...\u001b[39m)\n\u001b[0m\u001b[90m   @\u001b[39m \u001b[90mBase\u001b[39m \u001b[90m\u001b[4moperators.jl:587\u001b[24m\u001b[39m\n\u001b[0m  *(\u001b[91m::LinearAlgebra.UniformScaling\u001b[39m, ::Union{StaticArray{Tuple{N}, T, 1} where {N, T}, StaticArray{Tuple{N, M}, T, 2} where {N, M, T}})\n\u001b[0m\u001b[90m   @\u001b[39m \u001b[32mStaticArrays\u001b[39m \u001b[90m~/.julia/packages/StaticArrays/EHHaF/src/\u001b[39m\u001b[90m\u001b[4mlinalg.jl:43\u001b[24m\u001b[39m\n\u001b[0m  *(\u001b[91m::LinearAlgebra.UniformScaling\u001b[39m, ::AbstractVecOrMat)\n\u001b[0m\u001b[90m   @\u001b[39m \u001b[33mLinearAlgebra\u001b[39m \u001b[90m/Applications/Julia-1.10.app/Contents/Resources/julia/share/julia/stdlib/v1.10/LinearAlgebra/src/\u001b[39m\u001b[90m\u001b[4muniformscaling.jl:262\u001b[24m\u001b[39m\n\u001b[0m  ...\n",
      "",
      "Stacktrace:",
      " [1] (::var\"#1#2\")(rp::SVector{3, Float64})",
      "   @ Main ./none:0",
      " [2] iterate",
      "   @ ./generator.jl:47 [inlined]",
      " [3] iterate(::Base.Iterators.Filter{var\"#4#6\", Base.Generator{Vector{SVector{3, Float64}}, var\"#1#2\"}})",
      "   @ Base.Iterators ./iterators.jl:516",
      " [4] iterate",
      "   @ ./generator.jl:44 [inlined]",
      " [5] grow_to!(dest::Vector{SVector{3, Float64}}, itr::Base.Generator{Base.Iterators.Filter{var\"#4#6\", Base.Generator{Vector{SVector{3, Float64}}, var\"#1#2\"}}, var\"#3#5\"})",
      "   @ Base ./array.jl:907",
      " [6] collect(itr::Base.Generator{Base.Iterators.Filter{var\"#4#6\", Base.Generator{Vector{SVector{3, Float64}}, var\"#1#2\"}}, var\"#3#5\"})",
      "   @ Base ./array.jl:831",
      " [7] top-level scope",
      "   @ In[6]:9"
     ]
    }
   ],
   "source": [
    "using StaticArrays\n",
    "const Vector3 = SVector{3}\n",
    "N = 100000\n",
    "lo = G4ThreeVector()\n",
    "hi = G4ThreeVector()\n",
    "BoundingLimits(cross, lo, hi)                                  # get the bounding limits\n",
    "dim = hi - lo                 \n",
    "points = (lo + dim * rp for rp in rand(Vector3{Float64}, N))   # random points within the limits \n",
    "result = [Vector3{Float64}(x(p), y(p), z(p)) for p in points if Geant4.Inside(cross, p) == kInside]\n",
    "img = scatter(result, color=:black, markersize=1)\n",
    "display(\"image/png\", img)"
   ]
  },
  {
   "cell_type": "markdown",
   "metadata": {},
   "source": [
    "## Defining Materials\n",
    "In nature, materials (chemical compounds, mixtures) are made of elements, and elements are made of isotopes. Geant4 offers the 3 classes `G4Isotope`, `G4Element` and `G4Material`to define from first principles any material. However is often that pre-defined materials are available in Geant4 from the [NIST database](https://www.nist.gov/pml/atomic-weights-and-isotopic-compositions-relative-atomic-masses) of elements and isotope compositions.\n",
    "\n",
    "This is the easiest way to get a material."
   ]
  },
  {
   "cell_type": "code",
   "execution_count": 7,
   "metadata": {},
   "outputs": [
    {
     "name": "stdout",
     "output_type": "stream",
     "text": [
      "GetDensity(m_air) / (g / cm3) = 0.0012047899999999999\n",
      "GetDensity(m_water) / (g / cm3) = 1.0\n"
     ]
    },
    {
     "data": {
      "text/plain": [
       "1.0"
      ]
     },
     "execution_count": 7,
     "metadata": {},
     "output_type": "execute_result"
    }
   ],
   "source": [
    "nist = G4NistManager!Instance()\n",
    "m_air = FindOrBuildMaterial(nist, \"G4_AIR\")\n",
    "@show GetDensity(m_air)/(g/cm3)\n",
    "\n",
    "m_water = FindOrBuildMaterial(nist, \"G4_WATER\")\n",
    "@show GetDensity(m_water)/(g/cm3)\n"
   ]
  },
  {
   "cell_type": "markdown",
   "metadata": {},
   "source": [
    "or alternatively we can construct it from isotopes"
   ]
  },
  {
   "cell_type": "code",
   "execution_count": 8,
   "metadata": {},
   "outputs": [
    {
     "name": "stdout",
     "output_type": "stream",
     "text": [
      "GetDensity(m_eU) / (g / cm3) = 19.1\n",
      "GetA(m_eU) / (g / mole) = 237.72800000000004\n"
     ]
    },
    {
     "data": {
      "text/plain": [
       "237.72800000000004"
      ]
     },
     "execution_count": 8,
     "metadata": {},
     "output_type": "execute_result"
    }
   ],
   "source": [
    "U5 = G4Isotope(\"U235\", z=92, n=235, a=235.01*g/mole)\n",
    "U8 = G4Isotope(\"U238\", z=92, n=238, a=238.03*g/mole)\n",
    "\n",
    "U  = G4Element(\"Enriched Uranium\", \"U\", 2)\n",
    "AddIsotope(U, move!(U8), 0.90)       # Please notice the use of move!() to transfer ownership \n",
    "AddIsotope(U, move!(U5), 0.10)       # Please notice the use of move!() to transfer ownership \n",
    "\n",
    "m_eU =  G4Material(\"enriched U\", density= 19.1*g/cm3, ncomponents=1)\n",
    "AddElement(m_eU, move!(U), natoms=1) # Please notice the use of move!() to transfer ownership \n",
    "\n",
    "@show GetDensity(m_eU)/(g/cm3)\n",
    "@show GetA(m_eU)/(g/mole)\n"
   ]
  },
  {
   "cell_type": "markdown",
   "metadata": {},
   "source": [
    "or build a molecule"
   ]
  },
  {
   "cell_type": "code",
   "execution_count": 9,
   "metadata": {},
   "outputs": [
    {
     "name": "stdout",
     "output_type": "stream",
     "text": [
      "GetRadlen(Lu₂SiO₅) / cm = 1.1427324172087883\n"
     ]
    },
    {
     "data": {
      "text/plain": [
       "1.1427324172087883"
      ]
     },
     "execution_count": 9,
     "metadata": {},
     "output_type": "execute_result"
    }
   ],
   "source": [
    "O = FindOrBuildElement(nist, \"O\")\n",
    "Si = FindOrBuildElement(nist, \"Si\")\n",
    "Lu = FindOrBuildElement(nist, \"Lu\")\n",
    "Lu₂SiO₅ = G4Material(\"Lu2SiO5\", density=7.4*g/cm3, ncomponents=3)\n",
    "AddElement(Lu₂SiO₅, Lu, natoms=2)  # no need to transfer ownership, we just got a pointer not constructed\n",
    "AddElement(Lu₂SiO₅, Si, natoms=1)  \n",
    "AddElement(Lu₂SiO₅, O, natoms=5)\n",
    "@show GetRadlen(Lu₂SiO₅)/cm"
   ]
  },
  {
   "cell_type": "markdown",
   "metadata": {},
   "source": [
    "## Defining Logical Volumes\n",
    "The Logical Volume manages the information associated with detector elements represented by a given Solid and Material, independently from its physical position in the detector.\n",
    "\n",
    "To create a G4LogicalVolume just provide a solid and a material"
   ]
  },
  {
   "cell_type": "code",
   "execution_count": 10,
   "metadata": {},
   "outputs": [
    {
     "data": {
      "text/plain": [
       "Geant4.G4LogicalVolumeAllocated(Ptr{Nothing} @0x00000001165ac710)"
      ]
     },
     "execution_count": 10,
     "metadata": {},
     "output_type": "execute_result"
    }
   ],
   "source": [
    "cryst_dX = 6cm\n",
    "cryst_dY = 6cm\n",
    "cryst_dZ = 3cm\n",
    "gap = 0.5mm \n",
    "\n",
    "dX = cryst_dX - gap\n",
    "dY = cryst_dY - gap\n",
    "solidCryst = G4Box(\"crystal\", dX/2, dY/2, cryst_dZ/2)\n",
    "logicCryst = G4LogicalVolume(solidCryst, CxxPtr(Lu₂SiO₅), \"CrystalLV\")\n"
   ]
  },
  {
   "cell_type": "markdown",
   "metadata": {},
   "source": [
    "We can also draw a logical volume"
   ]
  },
  {
   "cell_type": "code",
   "execution_count": 11,
   "metadata": {},
   "outputs": [
    {
     "ename": "LoadError",
     "evalue": "MethodError: no method matching draw(::Geant4.G4LogicalVolumeAllocated)\n\n\u001b[0mClosest candidates are:\n\u001b[0m  draw()\n\u001b[0m\u001b[90m   @\u001b[39m \u001b[35mGeant4\u001b[39m \u001b[90m~/.julia/packages/Geant4/PERab/src/\u001b[39m\u001b[90m\u001b[4mGeant4.jl:43\u001b[24m\u001b[39m\n",
     "output_type": "error",
     "traceback": [
      "MethodError: no method matching draw(::Geant4.G4LogicalVolumeAllocated)\n\n\u001b[0mClosest candidates are:\n\u001b[0m  draw()\n\u001b[0m\u001b[90m   @\u001b[39m \u001b[35mGeant4\u001b[39m \u001b[90m~/.julia/packages/Geant4/PERab/src/\u001b[39m\u001b[90m\u001b[4mGeant4.jl:43\u001b[24m\u001b[39m\n",
      "",
      "Stacktrace:",
      " [1] top-level scope",
      "   @ In[11]:1"
     ]
    }
   ],
   "source": [
    "img = draw(logicCryst)\n",
    "display(\"image/png\", img)"
   ]
  },
  {
   "cell_type": "markdown",
   "metadata": {},
   "source": [
    "## Placing Logical Volumes\n",
    "Placing a logical volume (solid+material) inside a mother volume is done by creating a `G4PhysicalVolume`."
   ]
  },
  {
   "cell_type": "code",
   "execution_count": 12,
   "metadata": {},
   "outputs": [],
   "source": [
    "nb_cryst = 32\n",
    "Δϕ = 2π/nb_cryst \n",
    "ring_R1 = 0.5 * cryst_dY/tan(Δϕ/2)\n",
    "ring_R2 = (ring_R1+cryst_dZ)/cos(Δϕ/2)\n",
    "\n",
    "# mother volume\n",
    "solidRing = G4Tubs(\"Ring\", ring_R1, ring_R2, cryst_dX/2, 0., 2π)\n",
    "logicRing = G4LogicalVolume(solidRing, m_air, \"Ring\")\n",
    "\n",
    "# placing the crystals\n",
    "for icrys in 0:nb_cryst-1\n",
    "    ϕ = icrys*Δϕ\n",
    "    rotm  = G4RotationMatrix()\n",
    "    rotateY(rotm, π/2)\n",
    "    rotateZ(rotm, ϕ)\n",
    "    position = (ring_R1 + cryst_dZ/2) * G4ThreeVector(cos(ϕ), sin(ϕ), 0)\n",
    "    transform = G4Transform3D(rotm, position)\n",
    "\n",
    "    G4PVPlacement(transform,             # rotation,position\n",
    "                  logicCryst,            # its logical volume\n",
    "                  \"crystal\",             # its name\n",
    "                  logicRing,             # its mother  volume\n",
    "                  false,                 # no boolean operation\n",
    "                  icrys,                 # copy number\n",
    "                  false)                 # checking overlaps\n",
    "  end"
   ]
  },
  {
   "cell_type": "markdown",
   "metadata": {},
   "source": [
    "A draw it"
   ]
  },
  {
   "cell_type": "code",
   "execution_count": 13,
   "metadata": {},
   "outputs": [
    {
     "ename": "LoadError",
     "evalue": "MethodError: no method matching draw(::Geant4.G4LogicalVolumeAllocated)\n\n\u001b[0mClosest candidates are:\n\u001b[0m  draw()\n\u001b[0m\u001b[90m   @\u001b[39m \u001b[35mGeant4\u001b[39m \u001b[90m~/.julia/packages/Geant4/PERab/src/\u001b[39m\u001b[90m\u001b[4mGeant4.jl:43\u001b[24m\u001b[39m\n",
     "output_type": "error",
     "traceback": [
      "MethodError: no method matching draw(::Geant4.G4LogicalVolumeAllocated)\n\n\u001b[0mClosest candidates are:\n\u001b[0m  draw()\n\u001b[0m\u001b[90m   @\u001b[39m \u001b[35mGeant4\u001b[39m \u001b[90m~/.julia/packages/Geant4/PERab/src/\u001b[39m\u001b[90m\u001b[4mGeant4.jl:43\u001b[24m\u001b[39m\n",
      "",
      "Stacktrace:",
      " [1] top-level scope",
      "   @ In[13]:1"
     ]
    }
   ],
   "source": [
    "img = draw(logicRing)\n",
    "display(\"image/png\", img)"
   ]
  },
  {
   "cell_type": "markdown",
   "metadata": {},
   "source": [
    "## Building the full detector"
   ]
  },
  {
   "cell_type": "markdown",
   "metadata": {},
   "source": [
    "The detector construction is triggered by the `G4RunManager` at the right moment during the initialization steps. For this the user needs to provide a *detector constructor* function that will be called by the toolkit. The signature of the function is \n",
    "```\n",
    "function construct(det::<DetectorParameters>)::CxxPtr{G4VPhysicalVolume}\n",
    "   ...\n",
    "   return world\n",
    "end\n",
    "```\n",
    "It receives an instance of a user defined structure with all the parameters of the detector and returns a 'pointer' to the 'world' physical volume. The user needs to declare the constructor function by defining a function specific to the Parameters structure like this: \n",
    "```\n",
    "Geant4.getConstructor(::<DetectorParameters>)::Function = construct\n",
    "```\n",
    "Here is a an  example:"
   ]
  },
  {
   "cell_type": "code",
   "execution_count": 14,
   "metadata": {},
   "outputs": [
    {
     "ename": "LoadError",
     "evalue": "ArgumentError: Package Parameters not found in current path.\n- Run `import Pkg; Pkg.add(\"Parameters\")` to install the Parameters package.",
     "output_type": "error",
     "traceback": [
      "ArgumentError: Package Parameters not found in current path.\n- Run `import Pkg; Pkg.add(\"Parameters\")` to install the Parameters package.",
      "",
      "Stacktrace:",
      " [1] macro expansion",
      "   @ Base ./loading.jl:1766 [inlined]",
      " [2] macro expansion",
      "   @ Base ./lock.jl:267 [inlined]",
      " [3] __require(into::Module, mod::Symbol)",
      "   @ Base ./loading.jl:1747",
      " [4] #invoke_in_world#3",
      "   @ Base ./essentials.jl:921 [inlined]",
      " [5] invoke_in_world",
      "   @ Base ./essentials.jl:918 [inlined]",
      " [6] require(into::Module, mod::Symbol)",
      "   @ Base ./loading.jl:1740"
     ]
    }
   ],
   "source": [
    "using Parameters   # we use the Parameters package to be able to define structure with keyword arguments with defaults\n",
    "\n",
    "@with_kw mutable struct DetectorB3 <: G4JLDetector\n",
    "    cryst_dX::Float64 = 6cm\n",
    "    cryst_dY::Float64 = 6cm\n",
    "    cryst_dZ::Float64 = 3cm\n",
    "    nb_cryst::Int32 = 32\n",
    "    nb_rings::Int32 = 9\n",
    "    patient_radius::Float64 = 8cm\n",
    "    patient_dZ::Float64 = 10cm\n",
    "    checkOverlaps::Bool = false\n",
    "end\n",
    "\n",
    "detector = DetectorB3(nb_cryst = 64)"
   ]
  },
  {
   "cell_type": "markdown",
   "metadata": {},
   "source": [
    "then we define the detector constructor function which includes the material definitions, and eventually the visualization attributes"
   ]
  },
  {
   "cell_type": "code",
   "execution_count": 15,
   "metadata": {},
   "outputs": [
    {
     "ename": "LoadError",
     "evalue": "UndefVarError: `DetectorB3` not defined",
     "output_type": "error",
     "traceback": [
      "UndefVarError: `DetectorB3` not defined",
      "",
      "Stacktrace:",
      " [1] top-level scope",
      "   @ In[15]:1"
     ]
    }
   ],
   "source": [
    "function construct(det::DetectorB3)::G4VPhysicalVolume\n",
    "    (; cryst_dX, cryst_dY, cryst_dZ, nb_cryst, nb_rings, patient_radius, checkOverlaps, patient_dZ) = det\n",
    "\n",
    "    #---Derived parameters-------------------------------------------------------------------------\n",
    "    dPhi = 2π/nb_cryst \n",
    "    half_dPhi = 0.5*dPhi\n",
    "    cosdPhi = cos(half_dPhi)\n",
    "    tandPhi = tan(half_dPhi)\n",
    "    ring_R1 = 0.5*cryst_dY/tandPhi\n",
    "    ring_R2 = (ring_R1+cryst_dZ)/cosdPhi\n",
    "    detector_dZ = nb_rings*cryst_dX\n",
    "    world_sizeXY = 2.4*ring_R2\n",
    "    world_sizeZ  = 1.2*detector_dZ\n",
    "  \n",
    "    #---Materials----------------------------------------------------------------------------------\n",
    "    nist = G4NistManager!Instance()\n",
    "    default_mat = FindOrBuildMaterial(nist, \"G4_AIR\")\n",
    "    cryst_mat   = FindOrBuildMaterial(nist, \"Lu2SiO5\")\n",
    "    \n",
    "    #---Volumes------------------------------------------------------------------------------------\n",
    "    solidWorldS = G4Box(\"world\", world_sizeXY/2, world_sizeXY/2, world_sizeZ/2)\n",
    "    logicWorld  = G4LogicalVolume(solidWorldS, default_mat, \"World\")\n",
    "    physWorld   = G4PVPlacement(nothing, \n",
    "                                G4ThreeVector(),                # at (0,0,0)\n",
    "                                logicWorld,                     # its logical volume\n",
    "                                \"World\",                        # its name\n",
    "                                nothing,                        # its mother  volume\n",
    "                                false,                          # no boolean operations\n",
    "                                0,                              # copy number\n",
    "                                checkOverlaps)                  # checking overlaps\n",
    "\n",
    "    solidRing = G4Tubs(\"Ring\", ring_R1, ring_R2, cryst_dX/2, 0., 2π)\n",
    "    logicRing = G4LogicalVolume(solidRing, default_mat, \"Ring\")\n",
    "\n",
    "    gap = 0.5mm \n",
    "    dX = cryst_dX - gap\n",
    "    dY = cryst_dY - gap\n",
    "    solidCryst = G4Box(\"crystal\", dX/2, dY/2, cryst_dZ/2)\n",
    "    logicCryst = G4LogicalVolume(solidCryst, cryst_mat, \"CrystalLV\")\n",
    "\n",
    "    # place crystals within a ring\n",
    "    for icrys in 0:nb_cryst-1\n",
    "      ϕ = icrys*dPhi\n",
    "      rotm  = G4RotationMatrix()\n",
    "      rotateY(rotm, π/2)\n",
    "      rotateZ(rotm, ϕ)\n",
    "      position = (ring_R1 + cryst_dZ/2) * G4ThreeVector(cos(ϕ), sin(ϕ), 0)\n",
    "      transform = G4Transform3D(rotm, position)\n",
    "  \n",
    "      G4PVPlacement(transform,             # rotation,position\n",
    "                    logicCryst,            # its logical volume\n",
    "                    \"crystal\",             # its name\n",
    "                    logicRing,             # its mother  volume\n",
    "                    false,                 # no boolean operation\n",
    "                    icrys,                 # copy number\n",
    "                    checkOverlaps)         # checking overlaps\n",
    "    end\n",
    "  \n",
    "    # full detector\n",
    "    solidDetector = G4Tubs(\"Detector\", ring_R1, ring_R2, detector_dZ/2, 0., 2π)\n",
    "    logicDetector = G4LogicalVolume(solidDetector, default_mat, \"Detector\")\n",
    "\n",
    "    # place rings within detector\n",
    "    OG = -0.5*(detector_dZ + cryst_dX)\n",
    "    for iring in 0:nb_rings-1\n",
    "      OG += cryst_dX\n",
    "      G4PVPlacement(nothing,                  # no rotation\n",
    "                    G4ThreeVector(0, 0, OG),  # position\n",
    "                    logicRing,                # its logical volume\n",
    "                    \"ring\",                   # its name\n",
    "                    logicDetector,            # its mother  volume\n",
    "                    false,                    # no boolean operation\n",
    "                    iring,                    # copy number\n",
    "                    checkOverlaps)            # checking overlaps\n",
    "    end\n",
    "    \n",
    "    # place detector in world\n",
    "    G4PVPlacement(nothing,                  # no rotation\n",
    "                  G4ThreeVector(),          # at (0,0,0)\n",
    "                  logicDetector,            # its logical volume\n",
    "                  \"Detector\",               # its name\n",
    "                  logicWorld,               # its mother  volume\n",
    "                  false,                    # no boolean operation\n",
    "                  0,                        # copy number\n",
    "                  checkOverlaps)            # checking overlaps\n",
    "\n",
    "    # patient\n",
    "    patient_mat = FindOrBuildMaterial(nist, \"G4_BRAIN_ICRP\")\n",
    "    solidPatient = G4Tubs(\"Patient\", 0., patient_radius, patient_dZ/2, 0., 2π)\n",
    "    logicPatient = G4LogicalVolume(solidPatient, patient_mat,\"PatientLV\")\n",
    "    G4PVPlacement(nothing  ,                # no rotation\n",
    "                  G4ThreeVector(),          # at (0,0,0)\n",
    "                  logicPatient,             # its logical volume\n",
    "                  \"Patient\",                # its name\n",
    "                  logicWorld,               # its mother  volume\n",
    "                  false,                    # no boolean operation\n",
    "                  0,                        # copy number\n",
    "                  checkOverlaps)            # checking overlaps\n",
    "                \n",
    "\n",
    "    #---Visualization attributes-------------------------------------------------------------------\n",
    "    SetVisAttributes(logicWorld, G4VisAttributes!GetInvisible())\n",
    "    SetVisAttributes(logicRing, G4VisAttributes!GetInvisible())\n",
    "    SetVisAttributes(logicDetector, G4VisAttributes!GetInvisible())\n",
    "\n",
    "    #---Always return the physical world-----------------------------------------------------------\n",
    "    return physWorld\n",
    "end"
   ]
  },
  {
   "cell_type": "code",
   "execution_count": 16,
   "metadata": {},
   "outputs": [
    {
     "ename": "LoadError",
     "evalue": "UndefVarError: `detector` not defined",
     "output_type": "error",
     "traceback": [
      "UndefVarError: `detector` not defined",
      "",
      "Stacktrace:",
      " [1] top-level scope",
      "   @ In[16]:1"
     ]
    }
   ],
   "source": [
    "world = construct(detector)"
   ]
  },
  {
   "cell_type": "code",
   "execution_count": 17,
   "metadata": {},
   "outputs": [
    {
     "ename": "LoadError",
     "evalue": "UndefVarError: `world` not defined",
     "output_type": "error",
     "traceback": [
      "UndefVarError: `world` not defined",
      "",
      "Stacktrace:",
      " [1] top-level scope",
      "   @ In[17]:1"
     ]
    }
   ],
   "source": [
    "img = draw(world)\n",
    "display(\"image/png\", img)"
   ]
  },
  {
   "cell_type": "code",
   "execution_count": 19,
   "metadata": {},
   "outputs": [
    {
     "name": "stdout",
     "output_type": "stream",
     "text": [
      "\u001b[32m\u001b[1mStatus\u001b[22m\u001b[39m `~/.julia/environments/v1.10/Project.toml`\n",
      "  \u001b[90m[861a8166] \u001b[39mCombinatorics v1.0.2\n",
      "\u001b[33m⌅\u001b[39m \u001b[90m[1f15a43c] \u001b[39mCxxWrap v0.14.2\n",
      "  \u001b[90m[a93c6f00] \u001b[39mDataFrames v1.6.1\n",
      "  \u001b[90m[eb32b910] \u001b[39mEDM4hep v0.3.1 `~/Development/EDM4hep.jl`\n",
      "  \u001b[90m[559df036] \u001b[39mGeant4 v0.1.13\n",
      "  \u001b[90m[7073ff75] \u001b[39mIJulia v1.24.2\n",
      "  \u001b[90m[f612022c] \u001b[39mLorentzVectorHEP v0.1.6\n",
      "\u001b[32m⌃\u001b[39m \u001b[90m[98572fba] \u001b[39mParquet2 v0.2.20\n",
      "\u001b[32m⌃\u001b[39m \u001b[90m[91a5bcdd] \u001b[39mPlots v1.40.1\n",
      "  \u001b[90m[90137ffa] \u001b[39mStaticArrays v1.9.3\n",
      "\u001b[32m⌃\u001b[39m \u001b[90m[3cd96dde] \u001b[39mUnROOT v0.10.22\n",
      "  \u001b[90m[2e619515] \u001b[39mExpat_jll v2.5.0+0\n",
      "  \u001b[90m[872b6946] \u001b[39mGeant4_jll v11.2.0+0\n",
      "  \u001b[90m[637d83c4] \u001b[39mXerces_jll v3.2.4+0\n",
      "\u001b[36m\u001b[1mInfo\u001b[22m\u001b[39m Packages marked with \u001b[32m⌃\u001b[39m and \u001b[33m⌅\u001b[39m have new versions available. Those with \u001b[32m⌃\u001b[39m may be upgradable, but those with \u001b[33m⌅\u001b[39m are restricted by compatibility constraints from upgrading. To see why use `status --outdated`\n"
     ]
    }
   ],
   "source": [
    "using Pkg\n",
    "Pkg.status()"
   ]
  },
  {
   "cell_type": "code",
   "execution_count": 20,
   "metadata": {},
   "outputs": [
    {
     "data": {
      "text/plain": [
       "Base.EnvDict with 59 entries:\n",
       "  \"XPC_FLAGS\"                     => \"0x0\"\n",
       "  \"COMMAND_MODE\"                  => \"unix2003\"\n",
       "  \"PATH\"                          => \"/Applications/Julia-1.10.app/Contents/Res…\n",
       "  \"PWD\"                           => \"/Users/mato/Development/Geant4.jl-tutoria…\n",
       "  \"DISPLAY\"                       => \"/private/tmp/com.apple.launchd.aM1UIhqIk4…\n",
       "  \"XPC_SERVICE_NAME\"              => \"0\"\n",
       "  \"HOMEBREW_PREFIX\"               => \"/opt/homebrew\"\n",
       "  \"TERM_PROGRAM\"                  => \"vscode\"\n",
       "  \"VSCODE_GIT_ASKPASS_NODE\"       => \"/Applications/Visual Studio Code.app/Cont…\n",
       "  \"SHELL\"                         => \"/bin/zsh\"\n",
       "  \"VSCODE_GIT_ASKPASS_MAIN\"       => \"/Applications/Visual Studio Code.app/Cont…\n",
       "  \"__CF_USER_TEXT_ENCODING\"       => \"0x1F5:0x0:0x0\"\n",
       "  \"VSCODE_INJECTION\"              => \"1\"\n",
       "  \"USER_ZDOTDIR\"                  => \"/Users/mato\"\n",
       "  \"GIT_ASKPASS\"                   => \"/Applications/Visual Studio Code.app/Cont…\n",
       "  \"__CFBundleIdentifier\"          => \"com.microsoft.VSCode\"\n",
       "  \"VSCODE_GIT_ASKPASS_EXTRA_ARGS\" => \"\"\n",
       "  \"VSCODE_GIT_IPC_HANDLE\"         => \"/var/folders/zz/gs4fh_9d5lx4k_q51gd7kvyr0…\n",
       "  \"TMPDIR\"                        => \"/var/folders/zz/gs4fh_9d5lx4k_q51gd7kvyr0…\n",
       "  \"MANPATH\"                       => \"/opt/homebrew/share/man:/usr/share/man:/u…\n",
       "  \"HOMEBREW_CELLAR\"               => \"/opt/homebrew/Cellar\"\n",
       "  \"CONDARC\"                       => \"/Users/mato/.julia/conda/3/aarch64/condar…\n",
       "  \"ORIGINAL_XDG_CURRENT_DESKTOP\"  => \"undefined\"\n",
       "  \"LANG\"                          => \"en_US.UTF-8\"\n",
       "  \"LOGNAME\"                       => \"mato\"\n",
       "  ⋮                               => ⋮"
      ]
     },
     "execution_count": 20,
     "metadata": {},
     "output_type": "execute_result"
    }
   ],
   "source": [
    "ENV"
   ]
  },
  {
   "cell_type": "code",
   "execution_count": null,
   "metadata": {
    "editable": true,
    "slideshow": {
     "slide_type": ""
    },
    "tags": []
   },
   "outputs": [],
   "source": []
  }
 ],
 "metadata": {
  "kernelspec": {
   "display_name": "Julia 1.10.0",
   "language": "julia",
   "name": "julia-1.10"
  },
  "language_info": {
   "file_extension": ".jl",
   "mimetype": "application/julia",
   "name": "julia",
   "version": "1.10.0"
  }
 },
 "nbformat": 4,
 "nbformat_minor": 4
}
