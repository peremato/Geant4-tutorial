{
 "cells": [
  {
   "cell_type": "markdown",
   "metadata": {},
   "source": [
    "# Defining Magnetic Field\n",
    "\n",
    "The user can define either an uniform magnetic field or a custom one."
   ]
  },
  {
   "cell_type": "code",
   "execution_count": null,
   "metadata": {},
   "outputs": [],
   "source": [
    "using Geant4\n",
    "using Geant4.SystemOfUnits\n",
    "using Geant4.PhysicalConstants"
   ]
  },
  {
   "cell_type": "markdown",
   "metadata": {},
   "source": [
    "\n",
    "\n",
    "## Uniform magnetic field\n",
    "The function`G4JLUniformMagField` creates a uniform magnetic field proving a **B** vector. For example: "
   ]
  },
  {
   "cell_type": "code",
   "execution_count": null,
   "metadata": {},
   "outputs": [],
   "source": [
    "bfield = G4JLUniformMagField(G4ThreeVector(0,0, 1.5tesla))"
   ]
  },
  {
   "cell_type": "markdown",
   "metadata": {},
   "source": [
    "The G4 toolkit will call the function `bfield.getfield(field::G4ThreeVector, pos::G4ThreeVector, data::G4JLFieldData)` each time that is needed. The method `getfield(bfield::G4JLMagneticField, pos::G4ThreeVector)` does it as well."
   ]
  },
  {
   "cell_type": "code",
   "execution_count": null,
   "metadata": {},
   "outputs": [],
   "source": [
    "# Will be moved to Geant4.jl\n",
    "function getfield(bfield::G4JLMagneticField, pos::G4ThreeVector)\n",
    "    B = G4ThreeVector()\n",
    "    bfield.getfield(B, pos, bfield.data)\n",
    "    return B\n",
    "end "
   ]
  },
  {
   "cell_type": "code",
   "execution_count": null,
   "metadata": {},
   "outputs": [],
   "source": [
    "@show getfield(bfield, G4ThreeVector(0,0,0))/tesla"
   ]
  },
  {
   "cell_type": "markdown",
   "metadata": {},
   "source": [
    "## Custom magnetic Field\n",
    " To define a custom field we need:\n",
    "- define first a user structure for the parameters that inherits from the abstract type `G4JLFieldData`\n",
    "- then, define a function with the signature `(result::G4ThreeVector, position::G4ThreeVector, params::G4JLFieldData)::Nothing`\n",
    "- and finally, with all this, instantiate the magnetic field calling the function \n",
    "  ```\n",
    "    G4JLMagneticField(<name>, <data>; getfield_method=<function>)\n",
    "  ```"
   ]
  },
  {
   "cell_type": "code",
   "execution_count": null,
   "metadata": {},
   "outputs": [],
   "source": [
    "using Geant4.SystemOfUnits: ampere\n",
    "using Parameters\n",
    "@with_kw mutable struct WireFieldData <: G4JLFieldData\n",
    "    I::Float64 = 1ampere\n",
    "    wiredir::G4ThreeVector = G4ThreeVector(0,0,1)\n",
    "end\n",
    "\n",
    "function getfield!(field::G4ThreeVector, pos::G4ThreeVector, data::WireFieldData)::Nothing\n",
    "    r = cross(data.wiredir, pos)\n",
    "    B = (mu0 * data.I)/(2π*mag2(r)) * r \n",
    "    assign(field, B)\n",
    "    return\n",
    "end\n",
    "\n",
    "bfield = G4JLMagneticField(\"WireField\", WireFieldData(); getfield_method=getfield!);"
   ]
  },
  {
   "cell_type": "code",
   "execution_count": null,
   "metadata": {},
   "outputs": [],
   "source": [
    "@show getfield(bfield, G4ThreeVector(1,0,0))/tesla\n",
    "@show getfield(bfield, G4ThreeVector(2,0,0))/tesla\n",
    "@show getfield(bfield, G4ThreeVector(3,0,0))/tesla\n",
    "\n"
   ]
  },
  {
   "cell_type": "code",
   "execution_count": null,
   "metadata": {},
   "outputs": [],
   "source": [
    "using Plots\n",
    "\n",
    "# Range of distances from the wire\n",
    "r_values = range(0.01m, stop=1m, length=100) # Distances from 0.01m to 1m\n",
    "\n",
    "# Calculate magnetic field strengths corresponding to each distance\n",
    "B_values = [ mag(getfield(bfield, G4ThreeVector(r,0,0)))/tesla for r in r_values]\n",
    "\n",
    "# Plot\n",
    "plot(r_values, B_values, xlabel=\"Distance (mm)\", ylabel=\"Magnetic Field (T)\", label=\"\", legend=:bottomright)\n",
    "title!(\"Magnetic Field vs. Distance from Wire\")"
   ]
  }
 ],
 "metadata": {
  "kernelspec": {
   "display_name": "Julia 1.10.0",
   "language": "julia",
   "name": "julia-1.10"
  },
  "language_info": {
   "file_extension": ".jl",
   "mimetype": "application/julia",
   "name": "julia",
   "version": "1.10.0"
  }
 },
 "nbformat": 4,
 "nbformat_minor": 2
}
