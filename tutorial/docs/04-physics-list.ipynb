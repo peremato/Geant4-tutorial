{
 "cells": [
  {
   "cell_type": "markdown",
   "metadata": {},
   "source": [
    "# Defining Physics Lists\n",
    "\n",
    "We need to provide a type to the `G4JLApplication` that represents the selected physics list. The easiest is to use one of the pre-packaged physics list (e.g. `FTFP_BERT`, `QGS_BIC`, `QBBC` and others can be added on demand). The toolkit will use the provided type to instantiate the physics list at the right moment during the initialization."
   ]
  },
  {
   "cell_type": "code",
   "execution_count": null,
   "metadata": {},
   "outputs": [],
   "source": [
    "using Geant4\n",
    "using Test"
   ]
  },
  {
   "cell_type": "markdown",
   "metadata": {},
   "source": [
    "## Using Standard Physics Lists\n",
    "Lets play a bit one of these pre-packaged physics list"
   ]
  },
  {
   "cell_type": "code",
   "execution_count": null,
   "metadata": {},
   "outputs": [],
   "source": [
    "fl = FTFP_BERT()\n",
    "@test fl isa G4VUserPhysicsList\n",
    "DumpList(fl)"
   ]
  },
  {
   "cell_type": "markdown",
   "metadata": {},
   "source": [
    "It is normal that created instance by hand is empty. It needs to be created by the `G4RunManager` during initialization. Let's try to do it."
   ]
  },
  {
   "cell_type": "code",
   "execution_count": null,
   "metadata": {},
   "outputs": [],
   "source": [
    "#---The next will be hidden in new versions-------------------------\n",
    "# create a empty world filled with vacumm\n",
    "struct World <: G4JLDetector end\n",
    "using Geant4.PhysicalConstants: universe_mean_density\n",
    "using Geant4.SystemOfUnits: g, mole, kelvin, pascal\n",
    "function bigbang(::World)\n",
    "    vacuum = G4Material(\"Vacuum\", z=1., a=1.01g/mole, density=universe_mean_density, state=kStateGas, \n",
    "                        temperature=2.73*kelvin, pressure=3.e-18*pascal)\n",
    "    G4PVPlacement(nothing, G4ThreeVector(),\n",
    "                  G4LogicalVolume(G4Box(\"world\", 1000,1000,1000), move!(vacuum), \"World\"),\n",
    "                  \"World\", nothing, false, 0, false)\n",
    "end  \n",
    "Geant4.getConstructor(::World) = bigbang\n",
    "#---end-------------------------------------------------------------"
   ]
  },
  {
   "cell_type": "code",
   "execution_count": null,
   "metadata": {},
   "outputs": [],
   "source": [
    "\n",
    "app = G4JLApplication(\n",
    "    detector = World(),               # should be the default\n",
    "    generator = G4JLGunGenerator(),   # should be the default\n",
    "    physics_type = FTFP_BERT\n",
    ")"
   ]
  },
  {
   "cell_type": "code",
   "execution_count": null,
   "metadata": {},
   "outputs": [],
   "source": [
    "configure(app)\n",
    "initialize(app)"
   ]
  },
  {
   "cell_type": "code",
   "execution_count": null,
   "metadata": {},
   "outputs": [],
   "source": [
    "DumpList(app.physics)"
   ]
  },
  {
   "cell_type": "markdown",
   "metadata": {},
   "source": [
    "## Defining a custom physics list\n",
    "The way we can achieve it is by defining a dummy `struct` inheriting from `G4VUserPhysicsList` that provides a default constructor. In the constructor we can build the physics list and return an object that inherits from `G4VUserPhysicsList` to comply with the interface.\n",
    "\n",
    "Here is an example:"
   ]
  },
  {
   "cell_type": "code",
   "execution_count": null,
   "metadata": {},
   "outputs": [],
   "source": [
    "ui`/run/verbose 1`\n",
    "app = nothing\n",
    "GC.gc()\n",
    "G4RunManager!GetRunManager()"
   ]
  },
  {
   "cell_type": "code",
   "execution_count": null,
   "metadata": {},
   "outputs": [],
   "source": [
    "struct MyPhysicsList <: G4VUserPhysicsList\n",
    "    function MyPhysicsList(verbose)\n",
    "        pl = G4VModularPhysicsList()\n",
    "        RegisterPhysics(pl, move!(G4EmStandardPhysics(verbose)))\n",
    "        RegisterPhysics(pl, move!(G4OpticalPhysics(verbose)))\n",
    "        return pl\n",
    "    end \n",
    "end"
   ]
  },
  {
   "cell_type": "code",
   "execution_count": null,
   "metadata": {},
   "outputs": [],
   "source": [
    "app = G4JLApplication(\n",
    "    detector = World(),               # should be the default\n",
    "    generator = G4JLGunGenerator(),   # should be the default\n",
    "    physics_type = MyPhysicsList,\n",
    ")\n",
    "configure(app)\n",
    "initialize(app)"
   ]
  },
  {
   "cell_type": "code",
   "execution_count": null,
   "metadata": {},
   "outputs": [],
   "source": [
    "DumpList(app.physics)"
   ]
  }
 ],
 "metadata": {
  "kernelspec": {
   "display_name": "Julia 1.10.0",
   "language": "julia",
   "name": "julia-1.10"
  },
  "language_info": {
   "file_extension": ".jl",
   "mimetype": "application/julia",
   "name": "julia",
   "version": "1.10.0"
  }
 },
 "nbformat": 4,
 "nbformat_minor": 2
}
