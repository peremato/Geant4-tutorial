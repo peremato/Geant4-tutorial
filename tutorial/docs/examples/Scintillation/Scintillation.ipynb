{
 "cells": [
  {
   "cell_type": "markdown",
   "metadata": {},
   "source": [
    "# Scintillating Detector Example\n",
    "\n",
    "Taken from the original at https://github.com/settwi/g4-basic-scintillation and adapted to the Geant4.jl interface\n",
    "\n",
    "This is an example with optical photons and customized physics list, as well as with a couple of sensitive detectors (for the crystal and silicon) and some simple analysis of the results."
   ]
  },
  {
   "cell_type": "code",
   "execution_count": null,
   "metadata": {},
   "outputs": [],
   "source": [
    "using Geant4\n",
    "using Geant4.PhysicalConstants\n",
    "using Geant4.SystemOfUnits\n",
    "using FHist, Printf, Plots\n",
    "#using CairoMakie, Rotations, IGLWrap_jll  # to force loading G4Vis extension"
   ]
  },
  {
   "cell_type": "markdown",
   "metadata": {},
   "source": [
    "## Detector Geometry\n",
    "The detector construction and parameters are in separated files. You also visualize the detector at this moment."
   ]
  },
  {
   "cell_type": "code",
   "execution_count": null,
   "metadata": {},
   "outputs": [],
   "source": [
    "include(joinpath(@__DIR__, \"Parameters.jl\"))\n",
    "include(joinpath(@__DIR__, \"Detector.jl\"))\n",
    "\n",
    "crysdet = ScintDetector()\n",
    "\n",
    "#world = scintConstruct(crysdet)\n",
    "#img = draw(world[])\n",
    "#display(\"image/png\", img)"
   ]
  },
  {
   "cell_type": "markdown",
   "metadata": {},
   "source": [
    "## Physics\n",
    "We construct a physics list starting from the pre-defined `FTFP_BERT` list, replacing the EM part with `G4EmStandardPhysics_option4`, and registering the optical photon physics `G4OpticalPhysics`. The constructor `ScintPhysicsList()` will be called by the toolkit at the adequate moment in the initialization of the application. "
   ]
  },
  {
   "cell_type": "code",
   "execution_count": null,
   "metadata": {},
   "outputs": [],
   "source": [
    "struct ScintPhysicsList <: G4VUserPhysicsList\n",
    "    function ScintPhysicsList(verbose)\n",
    "        pl = FTFP_BERT(verbose)\n",
    "        ReplacePhysics(pl, move!(G4EmStandardPhysics_option4(verbose)))\n",
    "        RegisterPhysics(pl, move!(G4OpticalPhysics(verbose)))\n",
    "        # need to enable scintillation\n",
    "        optpar = G4OpticalParameters!Instance()\n",
    "        SetProcessActivation(optpar, \"Scintillation\", true);\n",
    "        # I have found Cherenkov radiation to be error-prone\n",
    "        SetProcessActivation(optpar, \"Cerenkov\", true);\n",
    "        return pl\n",
    "    end \n",
    "end"
   ]
  },
  {
   "cell_type": "markdown",
   "metadata": {},
   "source": [
    "## Particle Gun\n",
    "The primary particle generator is a simple particle gun."
   ]
  },
  {
   "cell_type": "code",
   "execution_count": null,
   "metadata": {},
   "outputs": [],
   "source": [
    "particlegun = G4JLGunGenerator(particle = \"gamma\", \n",
    "                               energy = 30keV, \n",
    "                               direction = G4ThreeVector(0, 0, -1), \n",
    "                               position = G4ThreeVector(0, 0, 2cm))"
   ]
  },
  {
   "cell_type": "markdown",
   "metadata": {},
   "source": [
    "## Simulation Data\n",
    "It is normally filled by the user actions. We define a set of histograms using the FHist.jl package and set of counters. We need to provide a method `add!` to be able to reduce the output in case we run in multi-threading mode.\n",
    "\n",
    "We also provide a method to plot the results."
   ]
  },
  {
   "cell_type": "code",
   "execution_count": null,
   "metadata": {},
   "outputs": [],
   "source": [
    "#---Simulation Data-------------(normally filled by actions)---------------------------------------\n",
    "const Hist1D64 = Hist1D{Float64, Tuple{StepRangeLen{Float64, Base.TwicePrecision{Float64}, Base.TwicePrecision{Float64}, Int64}}}\n",
    "mutable struct ScintSimData <: G4JLSimulationData\n",
    "    scintPhotonsPerEvent::Int64\n",
    "    scintPhotonsHisto::Hist1D64\n",
    "    siHitsHisto::Hist1D64\n",
    "    crysEdepHisto::Hist1D64\n",
    "    ScintSimData() = new()\n",
    "end\n",
    "#---Addd function-----------------------------------------------------------------------------------\n",
    "function add!(x::ScintSimData, y::ScintSimData)\n",
    "    x.scintPhotonsHisto += y.scintPhotonsHisto\n",
    "    x.siHitsHisto += y.siHitsHisto\n",
    "    x.crysEdepHisto += y.crysEdepHisto\n",
    "end\n",
    "#---Plot Simulation data----------------------------------------------------------------------------\n",
    "function do_plot(data::ScintSimData)\n",
    "    (;scintPhotonsHisto, siHitsHisto, crysEdepHisto) = data\n",
    "    lay = @layout [° °; °]\n",
    "    plot(layout=lay, show=true, size=(1000,700))\n",
    "    plot!(subplot=1, scintPhotonsHisto, title=\"# scintillating photons/event\", xlabel=\"# photons\", show=true)\n",
    "    plot!(subplot=2, siHitsHisto, title=\"# hits in Silicon/event\", xlabel=\"# hits\")\n",
    "    plot!(subplot=3, crysEdepHisto, title=\"energy deposited in crystal\", xlabel=\"keV\")\n",
    "end"
   ]
  },
  {
   "cell_type": "markdown",
   "metadata": {},
   "source": [
    "## User Actions and Application definition"
   ]
  },
  {
   "cell_type": "code",
   "execution_count": null,
   "metadata": {},
   "outputs": [],
   "source": [
    "include(joinpath(@__DIR__, \"UserActions.jl\"))\n",
    "\n",
    "#--------------------------------------------------------------------------------------------------\n",
    "#---Create the Application-------------------------------------------------------------------------\n",
    "#--------------------------------------------------------------------------------------------------\n",
    "app = G4JLApplication(; detector = crysdet,                           # detector with parameters\n",
    "                        simdata = ScintSimData(),                     # simulation data structure\n",
    "                        generator = particlegun,                      # primary particle generator\n",
    "                        nthreads = 0,                                 # # of threads (0 = no MT)\n",
    "                        physics_type = ScintPhysicsList,              # what physics list to instantiate\n",
    "                        stepaction_method = stepping,                 # step action method\n",
    "                        begineventaction_method = beginevent,         # begin-event action (initialize per-event data)\n",
    "                        endeventaction_method = endevent,             # end-event action (fill histograms per event)\n",
    "                        beginrunaction_method = beginrun,             # begin run action\n",
    "                        endrunaction_method = endrun,                 # end run action\n",
    "                        sdetectors = [\"si_log\" => silicon_SD,\n",
    "                                      \"cebr3_log\" => crystal_SD]      # mapping of LVs to SDs (+ means multiple LVs with same name)\n",
    "                      );\n"
   ]
  },
  {
   "cell_type": "markdown",
   "metadata": {},
   "source": [
    "## Configure, Initialize"
   ]
  },
  {
   "cell_type": "code",
   "execution_count": null,
   "metadata": {},
   "outputs": [],
   "source": [
    "configure(app)\n",
    "initialize(app)"
   ]
  },
  {
   "cell_type": "markdown",
   "metadata": {},
   "source": [
    "## Run and Plot results"
   ]
  },
  {
   "cell_type": "code",
   "execution_count": null,
   "metadata": {},
   "outputs": [],
   "source": [
    "#ui`/tracking/verbose 1`\n",
    "beamOn(app,1000)\n",
    "\n",
    "do_plot(app.simdata[1])"
   ]
  },
  {
   "cell_type": "code",
   "execution_count": null,
   "metadata": {},
   "outputs": [],
   "source": []
  }
 ],
 "metadata": {
  "kernelspec": {
   "display_name": "Julia 1.10.0",
   "language": "julia",
   "name": "julia-1.10"
  },
  "language_info": {
   "file_extension": ".jl",
   "mimetype": "application/julia",
   "name": "julia",
   "version": "1.10.0"
  }
 },
 "nbformat": 4,
 "nbformat_minor": 2
}
