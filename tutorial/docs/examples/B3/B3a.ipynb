{
 "cells": [
  {
   "cell_type": "markdown",
   "metadata": {},
   "source": [
    "# Basic/B3a Example\n",
    "It is equivalent to the B3a example in Geant4 but re-written with a new more Julia friendly interface. See [README](https://raw.githubusercontent.com/Geant4/geant4/master/examples/basic/B3/README) file for the example.\n",
    "\n",
    "## Load modules\n",
    "In this example we only need to load the general Geant4 module and the SystemOfUnits one. Please note that not all the units are exported from the SystemOfUnits therefore we explicitly import the ones that ar used in this example. "
   ]
  },
  {
   "cell_type": "code",
   "execution_count": null,
   "metadata": {},
   "outputs": [],
   "source": [
    "using Geant4\n",
    "using Geant4.SystemOfUnits:  cm, cm3, mm, pGy, eplus, keV, g, eV"
   ]
  },
  {
   "cell_type": "markdown",
   "metadata": {},
   "source": [
    "## Define Detector\n",
    "We use here a separated file to define the geometry of the detector. It uses the G4 geometry classes, therefore is not too different from the C++ code found in the original example. "
   ]
  },
  {
   "cell_type": "code",
   "execution_count": null,
   "metadata": {},
   "outputs": [],
   "source": [
    "include(joinpath(@__DIR__, \"DetectorB3.jl\"))"
   ]
  },
  {
   "cell_type": "markdown",
   "metadata": {},
   "source": [
    "## Physics List\n",
    "We could use already made physics lists such as `FTFP_BERT` or `QGS_BIC`, but in this example we construct one by selecting the required physics. This is done by providing a struct type inheriting from the type `G4VUserPhysicsList`, and in the constructor construct a `G4VModularPhysicsList` instance add register the needed physics. We do not need to create an instance at this moment, we need just to provide the type to the `G4JLApplication`, which will instantiate it at the appropriate moment in the initialization sequence. "
   ]
  },
  {
   "cell_type": "code",
   "execution_count": null,
   "metadata": {},
   "outputs": [],
   "source": [
    "struct PhysicsB3a <: G4VUserPhysicsList\n",
    "    function PhysicsB3a(verbose)\n",
    "        pl = G4VModularPhysicsList()\n",
    "        RegisterPhysics(pl, move!(G4DecayPhysics(verbose)))           # Default physics\n",
    "        RegisterPhysics(pl, move!(G4EmStandardPhysics(verbose)))      # EM physics\n",
    "        RegisterPhysics(pl, move!(G4RadioactiveDecayPhysics(verbose))) # Radioactive decay\n",
    "        return pl\n",
    "    end\n",
    "end"
   ]
  },
  {
   "cell_type": "markdown",
   "metadata": {},
   "source": [
    "## Primary Particle Generator\n",
    "In this example the user provides a custom made primary particle generator using the `G4ParticleGun` class. A custom particle generator consists of three elements:\n",
    "- A custom data structure to hold the configuration parameters of the generator. In this case the struct `GeneratorB3aData` keeps the `Z`, `A`, `charge`, `direction`, etc.  of the ion that will be created.\n",
    "- A user function (`_init`) to initialize the generator called by the toolkit at initialization time. In this case, we crate an instance of `G4ParticleGun` that will be used later at each event to create the vertex and primary particle.\n",
    "- A user function (`_gen`) that will be called for each event. In this particular case we also do a late initialization of the creation of the ion since it needs to be done after the physics lists is configured.\n",
    "\n",
    "Both user functions receive the generate data with the configuration parameters as one of the input arguments. The final step is to instantiate an object of the type `G4JLPrimaryGenerator` with the configuration data and both user functions. \n",
    "Please note that user data has been declared with `@with_kw`, which provides a constructor with all keywords arguments defaults. See `Parameters.jl` module for the details.   "
   ]
  },
  {
   "cell_type": "code",
   "execution_count": null,
   "metadata": {},
   "outputs": [],
   "source": [
    "@with_kw mutable struct GeneratorB3aData <: G4JLGeneratorData\n",
    "    gun::Union{Nothing, CxxPtr{G4ParticleGun}} = nothing\n",
    "    ion::Union{Nothing, CxxPtr{G4ParticleDefinition}} = nothing\n",
    "    Z::Int64 = 9\n",
    "    A::Int64 = 18\n",
    "    ionCharge::Float64 = 0eplus\n",
    "    excitEnergy::Float64 = 0keV\n",
    "    position::G4ThreeVector = G4ThreeVector(4cm,4cm,4cm)\n",
    "    direction::G4ThreeVector = G4ThreeVector(1,0,0)\n",
    "end\n",
    "function GeneratorB3a(;kwargs...)\n",
    "    data = GeneratorB3aData(;kwargs...)\n",
    "    function _init(data::GeneratorB3aData, ::Any)\n",
    "        gun = data.gun = move!(G4ParticleGun())\n",
    "        SetParticleMomentumDirection(gun, G4ThreeVector(1,0,0))\n",
    "        SetParticleEnergy(gun, 1eV)\n",
    "    end\n",
    "    function _gen(evt::G4Event, data::GeneratorB3aData)::Nothing\n",
    "        if isnothing(data.ion)  # late initialize (after physics processes)\n",
    "            ion = data.ion = GetIon(data.Z, data.A, data.excitEnergy)\n",
    "            SetParticleDefinition(data.gun, ion)\n",
    "            SetParticleCharge(data.gun, data.ionCharge)\n",
    "        end\n",
    "        position = data.position + G4ThreeVector((rand()-0.5)*1cm, (rand()-0.5)*1cm, (rand()-0.5)*1cm)\n",
    "        SetParticlePosition(data.gun, position)\n",
    "        GeneratePrimaryVertex(data.gun, CxxPtr(evt))\n",
    "    end\n",
    "    G4JLPrimaryGenerator(\"GeneratorB3a\", data; init_method=_init, generate_method=_gen)\n",
    "end"
   ]
  },
  {
   "cell_type": "markdown",
   "metadata": {},
   "source": [
    "## Define the simulation data structures\n",
    "The main outcome of the simulation is a custom struct with what the user wants to obtain. This is typically a set of counters, histograms, etc. In this example we want to to collect the number of 'good' events (two crystals with energy deposited >500keV) and the accumulated dose in the 'patient' volume. These are the two members of the struct. In addition, if the user wants to run in MT mode, it needs to provide a `add!` function to reduce the results that has been obtained by the different worker threads. In this case is very simple, we just need to sum both counters.      "
   ]
  },
  {
   "cell_type": "code",
   "execution_count": null,
   "metadata": {},
   "outputs": [],
   "source": [
    "mutable struct SimDataB3a <: G4JLSimulationData\n",
    "    #---Run data\n",
    "    goodEvents::Int64\n",
    "    sumDose::Float64\n",
    "    SimDataB3a() = new(0,0)\n",
    "end\n",
    "function add!(x::SimDataB3a, y::SimDataB3a)\n",
    "    x.goodEvents += y.goodEvents\n",
    "    x.sumDose += y.sumDose\n",
    "end"
   ]
  },
  {
   "cell_type": "markdown",
   "metadata": {},
   "source": [
    "## Sensitive Detector Crystal\n",
    "We will collect the energy deposited in the crystals a 'sensitive detector'. This is done, similarly to the way we have created the custom primary particle generator by providing three elements:\n",
    "- A custom data structure with what data we want to collect every time a particle enters the 'sensitive detector'. In this case, we want to fill a dictionary with the crystal number and the accumulated deposited energy.\n",
    "- A custom function to initialize the data structure, that is called for each event. In this case, the user simply empties the dictionary. \n",
    "- A custom function to collect the information that is called for each particle entering the associated volume. In this function, the use navigates the G4 data structures to obtain the required information.\n",
    "\n",
    "Both functions receive the custom data structure as one of the arguments. The final step is to instance a `G4JLSensitiveDetector` with the 3 elements. "
   ]
  },
  {
   "cell_type": "code",
   "execution_count": null,
   "metadata": {},
   "outputs": [],
   "source": [
    "struct CrystalData <: G4JLSDData\n",
    "    edep::Dict{Int64,Float64} # (CopyNo, Edep)\n",
    "    CrystalData() = new(Dict{Int64,Float64}())\n",
    "end\n",
    "function c_initialize(::G4HCofThisEvent, data::CrystalData)::Nothing\n",
    "    empty!(data.edep)\n",
    "    return\n",
    "end\n",
    "function c_processHits(step::G4Step, ::G4TouchableHistory, data::CrystalData)::Bool\n",
    "    edep = step |> GetTotalEnergyDeposit\n",
    "    edep <  0. && return false\n",
    "    copy = step |> GetPreStepPoint |> GetTouchable |> GetCopyNumber\n",
    "    data.edep[copy] = haskey(data.edep, copy) ? data.edep[copy] + edep : edep\n",
    "    return true\n",
    "end\n",
    "#---Create SD instance\n",
    "crystalSD = G4JLSensitiveDetector(\"CrystalSD\", CrystalData();          # SD name an associated data are mandatory\n",
    "                                   processhits_method=c_processHits,   # process hist method (also mandatory)\n",
    "                                   initialize_method=c_initialize)     # intialize method\n"
   ]
  },
  {
   "cell_type": "markdown",
   "metadata": {},
   "source": [
    "## Sensitive Detector Patient\n",
    "This is similar to the previous one but for the 'patient' volume. In this case we simply sum the dose produced by each particle entering the volume."
   ]
  },
  {
   "cell_type": "code",
   "execution_count": null,
   "metadata": {},
   "outputs": [],
   "source": [
    "mutable struct PatientData <: G4JLSDData\n",
    "    dose::Float64\n",
    "    PatientData() = new(0)\n",
    "end\n",
    "function p_initialize(::G4HCofThisEvent, data::PatientData)::Nothing\n",
    "    data.dose = 0\n",
    "    return\n",
    "end\n",
    "function p_processHits(step::G4Step, ::G4TouchableHistory, data::PatientData)::Bool\n",
    "    edep = step |> GetTotalEnergyDeposit\n",
    "    edep <  0. && return false\n",
    "    volume  = step |> GetPreStepPoint |> GetTouchable |> GetSolid |> GetCubicVolume\n",
    "    density = step |> GetPreStepPoint |> GetMaterial |> GetDensity\n",
    "    data.dose += edep /(density * volume)\n",
    "    return true\n",
    "end\n",
    "#---Create SD instance\n",
    "patientSD = G4JLSensitiveDetector(\"PatientSD\", PatientData();           # SD name an associated data are mandatory\n",
    "                                   processhits_method=p_processHits,    # process hist method (also mandatory)\n",
    "                                   initialize_method=p_initialize)      # intialize method\n"
   ]
  },
  {
   "cell_type": "markdown",
   "metadata": {},
   "source": [
    "## User Actions\n",
    "User actions at the proper moment during the execution of the simulation. \n",
    "- Run actions: in this example we use the run actions to initialize the simulation data (beginrun) and print the results of the run (endrun). Please note that the end on run action is called by each worker thread, therefore we need to use the master one (thread_id == -1) to accumulate the results of all workers. This is done by calling the defined `add!` function. \n",
    "- Event action: the event action is used to get the data from the sensitive detector structure, which can be accessed with `getSDdata(app, \"CrystalSD\")` or `getSDdata(app, \"PatientSD\")` with `CrystalSD` and `PatientSD` being the names given to the sensitive detectors, and accumulate it in the simulation data. \n",
    "- Stacking action: it is used to kill neutrinos that we do not need to track.  "
   ]
  },
  {
   "cell_type": "code",
   "execution_count": null,
   "metadata": {},
   "outputs": [],
   "source": [
    "function beginrun(run::G4Run, app::G4JLApplication)::Nothing\n",
    "    data = getSIMdata(app)\n",
    "    data.goodEvents = 0\n",
    "    data.sumDose = 0.\n",
    "    nothing\n",
    "end\n",
    "\n",
    "function endrun(run::G4Run, app::G4JLApplication)::Nothing\n",
    "    partName = app.generator.data.gun |> GetParticleDefinition |> GetParticleName |> String\n",
    "    #---end run action is called for each workwer thread and the master one\n",
    "    if G4Threading!G4GetThreadId() == -1\n",
    "        data = app.simdata[1]\n",
    "        #---This is the master thread, so we need to add all the simuation results-----------------\n",
    "        for d in app.simdata[2:end]\n",
    "            add!(data, d)\n",
    "        end\n",
    "        noEvents = run |> GetNumberOfEvent\n",
    "        G4JL_println(\"\"\"\n",
    "                     --------------------End of Run------------------------------\n",
    "                      The run was $noEvents $partName Nb of 'good' e+ annihilations: $(data.goodEvents)\n",
    "                      Total dose in patient : $(data.sumDose/pGy) pGy\n",
    "                     ------------------------------------------------------------ \n",
    "                     \"\"\")\n",
    "    end\n",
    "end \n",
    "#---Event Action\n",
    "function endevent(evt::G4Event, app::G4JLApplication)\n",
    "    edep = getSDdata(app, \"CrystalSD\").edep\n",
    "    dose = getSDdata(app, \"PatientSD\").dose\n",
    "    data = getSIMdata(app)\n",
    "    if count(>(500keV), values(edep)) == 2\n",
    "        data.goodEvents += 1\n",
    "    end\n",
    "    data.sumDose += dose\n",
    "    return\n",
    "end\n",
    "#---Stacking Action\n",
    "let G4NeutrinoE, first=true\n",
    "global function stacking(trk::G4Track, app::G4JLApplication)::G4ClassificationOfNewTrack\n",
    "    if first  # emulation of C++ static \n",
    "        G4NeutrinoE = FindParticle(\"nu_e\")\n",
    "        first = false\n",
    "    end\n",
    "    (trk |> GetParentID) == 0 && return fUrgent               # keep primary particle\n",
    "    (trk |> GetDefinition) == G4NeutrinoE && return fKill     # kill neutrino\n",
    "    return fUrgent\n",
    "end\n",
    "end"
   ]
  },
  {
   "cell_type": "markdown",
   "metadata": {},
   "source": [
    "## Geant4 Application\n",
    "Finally we create an instance of `G4JLApplication` with all the defined elements: detector, simulation data, generator, type of the physics list, the user actions and the mapping between sensitive detector and volume in the geometry.  "
   ]
  },
  {
   "cell_type": "code",
   "execution_count": null,
   "metadata": {},
   "outputs": [],
   "source": [
    "#---Application------------------------------------------------------------------------------------\n",
    "app = G4JLApplication(; detector = DetectorB3(),                      # detector with parameters\n",
    "                        simdata = SimDataB3a(),                       # simulation data structure\n",
    "                        generator = GeneratorB3a(),                   # primary particle generator\n",
    "                        nthreads = 0,                                 # # of threads (0 = no MT)\n",
    "                        physics_type = PhysicsB3a,                    # what physics list to instantiate\n",
    "                        #evtdisplay =  display,                        # set event display \n",
    "                        endeventaction_method = endevent,             # end-event action (fill histograms per event)\n",
    "                        beginrunaction_method = beginrun,             # begin run action\n",
    "                        endrunaction_method = endrun,                 # end run action\n",
    "                        stackaction_method = stacking,                # track classification action\n",
    "                        sdetectors = [\"CrystalLV+\" => crystalSD,\n",
    "                                      \"PatientLV\" => patientSD]       # mapping of LVs to SDs (+ means multiple LVs with same name)\n",
    "                      );\n",
    "\n",
    "configure(app)\n",
    "initialize(app)"
   ]
  },
  {
   "cell_type": "markdown",
   "metadata": {},
   "source": [
    "## Display Detector\n",
    "In case we want to visualize the detector, the user can trigger the loading of the visualization extension by loading this 3 modules.  "
   ]
  },
  {
   "cell_type": "code",
   "execution_count": null,
   "metadata": {},
   "outputs": [],
   "source": [
    "using CairoMakie, Rotations, IGLWrap_jll  # to force loding G4Vis extension\n",
    "\n",
    "world = GetWorldVolume()\n",
    "img = draw(world)\n",
    "display(\"image/png\", img)"
   ]
  },
  {
   "cell_type": "markdown",
   "metadata": {},
   "source": [
    "Execute a run with 10000 events"
   ]
  },
  {
   "cell_type": "code",
   "execution_count": null,
   "metadata": {},
   "outputs": [],
   "source": [
    "beamOn(app, 10000)"
   ]
  },
  {
   "cell_type": "code",
   "execution_count": null,
   "metadata": {},
   "outputs": [],
   "source": []
  }
 ],
 "metadata": {
  "kernelspec": {
   "display_name": "Julia 1.10.0",
   "language": "julia",
   "name": "julia-1.10"
  },
  "language_info": {
   "file_extension": ".jl",
   "mimetype": "application/julia",
   "name": "julia",
   "version": "1.10.0"
  }
 },
 "nbformat": 4,
 "nbformat_minor": 2
}
