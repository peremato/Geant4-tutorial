{
 "cells": [
  {
   "cell_type": "markdown",
   "metadata": {},
   "source": [
    "# Sensitive Detectors\n",
    "The user can define sensitive detectors by defining a custom data structure and 3 callback functions, which will initialize, fill and dispose the defined data structure. Later, the instantiated sensitive detector would be associated to one or more logical volumes of the detector setup.\n",
    "\n",
    "Instantiating a `G4JLSensitiveDetector` will require the following arguments:\n",
    "- **name**. A string to identify the sensitive detector. No default.\n",
    "- **sd data**. A instance of a user defined `G4JLSDData` mutable data structure that will passed to each callback invocation.\n",
    "- **initialize method**. User method that is called at the beginning of each event. The signature is `(::B2aSDData, ::G4HCofThisEvent)::Nothing`.\n",
    "- **endOfEvent method**. User method that is called at the end of each event. The signature is `(::B2aSDData, ::G4HCofThisEvent)::Nothing`.\n",
    "- **processHits method**. User method that is called at simulation step that ends at the associated logical volume. The signature is `(::B2aSDData, ::G4Step, ::G4TouchableHistory)::Bool`. Consult the [G4Step](https://geant4.kek.jp/Reference/v11.1.1/classG4Step.html) reference manual to see what you can get from the G4Step. It returns true if a true hit is generated.\n"
   ]
  },
  {
   "cell_type": "code",
   "execution_count": null,
   "metadata": {},
   "outputs": [],
   "source": [
    "using Geant4\n",
    "using Geant4.SystemOfUnits"
   ]
  },
  {
   "cell_type": "markdown",
   "metadata": {},
   "source": [
    "\n",
    "\n",
    "## Sensitive Detector Data\n",
    "Let's define something very simple, for example collecting generated `Hits` (i.e deposit energies) on a sensitive detector.   "
   ]
  },
  {
   "cell_type": "code",
   "execution_count": null,
   "metadata": {},
   "outputs": [],
   "source": [
    "#---Hit structure------------------------------------------------------------------\n",
    "@enum HitType Si ScintCryst\n",
    "struct Hit\n",
    "    arrivalTime::Float64\n",
    "    depositedEnergy::Float64\n",
    "    hittype::HitType\n",
    "    position::G4ThreeVector\n",
    "    function Hit(time, pos, edep, typ)  # constructor\n",
    "        hit = new(time, edep, typ, G4ThreeVector())\n",
    "        assign(hit.position, pos)       # this is needed to fill a G4ThreeVector (in C++ = operator)\n",
    "        return hit\n",
    "    end\n",
    "end\n",
    "\n",
    "#--SD data structure---------------------------------------------------------------\n",
    "struct CrystalSDData <: G4JLSDData\n",
    "    hitcollection::Vector{Hit}      # define a hit collection\n",
    "    CrystalSDData() = new(Hit[])    # default constructor\n",
    "end"
   ]
  },
  {
   "cell_type": "markdown",
   "metadata": {},
   "source": [
    "## Sensitive Detector Functions"
   ]
  },
  {
   "cell_type": "code",
   "execution_count": null,
   "metadata": {},
   "outputs": [],
   "source": [
    "#---Initialize method------------------------------------------------------------------------------\n",
    "function crystal_initialize(::G4HCofThisEvent, data::CrystalSDData)::Nothing\n",
    "    empty!(data.hitcollection)                                # empty the hit collection at every event\n",
    "    return\n",
    "end\n",
    "#---Process Hit method-----------------------------------------------------------------------------\n",
    "function crystal_processHits(step::G4Step, ::G4TouchableHistory, data::CrystalSDData)::Bool\n",
    "    part = step |> GetTrack |> GetParticleDefinition\n",
    "    edep = step |> GetTotalEnergyDeposit\n",
    "    edep <  0. && return false\n",
    "    pos = step |> GetPostStepPoint |> GetPosition\n",
    "    push!(data.hitcollection, Hit(0., pos, edep, ScintCryst))  # fill the collection with a new Hit\n",
    "    return true\n",
    "end"
   ]
  },
  {
   "cell_type": "markdown",
   "metadata": {},
   "source": [
    "## SD Instance\n",
    "And finally construct the SD instance"
   ]
  },
  {
   "cell_type": "code",
   "execution_count": null,
   "metadata": {},
   "outputs": [],
   "source": [
    "#---Create SD instance-----------------------------------------------------------------------------\n",
    "crystal_sd = G4JLSensitiveDetector(\"Crystal_SD\", CrystalSDData();           # name an associated data are mandatory\n",
    "             processhits_method=crystal_processHits, # process hits method (also mandatory)\n",
    "             initialize_method=crystal_initialize)   # intialize method"
   ]
  },
  {
   "cell_type": "markdown",
   "metadata": {},
   "source": [
    "To test this created SD we will create a very simple detector geometry"
   ]
  },
  {
   "cell_type": "code",
   "execution_count": null,
   "metadata": {},
   "outputs": [],
   "source": [
    "struct SimpleDetector <: G4JLDetector ; end\n",
    "\n",
    "#---Materials----------------------------------------------------------------------------------\n",
    "nist = G4NistManager!Instance()\n",
    "m_air = FindOrBuildMaterial(nist, \"G4_AIR\")\n",
    "m_bgo = FindOrBuildMaterial(nist, \"G4_BGO\")\n",
    "\n",
    "#---Volumes------------------------------------------------------------------------------------\n",
    "worldS = G4Box(\"world\", 1m, 1m, 1m)\n",
    "worldLV = G4LogicalVolume(worldS, m_air, \"World\")\n",
    "worldPV = G4PVPlacement(nothing, G4ThreeVector(), worldLV, \"World\", nothing, false, 0, false)\n",
    "\n",
    "crystalS = G4Box(\"world\", 5cm, 5cm, 20cm)\n",
    "crystalLV = G4LogicalVolume(crystalS, m_bgo, \"Crystal\")\n",
    "crystalPV = G4PVPlacement(nothing, G4ThreeVector(), crystalLV, \"Crystal\", worldLV, false, 0, false)\n",
    "\n",
    "#---define getConstructor\n",
    "Geant4.getConstructor(::SimpleDetector)::Function = (::SimpleDetector) -> worldPV"
   ]
  },
  {
   "cell_type": "markdown",
   "metadata": {},
   "source": [
    "## Define Application\n",
    "We will use the end-of-event user action to see how many hits we have produced. We could also at this moment to store the hits of some statistical data for each event. Be aware that the function is called from different threads. It is the responsibility of the developer to ensure that the function es thread safe. The function `getSDdata` ensures that you get a copy of the SD data that corresponds to the running thread.  "
   ]
  },
  {
   "cell_type": "code",
   "execution_count": null,
   "metadata": {},
   "outputs": [],
   "source": [
    "#---End Event Action-------------------------------------------------------------------------------\n",
    "function endeventaction(evt::G4Event, app::G4JLApplication)\n",
    "    hits = getSDdata(app, \"Crystal_SD\").hitcollection\n",
    "    eventID = evt |> GetEventID\n",
    "    if eventID < 10 || eventID % 100 == 0\n",
    "      G4JL_println(\"Event: $eventID with $(length(hits)) hits stored in this event\")\n",
    "    end\n",
    "    return\n",
    "end"
   ]
  },
  {
   "cell_type": "markdown",
   "metadata": {},
   "source": [
    "We use a simple particle gun"
   ]
  },
  {
   "cell_type": "code",
   "execution_count": null,
   "metadata": {},
   "outputs": [],
   "source": [
    "\n",
    "particlegun = G4JLGunGenerator(particle = \"e-\", \n",
    "                               energy = 3GeV, \n",
    "                               direction = G4ThreeVector(0,0,1), \n",
    "                               position = G4ThreeVector(0,0,-1m))\n"
   ]
  },
  {
   "cell_type": "code",
   "execution_count": null,
   "metadata": {},
   "outputs": [],
   "source": [
    "#---Create the Application-------------------------------------------------------------------------\n",
    "app = G4JLApplication( detector = SimpleDetector(),                  # detector with parameters\n",
    "                       generator = particlegun,                      # primary particle generator\n",
    "                       nthreads = 4,                                 # number of threads (MT)\n",
    "                       physics_type = FTFP_BERT,                     # what physics list to instantiate\n",
    "                       endeventaction_method = endeventaction,       # end event action\n",
    "                       sdetectors = [\"Crystal\" => crystal_sd]        # mapping of LVs to SDs (+ means multiple LVs with same name)\n",
    "                      )\n",
    "configure(app)\n",
    "initialize(app)"
   ]
  },
  {
   "cell_type": "code",
   "execution_count": null,
   "metadata": {},
   "outputs": [],
   "source": [
    "beamOn(app,10)"
   ]
  },
  {
   "cell_type": "code",
   "execution_count": null,
   "metadata": {},
   "outputs": [],
   "source": []
  }
 ],
 "metadata": {
  "kernelspec": {
   "display_name": "Julia 1.10.0",
   "language": "julia",
   "name": "julia-1.10"
  },
  "language_info": {
   "file_extension": ".jl",
   "mimetype": "application/julia",
   "name": "julia",
   "version": "1.10.0"
  }
 },
 "nbformat": 4,
 "nbformat_minor": 2
}
