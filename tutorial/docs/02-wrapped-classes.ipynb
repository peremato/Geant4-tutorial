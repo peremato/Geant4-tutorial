{
 "cells": [
  {
   "cell_type": "markdown",
   "metadata": {
    "editable": true,
    "slideshow": {
     "slide_type": ""
    },
    "tags": []
   },
   "source": [
    "# Interacting with the wrapped classes\n",
    "\n",
    "The Geant4 C++ types are wrapped using the package [CxxWrap.jl](https://github.com/JuliaInterop/CxxWrap.jl). The Geant4 toolkit provides thousands of classes, of which only a sub-set are needed by developers to build applications. These are the ones that have wrapped. If you find missing classes, they can be added in subsequent releases of the Geant4.jl package.\n",
    "\n",
    "This tutorial shows the basics of interacting with the wrapped classes and an aperçu of built-in functionally provided by CxxWrap.jl to make the interoperation of Julia and C++ as smooth as possible.    \n",
    "\n",
    "The first thing we need to do is to import the `Geant4` module. All the wrapped Geant4 classes are implicitly exported since they are prefixed by `G4`, and therefore the chances of a name clash with other Julia symbols is minimized.\n",
    "\n",
    "## Object instantiation\n",
    "\n",
    "We start by instantiating some very simple object of type `G4Box`."
   ]
  },
  {
   "cell_type": "code",
   "execution_count": null,
   "metadata": {
    "editable": true,
    "slideshow": {
     "slide_type": ""
    },
    "tags": []
   },
   "outputs": [],
   "source": [
    "using Geant4\n",
    "box = G4Box(\"MyBox\", 1, 2, 3)  # the C++ contructor called G4Box (const G4String &pName, G4double pX, G4double pY, G4double pZ)"
   ]
  },
  {
   "cell_type": "markdown",
   "metadata": {},
   "source": [
    "Note that:\n",
    "- the C++ constructor that is called is `G4Box::G4Box(const G4String &pName, G4double pX, G4double pY, G4double pZ)`\n",
    "- the conversion of Julia type `Int64` to C++ `G4double` is implicit, as well as the `String` to `G4String` "
   ]
  },
  {
   "cell_type": "markdown",
   "metadata": {
    "editable": true,
    "slideshow": {
     "slide_type": ""
    },
    "tags": []
   },
   "source": [
    "The returned object is a pointer (`Ptr`) to the wrapped C++ object. You can see the printed memory address where the object resides. The `CxxWrap` package encodes (with the type `Geant4.G4BoxAllocated`) that the object has been allocated from Julia and will be by default garbage collected when not needed (i.e. no reference to it).  "
   ]
  },
  {
   "cell_type": "code",
   "execution_count": null,
   "metadata": {
    "editable": true,
    "slideshow": {
     "slide_type": ""
    },
    "tags": []
   },
   "outputs": [],
   "source": [
    "using Test                                  # the standard julia Test module is convenient here \n",
    "@test typeof(box) == Geant4.G4BoxAllocated  # the type is indeed a G4BoxAllocated\n",
    "@test box isa G4Box                         # but is also a G4Box (G4BoxAllocated inherits from G4Box)\n",
    "\n",
    "subtypes(G4Box)                             # this shows all the subtypes of G4Box"
   ]
  },
  {
   "cell_type": "markdown",
   "metadata": {},
   "source": [
    "The type hierarchy is as follows:\n",
    "```\n",
    "                +-------+\n",
    "                |  Any  |\n",
    "                +-------+\n",
    "                    |\n",
    "               +----------+\n",
    "               | G4VSolid |\n",
    "               +----------+\n",
    "                    |\n",
    "              +------------+\n",
    "              | G4CSCSolid |\n",
    "              +------------+\n",
    "                    |\n",
    "              +----------+\n",
    "              |  G4Box   |\n",
    "              +----------+\n",
    "          |---------|-----------|\n",
    "+------------------+ +-------------------+\n",
    "|  G4BoxAllocated  | | G4BoxDereferenced |\n",
    "+------------------+ +-------------------+\n",
    "```"
   ]
  },
  {
   "cell_type": "markdown",
   "metadata": {
    "editable": true,
    "slideshow": {
     "slide_type": ""
    },
    "tags": []
   },
   "source": [
    "To take the C++ pointer or the reference of a wrapped object, the `CxxWrap` module provides the functions `CxxPtr()` and `CxxRef()`. This is often needed to comply with the Geant4 C++ interfaces. It is easy to add additional methods to avoid the burden of having to pass arguments by pointer or reference. This will be done to improve usability of popular classes.\n",
    "The Julia type `CxxPtr{G4Box}` represents a C++ pointer to G4Box (`G4Box*` in C++). The same for `CxxRef{G4Box}` as a reference. "
   ]
  },
  {
   "cell_type": "code",
   "execution_count": null,
   "metadata": {
    "editable": true,
    "slideshow": {
     "slide_type": ""
    },
    "tags": []
   },
   "outputs": [],
   "source": [
    "r_box =  CxxRef(box)\n",
    "p_box =  CxxPtr(box)\n",
    "@test r_box isa CxxRef{G4Box}  # reference\n",
    "@test p_box isa CxxPtr{G4Box}  # pointer"
   ]
  },
  {
   "cell_type": "markdown",
   "metadata": {
    "editable": true,
    "slideshow": {
     "slide_type": ""
    },
    "tags": []
   },
   "source": [
    "The user can dereference a `CxxRef` or `CxxPtr` with the operator `[]`"
   ]
  },
  {
   "cell_type": "code",
   "execution_count": null,
   "metadata": {
    "editable": true,
    "slideshow": {
     "slide_type": ""
    },
    "tags": []
   },
   "outputs": [],
   "source": [
    "@show typeof(r_box[])\n",
    "@show typeof(p_box[])\n",
    "@test r_box[] == box\n",
    "@test p_box[] == box"
   ]
  },
  {
   "cell_type": "markdown",
   "metadata": {
    "editable": true,
    "slideshow": {
     "slide_type": ""
    },
    "tags": []
   },
   "source": [
    "### Calling object methods\n",
    "In Julia, `methods` are instances of functions of a given name, of which the multi-dispatch functionality will select the best one that matches the actual argument types. To call a C++ method of a class we need to pass the wrapped object as first argument."
   ]
  },
  {
   "cell_type": "code",
   "execution_count": null,
   "metadata": {
    "editable": true,
    "slideshow": {
     "slide_type": ""
    },
    "tags": []
   },
   "outputs": [],
   "source": [
    "vol = GetCubicVolume(box)   # In C++ this would be box.GetCubicVolume()\n",
    "@test vol == 8 * GetXHalfLength(box) * GetYHalfLength(box) * GetZHalfLength(box) "
   ]
  },
  {
   "cell_type": "markdown",
   "metadata": {
    "editable": true,
    "slideshow": {
     "slide_type": ""
    },
    "tags": []
   },
   "source": [
    "We can see the methods defined for the function `GetCubicVolume` using the Julia builtin function `methods()`"
   ]
  },
  {
   "cell_type": "code",
   "execution_count": null,
   "metadata": {
    "editable": true,
    "scrolled": true,
    "slideshow": {
     "slide_type": ""
    },
    "tags": [
     "scroll-output"
    ]
   },
   "outputs": [],
   "source": [
    "methods(GetCubicVolume)"
   ]
  },
  {
   "cell_type": "markdown",
   "metadata": {
    "editable": true,
    "slideshow": {
     "slide_type": ""
    },
    "tags": []
   },
   "source": [
    "### Calling static class methods\n",
    "In this case we do not have an object instance. The way it is done is by concatenating the class name with the method names with the symbol `!`. This is an example: "
   ]
  },
  {
   "cell_type": "code",
   "execution_count": null,
   "metadata": {
    "editable": true,
    "slideshow": {
     "slide_type": ""
    },
    "tags": []
   },
   "outputs": [],
   "source": [
    "G4Random!getTheSeed()   # This will call the C++ class method G4Random::getTheSeed()"
   ]
  },
  {
   "cell_type": "markdown",
   "metadata": {
    "editable": true,
    "slideshow": {
     "slide_type": ""
    },
    "tags": []
   },
   "source": [
    "### Working with inheritance\n",
    "In Geant4 all solid types inherit from a common base class `G4VSolid`. The method `Clone` returns a pointer to this base class.  "
   ]
  },
  {
   "cell_type": "code",
   "execution_count": null,
   "metadata": {
    "editable": true,
    "slideshow": {
     "slide_type": ""
    },
    "tags": []
   },
   "outputs": [],
   "source": [
    "solid = Clone(box)\n",
    "@test typeof(solid) == CxxPtr{G4VSolid}\n",
    "@test CxxPtr(box) == box  # same instance\n",
    "@test solid != box        # these are two diffrent instances\n",
    "@test GetCubicVolume(solid) == GetCubicVolume(box)"
   ]
  },
  {
   "cell_type": "markdown",
   "metadata": {
    "editable": true,
    "slideshow": {
     "slide_type": ""
    },
    "tags": []
   },
   "source": [
    "### Object ownership\n",
    "By default all objects instantiated by Julia will be garbage collected (deleted) by Julia. This may pose problems with Geant4 since in many occasions the ownership of the object is transferred implicitly to the toolkit, which will take care of doing a cleanup at the adequate moment. If we do not pay attention we may get crashes (use a deleted object or eventually double deletions).\n",
    "\n",
    "There are nevertheless some exceptions that have been added to simplify the interactions for the following classes: `G4PVPlacement`,\n",
    "`G4LogicalVolume`, `G4PVReplica`, `G4Material`, `G4Isotope`, `G4Element`, `G4JLParticleGun`, \n",
    "                            `G4JLDetectorConstruction`, `G4JLGeneratorAction`, `G4JLRunAction`, `G4JLSensDet`, `G4JLWorkerInitialization`, `G4JLStateDependent`,\n",
    "                            `G4LogicalSkinSurface`, `G4LogicalBorderSurface`, `G4OpticalSurface`\n",
    "\n",
    "The following code show the behavior when things are not done correctly"
   ]
  },
  {
   "cell_type": "code",
   "execution_count": null,
   "metadata": {
    "editable": true,
    "slideshow": {
     "slide_type": ""
    },
    "tags": []
   },
   "outputs": [],
   "source": [
    "box1 = G4Box(\"box1\", 1,1,3)                                   # construct boxes\n",
    "box2 = G4Box(\"box2\", 1,3,1)                                  \n",
    "union = G4UnionSolid(\"union\", CxxPtr(box1), CxxPtr(box2))     # construct a union solid with the two boxes\n",
    "@show GetCubicVolume(union)\n",
    "@show DistanceToIn(union, G4ThreeVector(10,10,10))\n"
   ]
  },
  {
   "cell_type": "markdown",
   "metadata": {
    "editable": true,
    "slideshow": {
     "slide_type": ""
    },
    "tags": []
   },
   "source": [
    "now force a GC"
   ]
  },
  {
   "cell_type": "code",
   "execution_count": null,
   "metadata": {
    "editable": true,
    "slideshow": {
     "slide_type": ""
    },
    "tags": []
   },
   "outputs": [],
   "source": [
    "box1 = box2 = nothing                           # removed the reference to the G4Box objects\n",
    "GC.gc()                                         # force a garbage collection now\n",
    "@show GetCubicVolume(union)                     # G4BooleanSolid cashes the volume\n",
    "# DistanceToIn(union, G4ThreeVector(10,10,10))  # this will probably crash the program"
   ]
  },
  {
   "cell_type": "markdown",
   "metadata": {
    "editable": true,
    "slideshow": {
     "slide_type": ""
    },
    "tags": []
   },
   "source": [
    "To avoid this problem the **user must transfer object ownership to the C++ side** using the provided function `move!()`. For example:"
   ]
  },
  {
   "cell_type": "code",
   "execution_count": null,
   "metadata": {
    "editable": true,
    "slideshow": {
     "slide_type": ""
    },
    "tags": []
   },
   "outputs": [],
   "source": [
    "box1 = G4Box(\"box1\", 1,1,3)                                  # construct boxes\n",
    "box2 = G4Box(\"box2\", 1,3,1)                                  \n",
    "union = G4UnionSolid(\"union\", move!(box1), move!(box2))      # construct a union solid with the same box\n",
    "@show GetCubicVolume(union)\n",
    "@show DistanceToIn(union, G4ThreeVector(10,10,10));"
   ]
  },
  {
   "cell_type": "markdown",
   "metadata": {
    "editable": true,
    "slideshow": {
     "slide_type": ""
    },
    "tags": []
   },
   "source": [
    "forcing now a GC will still work"
   ]
  },
  {
   "cell_type": "code",
   "execution_count": null,
   "metadata": {
    "editable": true,
    "slideshow": {
     "slide_type": ""
    },
    "tags": [
     "scroll-output"
    ]
   },
   "outputs": [],
   "source": [
    "box1 = box2 = zeros(1000)\n",
    "GC.gc()\n",
    "@show GetCubicVolume(union)                          # G4BooleanSolid cashes the volume\n",
    "@show DistanceToIn(union, G4ThreeVector(10,10,10));  # now this will not crash the program"
   ]
  }
 ],
 "metadata": {
  "kernelspec": {
   "display_name": "Julia 1.11.1",
   "language": "julia",
   "name": "julia-1.11"
  },
  "language_info": {
   "file_extension": ".jl",
   "mimetype": "application/julia",
   "name": "julia",
   "version": "1.11.1"
  }
 },
 "nbformat": 4,
 "nbformat_minor": 4
}
