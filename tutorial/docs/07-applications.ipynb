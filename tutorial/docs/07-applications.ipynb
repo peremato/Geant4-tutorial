{
 "cells": [
  {
   "cell_type": "markdown",
   "metadata": {},
   "source": [
    "# Building Applications\n",
    "What is still missing to build complete applications is to add user actions or sensitive detectors or scorers. In this tutorial we have a look at the user actions.\n",
    "\n",
    "## User Actions\n",
    "User actions are native Julia functions that will be called by the Geant4 toolkit at the defined moment during the simulation. They\n",
    "\n",
    "The following are the possible user actions:\n",
    "- **stepping action**. Called on each simulation step. The signature is `(::G4Step, ::G4JLApplication)::Nothing`. Consult the [G4Step](https://geant4.kek.jp/Reference/11.2.0/classG4Step.html) reference manual to see what you can get from it. \n",
    "- **pre-tracking action**. Called at the creation of a new participle being tracked. The signature is `(::G4Track, ::G4JLApplication)::Nothing`. Consult the [G4Step](https://geant4.kek.jp/Reference/11.2.0/classG4Track.html) reference manual to see what you can get from it.\n",
    "- **post-tracking action**. Called at the end of the particle being tracked. The signature is `(::G4Track, ::G4JLApplication)::Nothing`. Consult the [G4Track](https://geant4.kek.jp/Reference/11.2.0/classG4Track.html) reference manual to see what you can get from it.\n",
    "- **begin-event action**. Called at the beginning of each event. The signature is `(::G4Event, ::G4JLApplication)::Nothing`. Consult the [G4Event](https://geant4.kek.jp/Reference/11.2.0/classG4Event.html) reference manual to see what you can get from it.\n",
    "- **end-event action**. Called at the end of each event. The signature is `(::G4Event, ::G4JLApplication)::Nothing`. Consult the [G4Event](https://geant4.kek.jp/Reference/11.2.0/classG4Event.html) reference manual to see what you can get from it.\n",
    "- **begin-run action**. Called at the beginning of a run. The signature is `(::G4Run, ::G4JLApplication)::Nothing`. Consult the [G4Run](https://geant4.kek.jp/Reference/11.2.0/classG4Run.html) reference manual to see what you can get from it.\n",
    "- **end-run action**. Called at the end of a run. The signature is `(::G4Run, ::G4JLApplication)::Nothing`. Consult the [G4Run](https://geant4.kek.jp/Reference/11.2.0/classG4Run.html) reference manual to see what you can get from it.\n",
    "- **stack action**. Called when a particle is going to be put back on the particle stack. The signature is `(::G4Track, ::G4JLApplication)::G4ClassificationOfNewTrack`. Consult the [G4Track](https://geant4.kek.jp/Reference/11.2.0/classG4Track.html) reference manual to see what you can get from it.\n",
    "\n",
    "All user actions receive in addition to the standard G4 arguments a reference to the G4JLApplication object from which the user can get additional information on the application. These are the available field:\n",
    "- **detector** - user defined detector parameters object\n",
    "- **simdata** - vector of the user defined simulation data objects (one per worker thread plus the accumulated one). The function `getSIMdata(app)` return the simulation data corresponding to the `threadid` of the worker calling the user action.\n",
    "- **generator** - primary particle generator\n",
    "- **field** - magnetic field\n",
    "- **nthreads** - number of worker threads\n",
    "- **verbose** - verbosity level\n",
    "\n",
    "**Ploase note that:** user actions need to be coded as thread-safe (global data should not be modified without any protection). However, this notebook not use multi-threading in order to be able to re-configure the `G4JLApplication` with different actions. \n",
    "\n",
    "\n"
   ]
  },
  {
   "cell_type": "code",
   "execution_count": 1,
   "metadata": {},
   "outputs": [],
   "source": [
    "using Geant4"
   ]
  },
  {
   "cell_type": "markdown",
   "metadata": {},
   "source": [
    "Let's begin with something very simple. To define a begin event action that prints a message (notice that we use `G4JL_println` instead of the native  `println` to ensure thread safety.)"
   ]
  },
  {
   "cell_type": "code",
   "execution_count": 2,
   "metadata": {},
   "outputs": [
    {
     "data": {
      "text/plain": [
       "beginevent (generic function with 1 method)"
      ]
     },
     "metadata": {},
     "output_type": "display_data"
    }
   ],
   "source": [
    "function beginevent(evt::G4Event, app::G4JLApplication)\n",
    "    G4JL_println(\"started event $(evt |> GetEventID)\")\n",
    "end"
   ]
  },
  {
   "cell_type": "code",
   "execution_count": 3,
   "metadata": {},
   "outputs": [
    {
     "name": "stdout",
     "output_type": "stream",
     "text": [
      "\n",
      "**************************************************************\n",
      " Geant4 version Name: geant4-11-02 [MT]   (8-December-2023)\n",
      "                       Copyright : Geant4 Collaboration\n",
      "                      References : NIM A 506 (2003), 250-303\n",
      "                                 : IEEE-TNS 53 (2006), 270-278\n",
      "                                 : NIM A 835 (2016), 186-225\n",
      "                             WWW : http://geant4.org/\n",
      "**************************************************************\n",
      "\n"
     ]
    }
   ],
   "source": [
    "app = G4JLApplication(begineventaction_method=beginevent)\n",
    "configure(app)\n",
    "initialize(app)"
   ]
  },
  {
   "cell_type": "code",
   "execution_count": 4,
   "metadata": {},
   "outputs": [
    {
     "name": "stdout",
     "output_type": "stream",
     "text": [
      "started event 0\n",
      "started event 1\n",
      "started event 2\n",
      "started event 3\n",
      "started event 4\n"
     ]
    }
   ],
   "source": [
    "\n",
    "beamOn(app,5)"
   ]
  },
  {
   "cell_type": "markdown",
   "metadata": {},
   "source": [
    "Please notice that the output message would be prefixed by the working thread ID and the order of execution of the events is not sequential in case we enable multi-threading. "
   ]
  },
  {
   "cell_type": "code",
   "execution_count": 5,
   "metadata": {},
   "outputs": [
    {
     "data": {
      "text/plain": [
       "endevent (generic function with 1 method)"
      ]
     },
     "metadata": {},
     "output_type": "display_data"
    }
   ],
   "source": [
    "function endevent(evt::G4Event, app::G4JLApplication)\n",
    "    G4JL_println(\"end event $(evt |> GetEventID)\")\n",
    "end"
   ]
  },
  {
   "cell_type": "code",
   "execution_count": 6,
   "metadata": {},
   "outputs": [],
   "source": [
    "app = G4JLApplication(begineventaction_method = beginevent,\n",
    "                      endeventaction_method = endevent)\n",
    "configure(app)\n",
    "initialize(app)"
   ]
  },
  {
   "cell_type": "code",
   "execution_count": 8,
   "metadata": {},
   "outputs": [
    {
     "name": "stdout",
     "output_type": "stream",
     "text": [
      "started event 0\n",
      "end event 0\n",
      "started event 1\n",
      "end event 1\n",
      "started event 2\n",
      "end event 2\n",
      "started event 3\n",
      "end event 3\n",
      "started event 4\n",
      "end event 4\n"
     ]
    }
   ],
   "source": [
    "beamOn(app,5)"
   ]
  },
  {
   "cell_type": "code",
   "execution_count": 9,
   "metadata": {},
   "outputs": [
    {
     "data": {
      "text/plain": [
       "stepaction (generic function with 1 method)"
      ]
     },
     "metadata": {},
     "output_type": "display_data"
    }
   ],
   "source": [
    "function stepaction(step::G4Step, app::G4JLApplication)\n",
    "    G4JL_println(\"step with length $(step |> GetStepLength)\")\n",
    "end"
   ]
  },
  {
   "cell_type": "code",
   "execution_count": 11,
   "metadata": {},
   "outputs": [
    {
     "name": "stdout",
     "output_type": "stream",
     "text": [
      "started event 0\n",
      "step with length 1000.0\n",
      "end event 0\n",
      "started event 1\n",
      "step with length 1000.0\n",
      "end event 1\n",
      "started event 2\n",
      "step with length 1000.0\n",
      "end event 2\n",
      "started event 3\n",
      "step with length 1000.0\n",
      "end event 3\n",
      "started event 4\n",
      "step with length 1000.0\n",
      "end event 4\n"
     ]
    }
   ],
   "source": [
    "app = G4JLApplication(begineventaction_method = beginevent,\n",
    "                      endeventaction_method = endevent,\n",
    "                      stepaction_method = stepaction)\n",
    "configure(app)\n",
    "initialize(app)\n",
    "beamOn(app,5)"
   ]
  },
  {
   "cell_type": "markdown",
   "metadata": {},
   "source": [
    "## Defining Simulation Data\n",
    "\n",
    "The user can define a custom data structure to collect simulation data during the execution of the user actions. Here is an example:"
   ]
  },
  {
   "cell_type": "code",
   "execution_count": 13,
   "metadata": {},
   "outputs": [
    {
     "name": "stdout",
     "output_type": "stream",
     "text": [
      "started event 0\n",
      "end event 0\n",
      "started event 1\n",
      "end event 1\n",
      "started event 2\n",
      "end event 2\n",
      "started event 3\n",
      "end event 3\n",
      "started event 4\n",
      "end event 4\n"
     ]
    }
   ],
   "source": [
    "using DataFrames\n",
    "mutable struct MySimData <: G4JLSimulationData\n",
    "    steps::DataFrame\n",
    "    MySimData() = new(DataFrame( X = Float64[], Y = Float64[], Z = Float64[],\n",
    "                                 KinE = Float64[], dE =  Float64[], StepLeng = Float64[]))\n",
    "end\n",
    "function stepaction(step::G4Step, app::G4JLApplication)\n",
    "    steps = getSIMdata(app).steps                     # Get it own copy of the simdata (avoid data racing in MT mode)\n",
    "    point = step |>  GetPreStepPoint |> GetPosition\n",
    "    push!(steps, (point |> x, point |> y, point |> z,\n",
    "                  step |> GetTrack |> GetKineticEnergy, step |> GetTotalEnergyDeposit, step |> GetStepLength ))\n",
    "    return\n",
    "end\n",
    "\n",
    "app = G4JLApplication(simdata = MySimData(),\n",
    "                      begineventaction_method = beginevent,\n",
    "                      endeventaction_method = endevent,\n",
    "                      stepaction_method = stepaction)\n",
    "configure(app)\n",
    "initialize(app)\n",
    "beamOn(app,5)"
   ]
  },
  {
   "cell_type": "markdown",
   "metadata": {},
   "source": [
    "To get the results we can access `app.simdata[1]`"
   ]
  },
  {
   "cell_type": "code",
   "execution_count": 14,
   "metadata": {},
   "outputs": [
    {
     "data": {
      "text/plain": [
       "MySimData(\u001b[1m5×6 DataFrame\u001b[0m\n",
       "\u001b[1m Row \u001b[0m│\u001b[1m X       \u001b[0m\u001b[1m Y       \u001b[0m\u001b[1m Z       \u001b[0m\u001b[1m KinE    \u001b[0m\u001b[1m dE          \u001b[0m\u001b[1m StepLeng \u001b[0m\n",
       "     │\u001b[90m Float64 \u001b[0m\u001b[90m Float64 \u001b[0m\u001b[90m Float64 \u001b[0m\u001b[90m Float64 \u001b[0m\u001b[90m Float64     \u001b[0m\u001b[90m Float64  \u001b[0m\n",
       "─────┼───────────────────────────────────────────────────────────\n",
       "   1 │     0.0      0.0      0.0     10.0  3.03438e-23    1000.0\n",
       "   2 │     0.0      0.0      0.0     10.0  3.03438e-23    1000.0\n",
       "   3 │     0.0      0.0      0.0     10.0  3.03438e-23    1000.0\n",
       "   4 │     0.0      0.0      0.0     10.0  3.03438e-23    1000.0\n",
       "   5 │     0.0      0.0      0.0     10.0  3.03438e-23    1000.0)"
      ]
     },
     "metadata": {},
     "output_type": "display_data"
    }
   ],
   "source": [
    "app.simdata[1]"
   ]
  }
 ],
 "metadata": {
  "kernelspec": {
   "display_name": "Julia 1.10.0",
   "language": "julia",
   "name": "julia-1.10"
  },
  "language_info": {
   "file_extension": ".jl",
   "mimetype": "application/julia",
   "name": "julia",
   "version": "1.10.0"
  }
 },
 "nbformat": 4,
 "nbformat_minor": 2
}
