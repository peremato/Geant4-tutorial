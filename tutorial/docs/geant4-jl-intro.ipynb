{
 "cells": [
  {
   "cell_type": "markdown",
   "metadata": {
    "slideshow": {
     "slide_type": ""
    },
    "tags": []
   },
   "source": [
    "# Introduction to Geant4.jl\n",
    "\n",
    "Geant4.jl provides the Julia bindings for the [Geant4](https://geant4.web.cern.ch) particle transportation toolkit. It is using [CxxWrap.jl](https://github.com/JuliaInterop/CxxWrap.jl) package to wrap C++ types and functions to Julia. Since the Geant4 toolkit is rather large and complex, writing the wrapper code by hand is not really an option. For this we use the package [WrapIt](https://github.com/grasph/wrapit) that automates the generation of the wrapper code making use of the clang library.\n",
    "\n",
    "Documentation of the concepts and how to write applications with the Geant4 toolkit can be found with the [Application Developer Guide](https://geant4-userdoc.web.cern.ch/UsersGuides/ForApplicationDeveloper/html/index.html) or the [Classes and Members reference guide](https://geant4.kek.jp/Reference/11.2.0/index.html) for a detailed description of each C++ class. In this tutorial we will only highlight the differences between the Julia and the C++ API. We will document the additional types that have been added on top of the C++ classes to make the user interface more Julia friendly. To distinguish these new types from the types coming directly from C++ via the CxxWrap wrappers, these types are prefixed with `G4JL`.\n",
    "\n",
    "## Installation\n",
    "The Geant4.jl package does no require any special installation. Stable releases are registered to the Julia general registry, and therefore, it can be deployed with the standard `Pkg` Julia package manager.\n",
    "\n",
    "**Please note that the first time the `Geant4` package is added it may take some time since it downloads all the binary libraries and data files of Geant4** "
   ]
  },
  {
   "cell_type": "code",
   "execution_count": 2,
   "metadata": {},
   "outputs": [
    {
     "name": "stderr",
     "output_type": "stream",
     "text": [
      "\u001b[32m\u001b[1m   Resolving\u001b[22m\u001b[39m package versions...\n",
      "\u001b[32m\u001b[1m  No Changes\u001b[22m\u001b[39m to `~/Development/Geant4.jl-tutorial/Project.toml`\n",
      "\u001b[32m\u001b[1m  No Changes\u001b[22m\u001b[39m to `~/Development/Geant4.jl-tutorial/Manifest.toml`\n"
     ]
    }
   ],
   "source": [
    "using Pkg\n",
    "Pkg.add(\"Geant4\")"
   ]
  },
  {
   "cell_type": "markdown",
   "metadata": {},
   "source": [
    "## Interacting with the wrapped classes\n",
    "\n",
    "Import the `Geant4` module. All the wrapped Geant4 classes are implicitly exported since they are prefixed by `G4`, and therefore the chances of a name clash with other Julia symbols is minimal.\n",
    "\n",
    "### Object instantiation\n",
    "\n",
    "We start by instantiating some very simple object of type `G4Box`.\n",
    "\n",
    "Note that:\n",
    "- The C++ constructor called is `G4Box::G4Box(const G4String &pName, G4double pX, G4double pY, G4double pZ)`\n",
    "- The conversion of Julia type `Int64` to C++ `G4double` is implicit, as well as the `String` to `G4String` "
   ]
  },
  {
   "cell_type": "code",
   "execution_count": 3,
   "metadata": {},
   "outputs": [
    {
     "data": {
      "text/plain": [
       "Geant4.G4BoxAllocated(Ptr{Nothing} @0x0000000122536410)"
      ]
     },
     "metadata": {},
     "output_type": "display_data"
    }
   ],
   "source": [
    "using Geant4\n",
    "box = G4Box(\"MyBox\", 1, 2, 3)  # the C++ contructor called G4Box (const G4String &pName, G4double pX, G4double pY, G4double pZ)"
   ]
  },
  {
   "cell_type": "markdown",
   "metadata": {},
   "source": [
    "The returned object is a pointer (`Ptr`) to the wrapped C++ object. The `CxxWrap` package encodes (with the type `Geant4.G4BoxAllocated`) that the object has been allocated from Julia and will by default be garbage collected when not needed.  "
   ]
  },
  {
   "cell_type": "code",
   "execution_count": 4,
   "metadata": {},
   "outputs": [
    {
     "data": {
      "text/plain": [
       "2-element Vector{Any}:\n",
       " Geant4.G4BoxAllocated\n",
       " Geant4.G4BoxDereferenced"
      ]
     },
     "metadata": {},
     "output_type": "display_data"
    }
   ],
   "source": [
    "using Test\n",
    "@test typeof(box) == Geant4.G4BoxAllocated  # the type is indeed a G4BoxAllocated\n",
    "@test box isa G4Box                         # but is also a G4Box (G4BoxAllocated inherits from G4Box)\n",
    "\n",
    "subtypes(G4Box)                             # this shows all the subtypes of G4Box"
   ]
  },
  {
   "cell_type": "markdown",
   "metadata": {},
   "source": [
    "To take the C++ pointer or the reference of a wrapped object, the `CxxWrap` module provides the functions `CxxPtr` and `CxxRef`. This is often needed to fullfil with the Geant4 C++ interfaces.    "
   ]
  },
  {
   "cell_type": "code",
   "execution_count": 5,
   "metadata": {},
   "outputs": [
    {
     "data": {
      "text/plain": [
       "\u001b[32m\u001b[1mTest Passed\u001b[22m\u001b[39m"
      ]
     },
     "metadata": {},
     "output_type": "display_data"
    }
   ],
   "source": [
    "r_box =  CxxRef(box)\n",
    "p_box =  CxxPtr(box)\n",
    "@test r_box isa CxxRef{G4Box}  # reference\n",
    "@test p_box isa CxxPtr{G4Box}  # pointer"
   ]
  },
  {
   "cell_type": "markdown",
   "metadata": {},
   "source": [
    "The user can derefence a `CxxRef` or `CxxPtr` with the operator `[]`"
   ]
  },
  {
   "cell_type": "code",
   "execution_count": 6,
   "metadata": {},
   "outputs": [
    {
     "name": "stdout",
     "output_type": "stream",
     "text": [
      "typeof(r_box[]) = Geant4.G4BoxDereferenced\n",
      "typeof(p_box[]) = Geant4.G4BoxDereferenced\n"
     ]
    },
    {
     "data": {
      "text/plain": [
       "\u001b[32m\u001b[1mTest Passed\u001b[22m\u001b[39m"
      ]
     },
     "metadata": {},
     "output_type": "display_data"
    }
   ],
   "source": [
    "@show typeof(r_box[])\n",
    "@show typeof(p_box[])\n",
    "@test r_box[] == box\n",
    "@test p_box[] == box"
   ]
  },
  {
   "cell_type": "markdown",
   "metadata": {},
   "source": [
    "### Calling object methods\n",
    "In julia, `methods` are instances of functions of a given name, of which the multi-dispatch functionality will select the best one that matches the actual argument types. To call a C++ method of a class we need to pass the wrapped object as first argument."
   ]
  },
  {
   "cell_type": "code",
   "execution_count": 8,
   "metadata": {},
   "outputs": [
    {
     "data": {
      "text/plain": [
       "\u001b[32m\u001b[1mTest Passed\u001b[22m\u001b[39m"
      ]
     },
     "metadata": {},
     "output_type": "display_data"
    }
   ],
   "source": [
    "vol = GetCubicVolume(box)   # In C++ this would be box.GetCubicVolume()\n",
    "@test vol == 8 * GetXHalfLength(box) * GetYHalfLength(box) * GetZHalfLength(box) "
   ]
  },
  {
   "cell_type": "markdown",
   "metadata": {},
   "source": [
    "We can see the methods defined for the function `GetCubicVolume` using the Julia builtin function `methods()`"
   ]
  },
  {
   "cell_type": "code",
   "execution_count": null,
   "metadata": {},
   "outputs": [],
   "source": [
    "methods(GetCubicVolume)"
   ]
  },
  {
   "cell_type": "markdown",
   "metadata": {},
   "source": [
    "### Calling static class methods\n",
    "In this case we do not have an object instance. The way it is done is by concatenating the class name with the method names with the symbol `!`. This is an example: "
   ]
  },
  {
   "cell_type": "code",
   "execution_count": 9,
   "metadata": {},
   "outputs": [
    {
     "data": {
      "text/plain": [
       "1"
      ]
     },
     "metadata": {},
     "output_type": "display_data"
    }
   ],
   "source": [
    "G4Random!getTheSeed()   # This will call the C++ class method G4Random::getTheSeed()"
   ]
  },
  {
   "cell_type": "markdown",
   "metadata": {},
   "source": [
    "### Working in the inheritance\n",
    "In Geant4 all solid types inherit from a common base class `G4VSolid`. The method `Clone` returns a pointer to this base class.  "
   ]
  },
  {
   "cell_type": "code",
   "execution_count": 10,
   "metadata": {},
   "outputs": [
    {
     "data": {
      "text/plain": [
       "\u001b[32m\u001b[1mTest Passed\u001b[22m\u001b[39m"
      ]
     },
     "metadata": {},
     "output_type": "display_data"
    }
   ],
   "source": [
    "solid = Clone(box)\n",
    "@test typeof(solid) == CxxPtr{G4VSolid}\n",
    "@test CxxPtr(box) == box  # same instance\n",
    "@test solid != box        # these are two diffrent instances\n",
    "@test GetCubicVolume(solid) == GetCubicVolume(box)"
   ]
  },
  {
   "cell_type": "markdown",
   "metadata": {},
   "source": [
    "### Object ownership\n",
    "By default all objects instantiated by Julia will garbage collected (deleted) by Julia. this may pose problems with Geant4 since in many occasions the ownership is transferred implicitly to the toolkit, which will take care of doing a cleanup at the adequate moment. If we do nor pay attention we may get crashes (use a deleted objects and double deletions).\n",
    "\n",
    "There are nevertheless some exceptions that have been added to simplify the interactions for the following classes: `G4PVPlacement`,\n",
    "`G4LogicalVolume`, `G4PVReplica`, `G4Material`, `G4Isotope`, `G4Element`, `G4JLParticleGun`, \n",
    "                            `G4JLDetectorConstruction`, `G4JLGeneratorAction`, `G4JLRunAction`, `G4JLSensDet`, `G4JLWorkerInitialization`, `G4JLStateDependent`,\n",
    "                            `G4LogicalSkinSurface`, `G4LogicalBorderSurface`, `G4OpticalSurface`\n",
    "\n",
    "The following code show the behavior when things are not done correctly"
   ]
  },
  {
   "cell_type": "code",
   "execution_count": 1,
   "metadata": {},
   "outputs": [
    {
     "ename": "UndefVarError",
     "evalue": "UndefVarError: `G4Box` not defined",
     "output_type": "error",
     "traceback": [
      "UndefVarError: `G4Box` not defined\n",
      "\n",
      "Stacktrace:\n",
      " [1] top-level scope\n",
      "   @ ~/Development/Geant4.jl-tutorial/tutorial/docs/geant4-jl-intro.ipynb:1"
     ]
    }
   ],
   "source": [
    "box1 = G4Box(\"box1\", 1,1,3)                                   # construct boxes\n",
    "box2 = G4Box(\"box2\", 1,3,1)                                  \n",
    "union = G4UnionSolid(\"union\", CxxPtr(box1), CxxPtr(box2))     # construct a union solid with the same box\n",
    "@show GetCubicVolume(union)\n",
    "@show DistanceToIn(union, G4ThreeVector(10,10,10))\n"
   ]
  },
  {
   "cell_type": "markdown",
   "metadata": {},
   "source": [
    "now force a GC"
   ]
  },
  {
   "cell_type": "code",
   "execution_count": 13,
   "metadata": {},
   "outputs": [],
   "source": [
    "box1 = box2 = nothing\n",
    "GC.gc()\n",
    "@show GetCubicVolume(union)                     # G4BooleanSolid cashes the volume\n",
    "# DistanceToIn(union, G4ThreeVector(10,10,10))  # this will probabluy crash the program"
   ]
  },
  {
   "cell_type": "code",
   "execution_count": null,
   "metadata": {},
   "outputs": [],
   "source": []
  }
 ],
 "metadata": {
  "kernelspec": {
   "display_name": "Julia 1.10.0",
   "language": "julia",
   "name": "julia-1.10"
  },
  "language_info": {
   "file_extension": ".jl",
   "mimetype": "application/julia",
   "name": "julia",
   "version": "1.10.0"
  }
 },
 "nbformat": 4,
 "nbformat_minor": 4
}
