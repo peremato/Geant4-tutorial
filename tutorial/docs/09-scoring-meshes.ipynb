{
 "cells": [
  {
   "cell_type": "markdown",
   "metadata": {},
   "source": [
    "# Scoring Meshes\n",
    "\n",
    "The user can specify scoring meshes to obtain quantities on the defined grid. In Geant4 this is achieved using a set of UI commands. In this Julia interface this functionality has been encapsulated in a number of data structures. The function to create a scoring mesh is [`G4JLScoringMesh`](@ref) and receive as arguments the the type and dimensions of the mesh, the position, the rotation, the number of bins in each dimension, and the quantities to accumulate with eventually some filter conditions.\n"
   ]
  },
  {
   "cell_type": "code",
   "execution_count": null,
   "metadata": {},
   "outputs": [],
   "source": [
    "using Geant4\n",
    "using Geant4.SystemOfUnits\n",
    "using CairoMakie"
   ]
  },
  {
   "cell_type": "markdown",
   "metadata": {},
   "source": [
    "Let's define a simple detector (from the previous notebook on sensitive detectors)"
   ]
  },
  {
   "cell_type": "code",
   "execution_count": null,
   "metadata": {},
   "outputs": [],
   "source": [
    "struct SimpleDetector <: G4JLDetector ; end\n",
    "\n",
    "#---Materials----------------------------------------------------------------------------------\n",
    "nist = G4NistManager!Instance()\n",
    "m_air = FindOrBuildMaterial(nist, \"G4_AIR\")\n",
    "m_bgo = FindOrBuildMaterial(nist, \"G4_BGO\")\n",
    "\n",
    "#---Volumes------------------------------------------------------------------------------------\n",
    "worldS = G4Box(\"world\", 1m, 1m, 1m)\n",
    "worldLV = G4LogicalVolume(worldS, m_air, \"World\")\n",
    "worldPV = G4PVPlacement(nothing, G4ThreeVector(), worldLV, \"World\", nothing, false, 0, false)\n",
    "\n",
    "crystalS = G4Box(\"world\", 5cm, 5cm, 10cm)\n",
    "crystalLV = G4LogicalVolume(crystalS, m_bgo, \"Crystal\")\n",
    "crystalPV = G4PVPlacement(nothing, G4ThreeVector(), crystalLV, \"Crystal\", worldLV, false, 0, false)\n",
    "\n",
    "#---define getConstructor\n",
    "Geant4.getConstructor(::SimpleDetector)::Function = (::SimpleDetector) -> worldPV"
   ]
  },
  {
   "cell_type": "markdown",
   "metadata": {},
   "source": [
    "We create a scoring mesh of the same size as the crystal and with bins 20, 20 and 40 in z direction to collect energy deposit, number of steps produced by gammas, electrons and positrons."
   ]
  },
  {
   "cell_type": "code",
   "execution_count": null,
   "metadata": {},
   "outputs": [],
   "source": [
    "sc1 = G4JLScoringMesh(\"boxMesh_1\",\n",
    "                      BoxMesh(5cm,5cm,20cm),\n",
    "                      bins = (20, 20, 40),\n",
    "                      quantities = [ energyDeposit(\"eDep\")\n",
    "                                     nOfStep(\"nOfStepGamma\", filters=[ParticleFilter(\"gammafilter\", \"gamma\")])\n",
    "                                     nOfStep(\"nOfStepEMinus\", filters=[ParticleFilter(\"eMinusFilter\", \"e-\")])\n",
    "                                     nOfStep(\"nOfStepEPlus\", filters=[ParticleFilter(\"ePlusFilter\", \"e+\")])\n",
    "                                   ]\n",
    "                      );"
   ]
  },
  {
   "cell_type": "markdown",
   "metadata": {},
   "source": [
    "Let's initialize now the application"
   ]
  },
  {
   "cell_type": "code",
   "execution_count": null,
   "metadata": {},
   "outputs": [],
   "source": [
    "particlegun = G4JLGunGenerator(particle = \"e-\", \n",
    "                               energy = 3GeV, \n",
    "                               direction = G4ThreeVector(0,0,1), \n",
    "                               position = G4ThreeVector(0,0,-1m))\n",
    "\n",
    "app = G4JLApplication(;detector = SimpleDetector(),                  # detector with parameters\n",
    "                       generator = particlegun,                      # primary particle generator\n",
    "                       nthreads = 4,                                 # number of threads (MT)\n",
    "                       physics_type = FTFP_BERT,                     # what physics list to instantiate\n",
    "                       scorers = [sc1]                               # list of scorers \n",
    "                      );"
   ]
  },
  {
   "cell_type": "code",
   "execution_count": null,
   "metadata": {},
   "outputs": [],
   "source": [
    "configure(app)\n",
    "initialize(app)"
   ]
  },
  {
   "cell_type": "markdown",
   "metadata": {},
   "source": [
    "run for 1000 events"
   ]
  },
  {
   "cell_type": "code",
   "execution_count": null,
   "metadata": {},
   "outputs": [],
   "source": [
    "beamOn(app,1000)"
   ]
  },
  {
   "cell_type": "markdown",
   "metadata": {},
   "source": [
    "Now the scoring mesh variable `sc1` holds the collected information"
   ]
  },
  {
   "cell_type": "code",
   "execution_count": null,
   "metadata": {},
   "outputs": [],
   "source": [
    "sum, sum2, entries = sc1.eDep;"
   ]
  },
  {
   "cell_type": "markdown",
   "metadata": {},
   "source": [
    "Each of these variables (`sum`, `sum2` and `entries`) is a `20×20×40 Array` corresponding to the deposit energy. \n",
    "Let's see a X-Y plane of it in the middle of the Z axis:"
   ]
  },
  {
   "cell_type": "code",
   "execution_count": null,
   "metadata": {},
   "outputs": [],
   "source": [
    "sum[:,:,20]"
   ]
  },
  {
   "cell_type": "markdown",
   "metadata": {},
   "source": [
    "A better way to to plot a heatmap with Makie."
   ]
  },
  {
   "cell_type": "code",
   "execution_count": null,
   "metadata": {},
   "outputs": [],
   "source": [
    "img = heatmap(sum[:,:,20], color=:thermal, title=\"Edep (XY)\")\n",
    "display(\"image/png\", img)"
   ]
  },
  {
   "cell_type": "code",
   "execution_count": null,
   "metadata": {},
   "outputs": [],
   "source": [
    "img = heatmap(sum[:,10,:]', color=:thermal, title=\"Edep (XZ)\")\n",
    "display(\"image/png\", img)"
   ]
  }
 ],
 "metadata": {
  "kernelspec": {
   "display_name": "Julia 1.10.0",
   "language": "julia",
   "name": "julia-1.10"
  },
  "language_info": {
   "file_extension": ".jl",
   "mimetype": "application/julia",
   "name": "julia",
   "version": "1.10.0"
  }
 },
 "nbformat": 4,
 "nbformat_minor": 2
}
