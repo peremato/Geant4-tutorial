{
 "cells": [
  {
   "cell_type": "markdown",
   "metadata": {},
   "source": [
    "# Defining Physics Lists\n",
    "\n",
    "We need to provide a type to the `G4JLApplication` that represents the selected physics list. The easiest is to use one of the pre-packaged physics list (e.g. `FTFP_BERT`, `QGS_BIC`, `QBBC` and others can be added on demand). The toolkit will use the provided type to instantiate the physics list at the right moment during the initialization."
   ]
  },
  {
   "cell_type": "code",
   "execution_count": null,
   "metadata": {},
   "outputs": [],
   "source": [
    "using Geant4\n",
    "using Test"
   ]
  },
  {
   "cell_type": "markdown",
   "metadata": {},
   "source": [
    "## Using Standard Physics Lists\n",
    "Lets play a bit one of these pre-packaged physics list"
   ]
  },
  {
   "cell_type": "code",
   "execution_count": null,
   "metadata": {},
   "outputs": [],
   "source": [
    "fl = FTFP_BERT()\n",
    "@test fl isa G4VUserPhysicsList\n",
    "DumpList(fl)"
   ]
  },
  {
   "cell_type": "markdown",
   "metadata": {},
   "source": [
    "It is normal that created instance by hand is empty. It needs to be created by the `G4RunManager` during initialization. Let's try to do it."
   ]
  },
  {
   "cell_type": "code",
   "execution_count": null,
   "metadata": {},
   "outputs": [],
   "source": [
    "app = G4JLApplication(\n",
    "    physics_type = FTFP_BERT\n",
    ")"
   ]
  },
  {
   "cell_type": "code",
   "execution_count": null,
   "metadata": {},
   "outputs": [],
   "source": [
    "configure(app)\n",
    "initialize(app)"
   ]
  },
  {
   "cell_type": "code",
   "execution_count": null,
   "metadata": {
    "tags": [
     "scroll-output"
    ]
   },
   "outputs": [],
   "source": [
    "DumpList(app.physics)"
   ]
  },
  {
   "cell_type": "markdown",
   "metadata": {},
   "source": [
    "## Defining a custom physics list\n",
    "The way we can achieve it is by defining a dummy `struct` inheriting from `G4VUserPhysicsList` that provides a default constructor. In the constructor we can build the physics list and return an object that inherits from `G4VUserPhysicsList` to comply with the interface.\n",
    "\n",
    "Here is an example:"
   ]
  },
  {
   "cell_type": "code",
   "execution_count": null,
   "metadata": {},
   "outputs": [],
   "source": [
    "ui`/control/verbose 1`\n",
    "ui`/run/verbose 1`"
   ]
  },
  {
   "cell_type": "code",
   "execution_count": null,
   "metadata": {},
   "outputs": [],
   "source": [
    "struct MyPhysicsList <: G4VUserPhysicsList\n",
    "    function MyPhysicsList(verbose)\n",
    "        pl = G4VModularPhysicsList()\n",
    "        RegisterPhysics(pl, move!(G4EmStandardPhysics(verbose)))  # make sure that the ownership is correctly transferred\n",
    "        RegisterPhysics(pl, move!(G4OpticalPhysics(verbose)))     # by calling move!()\n",
    "        return pl\n",
    "    end \n",
    "end"
   ]
  },
  {
   "cell_type": "code",
   "execution_count": null,
   "metadata": {},
   "outputs": [],
   "source": [
    "app = G4JLApplication(\n",
    "    physics_type = MyPhysicsList,\n",
    "    verbose=1,\n",
    ")\n",
    "configure(app)\n",
    "initialize(app)"
   ]
  },
  {
   "cell_type": "code",
   "execution_count": null,
   "metadata": {
    "tags": [
     "scroll-output"
    ]
   },
   "outputs": [],
   "source": [
    "DumpList(app.physics)"
   ]
  }
 ],
 "metadata": {
  "kernelspec": {
   "display_name": "Julia 1.10.0",
   "language": "julia",
   "name": "julia-1.10"
  },
  "language_info": {
   "file_extension": ".jl",
   "mimetype": "application/julia",
   "name": "julia",
   "version": "1.10.0"
  }
 },
 "nbformat": 4,
 "nbformat_minor": 2
}
