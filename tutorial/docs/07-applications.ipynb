{
 "cells": [
  {
   "cell_type": "markdown",
   "metadata": {},
   "source": [
    "# Building Applications\n",
    "What is still missing to build complete applications is to add user actions or sensitive detectors or scorers. In this tutorial we have a look at the user actions.\n",
    "\n",
    "## User Actions\n",
    "User actions are native Julia functions that will be called by the Geant4 toolkit at the defined moment during the simulation. They\n",
    "\n",
    "The following are the possible user actions:\n",
    "- **stepping action**. Called on each simulation step. The signature is `(::G4Step, ::G4JLApplication)::Nothing`. Consult the [G4Step](https://geant4.kek.jp/Reference/11.2.0/classG4Step.html) reference manual to see what you can get from it. \n",
    "- **pre-tracking action**. Called at the creation of a new participle being tracked. The signature is `(::G4Track, ::G4JLApplication)::Nothing`. Consult the [G4Step](https://geant4.kek.jp/Reference/11.2.0/classG4Track.html) reference manual to see what you can get from it.\n",
    "- **post-tracking action**. Called at the end of the particle being tracked. The signature is `(::G4Track, ::G4JLApplication)::Nothing`. Consult the [G4Track](https://geant4.kek.jp/Reference/11.2.0/classG4Track.html) reference manual to see what you can get from it.\n",
    "- **begin-event action**. Called at the beginning of each event. The signature is `(::G4Event, ::G4JLApplication)::Nothing`. Consult the [G4Event](https://geant4.kek.jp/Reference/11.2.0/classG4Event.html) reference manual to see what you can get from it.\n",
    "- **end-event action**. Called at the end of each event. The signature is `(::G4Event, ::G4JLApplication)::Nothing`. Consult the [G4Event](https://geant4.kek.jp/Reference/11.2.0/classG4Event.html) reference manual to see what you can get from it.\n",
    "- **begin-run action**. Called at the beginning of a run. The signature is `(::G4Run, ::G4JLApplication)::Nothing`. Consult the [G4Run](https://geant4.kek.jp/Reference/11.2.0/classG4Run.html) reference manual to see what you can get from it.\n",
    "- **end-run action**. Called at the end of a run. The signature is `(::G4Run, ::G4JLApplication)::Nothing`. Consult the [G4Run](https://geant4.kek.jp/Reference/11.2.0/classG4Run.html) reference manual to see what you can get from it.\n",
    "- **stack action**. Called when a particle is going to be put back on the particle stack. The signature is `(::G4Track, ::G4JLApplication)::G4ClassificationOfNewTrack`. Consult the [G4Track](https://geant4.kek.jp/Reference/11.2.0/classG4Track.html) reference manual to see what you can get from it.\n",
    "\n",
    "All user actions receive in addition to the standard G4 arguments a reference to the G4JLApplication object from which the user can get additional information on the application. These are the available field:\n",
    "- **detector** - user defined detector parameters object\n",
    "- **simdata** - vector of the user defined simulation data objects (one per worker thread plus the accumulated one). The function `getSIMdata(app)` return the simulation data corresponding to the `threadid` of the worker calling the user action.\n",
    "- **generator** - primary particle generator\n",
    "- **field** - magnetic field\n",
    "- **nthreads** - number of worker threads\n",
    "- **verbose** - verbosity level\n",
    "\n",
    "**Ploase note that:** user actions need to be coded as thread-safe (global data should not be modified without any protection). However, this notebook not use multi-threading in order to be able to re-configure the `G4JLApplication` with different actions. \n",
    "\n",
    "\n"
   ]
  },
  {
   "cell_type": "code",
   "execution_count": null,
   "metadata": {},
   "outputs": [],
   "source": [
    "using Geant4"
   ]
  },
  {
   "cell_type": "markdown",
   "metadata": {},
   "source": [
    "Let's begin with something very simple. To define a begin event action that prints a message (notice that we use `G4JL_println` instead of the native  `println` to ensure thread safety.)"
   ]
  },
  {
   "cell_type": "code",
   "execution_count": null,
   "metadata": {},
   "outputs": [],
   "source": [
    "function beginevent(evt::G4Event, app::G4JLApplication)\n",
    "    G4JL_println(\"started event $(evt |> GetEventID)\")\n",
    "end"
   ]
  },
  {
   "cell_type": "code",
   "execution_count": null,
   "metadata": {},
   "outputs": [],
   "source": [
    "app = G4JLApplication(begineventaction_method=beginevent)\n",
    "configure(app)\n",
    "initialize(app)"
   ]
  },
  {
   "cell_type": "code",
   "execution_count": null,
   "metadata": {},
   "outputs": [],
   "source": [
    "\n",
    "beamOn(app,5)"
   ]
  },
  {
   "cell_type": "markdown",
   "metadata": {},
   "source": [
    "Please notice that the output message would be prefixed by the working thread ID and the order of execution of the events is not sequential in case we enable multi-threading. "
   ]
  },
  {
   "cell_type": "code",
   "execution_count": null,
   "metadata": {},
   "outputs": [],
   "source": [
    "function endevent(evt::G4Event, app::G4JLApplication)\n",
    "    G4JL_println(\"end event $(evt |> GetEventID)\")\n",
    "end"
   ]
  },
  {
   "cell_type": "code",
   "execution_count": null,
   "metadata": {},
   "outputs": [],
   "source": [
    "app = G4JLApplication(begineventaction_method = beginevent,\n",
    "                      endeventaction_method = endevent)\n",
    "configure(app)\n",
    "initialize(app)"
   ]
  },
  {
   "cell_type": "code",
   "execution_count": null,
   "metadata": {},
   "outputs": [],
   "source": [
    "beamOn(app,5)"
   ]
  },
  {
   "cell_type": "code",
   "execution_count": null,
   "metadata": {},
   "outputs": [],
   "source": [
    "function stepaction(step::G4Step, app::G4JLApplication)\n",
    "    G4JL_println(\"step with length $(step |> GetStepLength)\")\n",
    "end"
   ]
  },
  {
   "cell_type": "code",
   "execution_count": null,
   "metadata": {},
   "outputs": [],
   "source": [
    "app = G4JLApplication(begineventaction_method = beginevent,\n",
    "                      endeventaction_method = endevent,\n",
    "                      stepaction_method = stepaction)\n",
    "configure(app)\n",
    "initialize(app)\n",
    "beamOn(app,5)"
   ]
  },
  {
   "cell_type": "markdown",
   "metadata": {},
   "source": [
    "## Defining Simulation Data\n",
    "\n",
    "The user can define a custom data structure to collect simulation data during the execution of the user actions. Here is an example:"
   ]
  },
  {
   "cell_type": "code",
   "execution_count": null,
   "metadata": {},
   "outputs": [],
   "source": [
    "using DataFrames\n",
    "mutable struct MySimData <: G4JLSimulationData\n",
    "    steps::DataFrame\n",
    "    MySimData() = new(DataFrame( X = Float64[], Y = Float64[], Z = Float64[],\n",
    "                                 KinE = Float64[], dE =  Float64[], StepLeng = Float64[]))\n",
    "end\n",
    "function stepaction(step::G4Step, app::G4JLApplication)\n",
    "    steps = getSIMdata(app).steps                     # Get it own copy of the simdata (avoid data racing in MT mode)\n",
    "    point = step |>  GetPreStepPoint |> GetPosition\n",
    "    push!(steps, (point |> x, point |> y, point |> z,\n",
    "                  step |> GetTrack |> GetKineticEnergy, step |> GetTotalEnergyDeposit, step |> GetStepLength ))\n",
    "    return\n",
    "end\n",
    "\n",
    "app = G4JLApplication(simdata = MySimData(),\n",
    "                      begineventaction_method = beginevent,\n",
    "                      endeventaction_method = endevent,\n",
    "                      stepaction_method = stepaction)\n",
    "configure(app)\n",
    "initialize(app)\n",
    "beamOn(app,5)"
   ]
  },
  {
   "cell_type": "markdown",
   "metadata": {},
   "source": [
    "To get the results we can access `app.simdata[1]`"
   ]
  },
  {
   "cell_type": "code",
   "execution_count": null,
   "metadata": {},
   "outputs": [],
   "source": [
    "app.simdata[1]"
   ]
  },
  {
   "cell_type": "code",
   "execution_count": null,
   "metadata": {},
   "outputs": [],
   "source": []
  }
 ],
 "metadata": {
  "kernelspec": {
   "display_name": "Julia 1.11.1",
   "language": "julia",
   "name": "julia-1.11"
  },
  "language_info": {
   "file_extension": ".jl",
   "mimetype": "application/julia",
   "name": "julia",
   "version": "1.11.1"
  }
 },
 "nbformat": 4,
 "nbformat_minor": 4
}
