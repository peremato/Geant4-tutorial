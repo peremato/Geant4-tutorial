{
 "cells": [
  {
   "cell_type": "markdown",
   "metadata": {
    "editable": true,
    "slideshow": {
     "slide_type": ""
    },
    "tags": []
   },
   "source": [
    "# Introduction to Geant4.jl\n",
    "\n",
    "Geant4.jl provides the Julia bindings for the [Geant4](https://geant4.web.cern.ch) particle transportation toolkit. It is using [CxxWrap.jl](https://github.com/JuliaInterop/CxxWrap.jl) package to wrap C++ types and functions to Julia. Since the Geant4 toolkit is rather large and complex, writing the wrapper code by hand is not really an option. For this we use the package [WrapIt](https://github.com/grasph/wrapit) that automates the generation of the wrapper code making use of the clang library.\n",
    "\n",
    "Documentation of the concepts and how to write applications with the Geant4 toolkit can be found with the [Application Developer Guide](https://geant4-userdoc.web.cern.ch/UsersGuides/ForApplicationDeveloper/html/index.html) or the [Classes and Members reference guide](https://geant4.kek.jp/Reference/11.2.0/index.html) for a detailed description of each C++ class. In this tutorial we will only highlight the differences between the Julia and the C++ API. Therefore it is assumed some prior knowledge of the Geant4 C++ interfaces.\n",
    "\n",
    "## Installation\n",
    "The Geant4.jl package does no require any special installation. Stable releases are registered to the Julia general registry, and therefore, it can be deployed with the standard `Pkg` Julia package manager.\n",
    "\n",
    "**Please note that the first time the `Geant4` package is added it may take some time since it downloads all the binary libraries and data files of Geant4** \n",
    "\n",
    "```julia\n",
    "using Pkg\n",
    "Pkg.add(\"Geant4\")\n",
    "```"
   ]
  },
  {
   "cell_type": "markdown",
   "metadata": {
    "editable": true,
    "slideshow": {
     "slide_type": ""
    },
    "tags": []
   },
   "source": [
    "## Interacting with the wrapped classes\n",
    "\n",
    "Import the `Geant4` module. All the wrapped Geant4 classes are implicitly exported since they are prefixed by `G4`, and therefore the chances of a name clash with other Julia symbols is minimal.\n",
    "\n",
    "### Object instantiation\n",
    "\n",
    "We start by instantiating some very simple object of type `G4Box`.\n",
    "\n",
    "Note that:\n",
    "- The C++ constructor called is `G4Box::G4Box(const G4String &pName, G4double pX, G4double pY, G4double pZ)`\n",
    "- The conversion of Julia type `Int64` to C++ `G4double` is implicit, as well as the `String` to `G4String` "
   ]
  },
  {
   "cell_type": "code",
   "execution_count": 1,
   "metadata": {
    "editable": true,
    "slideshow": {
     "slide_type": ""
    },
    "tags": []
   },
   "outputs": [
    {
     "data": {
      "text/plain": [
       "Geant4.G4BoxAllocated(Ptr{Nothing} @0x0000000130830190)"
      ]
     },
     "execution_count": 1,
     "metadata": {},
     "output_type": "execute_result"
    }
   ],
   "source": [
    "using Geant4\n",
    "box = G4Box(\"MyBox\", 1, 2, 3)  # the C++ contructor called G4Box (const G4String &pName, G4double pX, G4double pY, G4double pZ)"
   ]
  },
  {
   "cell_type": "markdown",
   "metadata": {
    "editable": true,
    "slideshow": {
     "slide_type": ""
    },
    "tags": []
   },
   "source": [
    "The returned object is a pointer (`Ptr`) to the wrapped C++ object. The `CxxWrap` package encodes (with the type `Geant4.G4BoxAllocated`) that the object has been allocated from Julia and will by default be garbage collected when not needed.  "
   ]
  },
  {
   "cell_type": "code",
   "execution_count": 2,
   "metadata": {
    "editable": true,
    "slideshow": {
     "slide_type": ""
    },
    "tags": []
   },
   "outputs": [
    {
     "data": {
      "text/plain": [
       "2-element Vector{Any}:\n",
       " Geant4.G4BoxAllocated\n",
       " Geant4.G4BoxDereferenced"
      ]
     },
     "execution_count": 2,
     "metadata": {},
     "output_type": "execute_result"
    }
   ],
   "source": [
    "using Test\n",
    "@test typeof(box) == Geant4.G4BoxAllocated  # the type is indeed a G4BoxAllocated\n",
    "@test box isa G4Box                         # but is also a G4Box (G4BoxAllocated inherits from G4Box)\n",
    "\n",
    "subtypes(G4Box)                             # this shows all the subtypes of G4Box"
   ]
  },
  {
   "cell_type": "markdown",
   "metadata": {
    "editable": true,
    "slideshow": {
     "slide_type": ""
    },
    "tags": []
   },
   "source": [
    "To take the C++ pointer or the reference of a wrapped object, the `CxxWrap` module provides the functions `CxxPtr` and `CxxRef`. This is often needed to fullfil with the Geant4 C++ interfaces.    "
   ]
  },
  {
   "cell_type": "code",
   "execution_count": 3,
   "metadata": {
    "editable": true,
    "slideshow": {
     "slide_type": ""
    },
    "tags": []
   },
   "outputs": [
    {
     "data": {
      "text/plain": [
       "\u001b[32m\u001b[1mTest Passed\u001b[22m\u001b[39m"
      ]
     },
     "execution_count": 3,
     "metadata": {},
     "output_type": "execute_result"
    }
   ],
   "source": [
    "r_box =  CxxRef(box)\n",
    "p_box =  CxxPtr(box)\n",
    "@test r_box isa CxxRef{G4Box}  # reference\n",
    "@test p_box isa CxxPtr{G4Box}  # pointer"
   ]
  },
  {
   "cell_type": "markdown",
   "metadata": {
    "editable": true,
    "slideshow": {
     "slide_type": ""
    },
    "tags": []
   },
   "source": [
    "The user can derefence a `CxxRef` or `CxxPtr` with the operator `[]`"
   ]
  },
  {
   "cell_type": "code",
   "execution_count": 4,
   "metadata": {
    "editable": true,
    "slideshow": {
     "slide_type": ""
    },
    "tags": []
   },
   "outputs": [
    {
     "name": "stdout",
     "output_type": "stream",
     "text": [
      "typeof(r_box[]) = Geant4.G4BoxDereferenced\n",
      "typeof(p_box[]) = Geant4.G4BoxDereferenced\n"
     ]
    },
    {
     "data": {
      "text/plain": [
       "\u001b[32m\u001b[1mTest Passed\u001b[22m\u001b[39m"
      ]
     },
     "execution_count": 4,
     "metadata": {},
     "output_type": "execute_result"
    }
   ],
   "source": [
    "@show typeof(r_box[])\n",
    "@show typeof(p_box[])\n",
    "@test r_box[] == box\n",
    "@test p_box[] == box"
   ]
  },
  {
   "cell_type": "markdown",
   "metadata": {
    "editable": true,
    "slideshow": {
     "slide_type": ""
    },
    "tags": []
   },
   "source": [
    "### Calling object methods\n",
    "In julia, `methods` are instances of functions of a given name, of which the multi-dispatch functionality will select the best one that matches the actual argument types. To call a C++ method of a class we need to pass the wrapped object as first argument."
   ]
  },
  {
   "cell_type": "code",
   "execution_count": 5,
   "metadata": {
    "editable": true,
    "slideshow": {
     "slide_type": ""
    },
    "tags": []
   },
   "outputs": [
    {
     "data": {
      "text/plain": [
       "\u001b[32m\u001b[1mTest Passed\u001b[22m\u001b[39m"
      ]
     },
     "execution_count": 5,
     "metadata": {},
     "output_type": "execute_result"
    }
   ],
   "source": [
    "vol = GetCubicVolume(box)   # In C++ this would be box.GetCubicVolume()\n",
    "@test vol == 8 * GetXHalfLength(box) * GetYHalfLength(box) * GetZHalfLength(box) "
   ]
  },
  {
   "cell_type": "markdown",
   "metadata": {
    "editable": true,
    "slideshow": {
     "slide_type": ""
    },
    "tags": []
   },
   "source": [
    "We can see the methods defined for the function `GetCubicVolume` using the Julia builtin function `methods()`"
   ]
  },
  {
   "cell_type": "code",
   "execution_count": 6,
   "metadata": {
    "editable": true,
    "scrolled": true,
    "slideshow": {
     "slide_type": ""
    },
    "tags": [
     "scroll-output"
    ]
   },
   "outputs": [
    {
     "data": {
      "text/html": [
       "# 58 methods for generic function <b>GetCubicVolume</b> from \u001b[35mGeant4\u001b[39m:<ul><li> GetCubicVolume(arg1::<b>Union{Ptr{Nothing}, CxxPtr{<:G4SubtractionSolid}}</b>) in Geant4 at <a href=\"file:///Users/mato/.julia/packages/CxxWrap/5IZvn/src/CxxWrap.jl\" target=\"_blank\">/Users/mato/.julia/packages/CxxWrap/5IZvn/src/CxxWrap.jl:624</a></li> <li> GetCubicVolume(arg1::<b>Union{Ptr{Nothing}, CxxPtr{<:G4UnionSolid}}</b>) in Geant4 at <a href=\"file:///Users/mato/.julia/packages/CxxWrap/5IZvn/src/CxxWrap.jl\" target=\"_blank\">/Users/mato/.julia/packages/CxxWrap/5IZvn/src/CxxWrap.jl:624</a></li> <li> GetCubicVolume(arg1::<b>Union{Ptr{Nothing}, CxxPtr{<:G4TwistedTubs}}</b>) in Geant4 at <a href=\"file:///Users/mato/.julia/packages/CxxWrap/5IZvn/src/CxxWrap.jl\" target=\"_blank\">/Users/mato/.julia/packages/CxxWrap/5IZvn/src/CxxWrap.jl:624</a></li> <li> GetCubicVolume(arg1::<b>Union{Ptr{Nothing}, CxxPtr{<:G4BooleanSolid}}</b>) in Geant4 at <a href=\"file:///Users/mato/.julia/packages/CxxWrap/5IZvn/src/CxxWrap.jl\" target=\"_blank\">/Users/mato/.julia/packages/CxxWrap/5IZvn/src/CxxWrap.jl:624</a></li> <li> GetCubicVolume(arg1::<b>Union{Ptr{Nothing}, CxxPtr{<:G4GenericTrap}}</b>) in Geant4 at <a href=\"file:///Users/mato/.julia/packages/CxxWrap/5IZvn/src/CxxWrap.jl\" target=\"_blank\">/Users/mato/.julia/packages/CxxWrap/5IZvn/src/CxxWrap.jl:624</a></li> <li> GetCubicVolume(arg1::<b>Union{Ptr{Nothing}, CxxPtr{<:G4TwistedTrd}}</b>) in Geant4 at <a href=\"file:///Users/mato/.julia/packages/CxxWrap/5IZvn/src/CxxWrap.jl\" target=\"_blank\">/Users/mato/.julia/packages/CxxWrap/5IZvn/src/CxxWrap.jl:624</a></li> <li> GetCubicVolume(arg1::<b>Union{Ptr{Nothing}, CxxPtr{<:G4TwistedBox}}</b>) in Geant4 at <a href=\"file:///Users/mato/.julia/packages/CxxWrap/5IZvn/src/CxxWrap.jl\" target=\"_blank\">/Users/mato/.julia/packages/CxxWrap/5IZvn/src/CxxWrap.jl:624</a></li> <li> GetCubicVolume(arg1::<b>Union{Ptr{Nothing}, CxxPtr{<:G4Tet}}</b>) in Geant4 at <a href=\"file:///Users/mato/.julia/packages/CxxWrap/5IZvn/src/CxxWrap.jl\" target=\"_blank\">/Users/mato/.julia/packages/CxxWrap/5IZvn/src/CxxWrap.jl:624</a></li> <li> GetCubicVolume(arg1::<b>Union{Ptr{Nothing}, CxxPtr{<:G4Paraboloid}}</b>) in Geant4 at <a href=\"file:///Users/mato/.julia/packages/CxxWrap/5IZvn/src/CxxWrap.jl\" target=\"_blank\">/Users/mato/.julia/packages/CxxWrap/5IZvn/src/CxxWrap.jl:624</a></li> <li> GetCubicVolume(arg1::<b>Union{Ptr{Nothing}, CxxPtr{<:G4EllipticalCone}}</b>) in Geant4 at <a href=\"file:///Users/mato/.julia/packages/CxxWrap/5IZvn/src/CxxWrap.jl\" target=\"_blank\">/Users/mato/.julia/packages/CxxWrap/5IZvn/src/CxxWrap.jl:624</a></li> <li> GetCubicVolume(arg1::<b>Union{Ptr{Nothing}, CxxPtr{<:G4EllipticalTube}}</b>) in Geant4 at <a href=\"file:///Users/mato/.julia/packages/CxxWrap/5IZvn/src/CxxWrap.jl\" target=\"_blank\">/Users/mato/.julia/packages/CxxWrap/5IZvn/src/CxxWrap.jl:624</a></li> <li> GetCubicVolume(arg1::<b>Union{Ptr{Nothing}, CxxPtr{<:G4CutTubs}}</b>) in Geant4 at <a href=\"file:///Users/mato/.julia/packages/CxxWrap/5IZvn/src/CxxWrap.jl\" target=\"_blank\">/Users/mato/.julia/packages/CxxWrap/5IZvn/src/CxxWrap.jl:624</a></li> <li> GetCubicVolume(arg1::<b>Union{Ptr{Nothing}, CxxPtr{<:G4Tubs}}</b>) in Geant4 at <a href=\"file:///Users/mato/.julia/packages/CxxWrap/5IZvn/src/CxxWrap.jl\" target=\"_blank\">/Users/mato/.julia/packages/CxxWrap/5IZvn/src/CxxWrap.jl:624</a></li> <li> GetCubicVolume(arg1::<b>Union{Ptr{Nothing}, CxxPtr{<:G4Hype}}</b>) in Geant4 at <a href=\"file:///Users/mato/.julia/packages/CxxWrap/5IZvn/src/CxxWrap.jl\" target=\"_blank\">/Users/mato/.julia/packages/CxxWrap/5IZvn/src/CxxWrap.jl:624</a></li> <li> GetCubicVolume(arg1::<b>Union{Ptr{Nothing}, CxxPtr{<:G4Para}}</b>) in Geant4 at <a href=\"file:///Users/mato/.julia/packages/CxxWrap/5IZvn/src/CxxWrap.jl\" target=\"_blank\">/Users/mato/.julia/packages/CxxWrap/5IZvn/src/CxxWrap.jl:624</a></li> <li> GetCubicVolume(arg1::<b>Union{Ptr{Nothing}, CxxPtr{<:G4Torus}}</b>) in Geant4 at <a href=\"file:///Users/mato/.julia/packages/CxxWrap/5IZvn/src/CxxWrap.jl\" target=\"_blank\">/Users/mato/.julia/packages/CxxWrap/5IZvn/src/CxxWrap.jl:624</a></li> <li> GetCubicVolume(arg1::<b>Union{Ptr{Nothing}, CxxPtr{<:G4Ellipsoid}}</b>) in Geant4 at <a href=\"file:///Users/mato/.julia/packages/CxxWrap/5IZvn/src/CxxWrap.jl\" target=\"_blank\">/Users/mato/.julia/packages/CxxWrap/5IZvn/src/CxxWrap.jl:624</a></li> <li> GetCubicVolume(arg1::<b>Union{Ptr{Nothing}, CxxPtr{<:G4Orb}}</b>) in Geant4 at <a href=\"file:///Users/mato/.julia/packages/CxxWrap/5IZvn/src/CxxWrap.jl\" target=\"_blank\">/Users/mato/.julia/packages/CxxWrap/5IZvn/src/CxxWrap.jl:624</a></li> <li> GetCubicVolume(arg1::<b>Union{Ptr{Nothing}, CxxPtr{<:G4Sphere}}</b>) in Geant4 at <a href=\"file:///Users/mato/.julia/packages/CxxWrap/5IZvn/src/CxxWrap.jl\" target=\"_blank\">/Users/mato/.julia/packages/CxxWrap/5IZvn/src/CxxWrap.jl:624</a></li> <li> GetCubicVolume(arg1::<b>Union{Ptr{Nothing}, CxxPtr{<:G4Cons}}</b>) in Geant4 at <a href=\"file:///Users/mato/.julia/packages/CxxWrap/5IZvn/src/CxxWrap.jl\" target=\"_blank\">/Users/mato/.julia/packages/CxxWrap/5IZvn/src/CxxWrap.jl:624</a></li> <li> GetCubicVolume(arg1::<b>Union{Ptr{Nothing}, CxxPtr{<:G4Trap}}</b>) in Geant4 at <a href=\"file:///Users/mato/.julia/packages/CxxWrap/5IZvn/src/CxxWrap.jl\" target=\"_blank\">/Users/mato/.julia/packages/CxxWrap/5IZvn/src/CxxWrap.jl:624</a></li> <li> GetCubicVolume(arg1::<b>Union{Ptr{Nothing}, CxxPtr{<:G4Trd}}</b>) in Geant4 at <a href=\"file:///Users/mato/.julia/packages/CxxWrap/5IZvn/src/CxxWrap.jl\" target=\"_blank\">/Users/mato/.julia/packages/CxxWrap/5IZvn/src/CxxWrap.jl:624</a></li> <li> GetCubicVolume(arg1::<b>Union{Ptr{Nothing}, CxxPtr{<:G4MultiUnion}}</b>) in Geant4 at <a href=\"file:///Users/mato/.julia/packages/CxxWrap/5IZvn/src/CxxWrap.jl\" target=\"_blank\">/Users/mato/.julia/packages/CxxWrap/5IZvn/src/CxxWrap.jl:624</a></li> <li> GetCubicVolume(arg1::<b>Union{Ptr{Nothing}, CxxPtr{<:G4Box}}</b>) in Geant4 at <a href=\"file:///Users/mato/.julia/packages/CxxWrap/5IZvn/src/CxxWrap.jl\" target=\"_blank\">/Users/mato/.julia/packages/CxxWrap/5IZvn/src/CxxWrap.jl:624</a></li> <li> GetCubicVolume(arg1::<b>Union{Ptr{Nothing}, CxxPtr{<:G4DisplacedSolid}}</b>) in Geant4 at <a href=\"file:///Users/mato/.julia/packages/CxxWrap/5IZvn/src/CxxWrap.jl\" target=\"_blank\">/Users/mato/.julia/packages/CxxWrap/5IZvn/src/CxxWrap.jl:624</a></li> <li> GetCubicVolume(arg1::<b>Union{Ptr{Nothing}, CxxPtr{<:G4Polyhedra}}</b>) in Geant4 at <a href=\"file:///Users/mato/.julia/packages/CxxWrap/5IZvn/src/CxxWrap.jl\" target=\"_blank\">/Users/mato/.julia/packages/CxxWrap/5IZvn/src/CxxWrap.jl:624</a></li> <li> GetCubicVolume(arg1::<b>Union{Ptr{Nothing}, CxxPtr{<:G4Polycone}}</b>) in Geant4 at <a href=\"file:///Users/mato/.julia/packages/CxxWrap/5IZvn/src/CxxWrap.jl\" target=\"_blank\">/Users/mato/.julia/packages/CxxWrap/5IZvn/src/CxxWrap.jl:624</a></li> <li> GetCubicVolume(arg1::<b>Union{Ptr{Nothing}, CxxPtr{<:G4VCSGfaceted}}</b>) in Geant4 at <a href=\"file:///Users/mato/.julia/packages/CxxWrap/5IZvn/src/CxxWrap.jl\" target=\"_blank\">/Users/mato/.julia/packages/CxxWrap/5IZvn/src/CxxWrap.jl:624</a></li> <li> GetCubicVolume(arg1::<b>Union{Ptr{Nothing}, CxxPtr{<:G4VSolid}}</b>) in Geant4 at <a href=\"file:///Users/mato/.julia/packages/CxxWrap/5IZvn/src/CxxWrap.jl\" target=\"_blank\">/Users/mato/.julia/packages/CxxWrap/5IZvn/src/CxxWrap.jl:624</a></li> <li> GetCubicVolume(arg1::<b>Union{G4SubtractionSolid, CxxRef{<:G4SubtractionSolid}}</b>) in Geant4 at <a href=\"file:///Users/mato/.julia/packages/CxxWrap/5IZvn/src/CxxWrap.jl\" target=\"_blank\">/Users/mato/.julia/packages/CxxWrap/5IZvn/src/CxxWrap.jl:624</a></li> <li> GetCubicVolume(arg1::<b>Union{G4UnionSolid, CxxRef{<:G4UnionSolid}}</b>) in Geant4 at <a href=\"file:///Users/mato/.julia/packages/CxxWrap/5IZvn/src/CxxWrap.jl\" target=\"_blank\">/Users/mato/.julia/packages/CxxWrap/5IZvn/src/CxxWrap.jl:624</a></li> <li> GetCubicVolume(arg1::<b>Union{G4TwistedTubs, CxxRef{<:G4TwistedTubs}}</b>) in Geant4 at <a href=\"file:///Users/mato/.julia/packages/CxxWrap/5IZvn/src/CxxWrap.jl\" target=\"_blank\">/Users/mato/.julia/packages/CxxWrap/5IZvn/src/CxxWrap.jl:624</a></li> <li> GetCubicVolume(arg1::<b>Union{G4BooleanSolid, CxxRef{<:G4BooleanSolid}}</b>) in Geant4 at <a href=\"file:///Users/mato/.julia/packages/CxxWrap/5IZvn/src/CxxWrap.jl\" target=\"_blank\">/Users/mato/.julia/packages/CxxWrap/5IZvn/src/CxxWrap.jl:624</a></li> <li> GetCubicVolume(arg1::<b>Union{G4GenericTrap, CxxRef{<:G4GenericTrap}}</b>) in Geant4 at <a href=\"file:///Users/mato/.julia/packages/CxxWrap/5IZvn/src/CxxWrap.jl\" target=\"_blank\">/Users/mato/.julia/packages/CxxWrap/5IZvn/src/CxxWrap.jl:624</a></li> <li> GetCubicVolume(arg1::<b>Union{G4TwistedTrd, CxxRef{<:G4TwistedTrd}}</b>) in Geant4 at <a href=\"file:///Users/mato/.julia/packages/CxxWrap/5IZvn/src/CxxWrap.jl\" target=\"_blank\">/Users/mato/.julia/packages/CxxWrap/5IZvn/src/CxxWrap.jl:624</a></li> <li> GetCubicVolume(arg1::<b>Union{G4TwistedBox, CxxRef{<:G4TwistedBox}}</b>) in Geant4 at <a href=\"file:///Users/mato/.julia/packages/CxxWrap/5IZvn/src/CxxWrap.jl\" target=\"_blank\">/Users/mato/.julia/packages/CxxWrap/5IZvn/src/CxxWrap.jl:624</a></li> <li> GetCubicVolume(arg1::<b>Union{G4Tet, CxxRef{<:G4Tet}}</b>) in Geant4 at <a href=\"file:///Users/mato/.julia/packages/CxxWrap/5IZvn/src/CxxWrap.jl\" target=\"_blank\">/Users/mato/.julia/packages/CxxWrap/5IZvn/src/CxxWrap.jl:624</a></li> <li> GetCubicVolume(arg1::<b>Union{G4Paraboloid, CxxRef{<:G4Paraboloid}}</b>) in Geant4 at <a href=\"file:///Users/mato/.julia/packages/CxxWrap/5IZvn/src/CxxWrap.jl\" target=\"_blank\">/Users/mato/.julia/packages/CxxWrap/5IZvn/src/CxxWrap.jl:624</a></li> <li> GetCubicVolume(arg1::<b>Union{G4EllipticalCone, CxxRef{<:G4EllipticalCone}}</b>) in Geant4 at <a href=\"file:///Users/mato/.julia/packages/CxxWrap/5IZvn/src/CxxWrap.jl\" target=\"_blank\">/Users/mato/.julia/packages/CxxWrap/5IZvn/src/CxxWrap.jl:624</a></li> <li> GetCubicVolume(arg1::<b>Union{G4EllipticalTube, CxxRef{<:G4EllipticalTube}}</b>) in Geant4 at <a href=\"file:///Users/mato/.julia/packages/CxxWrap/5IZvn/src/CxxWrap.jl\" target=\"_blank\">/Users/mato/.julia/packages/CxxWrap/5IZvn/src/CxxWrap.jl:624</a></li> <li> GetCubicVolume(arg1::<b>Union{G4CutTubs, CxxRef{<:G4CutTubs}}</b>) in Geant4 at <a href=\"file:///Users/mato/.julia/packages/CxxWrap/5IZvn/src/CxxWrap.jl\" target=\"_blank\">/Users/mato/.julia/packages/CxxWrap/5IZvn/src/CxxWrap.jl:624</a></li> <li> GetCubicVolume(arg1::<b>Union{G4Tubs, CxxRef{<:G4Tubs}}</b>) in Geant4 at <a href=\"file:///Users/mato/.julia/packages/CxxWrap/5IZvn/src/CxxWrap.jl\" target=\"_blank\">/Users/mato/.julia/packages/CxxWrap/5IZvn/src/CxxWrap.jl:624</a></li> <li> GetCubicVolume(arg1::<b>Union{G4Hype, CxxRef{<:G4Hype}}</b>) in Geant4 at <a href=\"file:///Users/mato/.julia/packages/CxxWrap/5IZvn/src/CxxWrap.jl\" target=\"_blank\">/Users/mato/.julia/packages/CxxWrap/5IZvn/src/CxxWrap.jl:624</a></li> <li> GetCubicVolume(arg1::<b>Union{G4Para, CxxRef{<:G4Para}}</b>) in Geant4 at <a href=\"file:///Users/mato/.julia/packages/CxxWrap/5IZvn/src/CxxWrap.jl\" target=\"_blank\">/Users/mato/.julia/packages/CxxWrap/5IZvn/src/CxxWrap.jl:624</a></li> <li> GetCubicVolume(arg1::<b>Union{G4Torus, CxxRef{<:G4Torus}}</b>) in Geant4 at <a href=\"file:///Users/mato/.julia/packages/CxxWrap/5IZvn/src/CxxWrap.jl\" target=\"_blank\">/Users/mato/.julia/packages/CxxWrap/5IZvn/src/CxxWrap.jl:624</a></li> <li> GetCubicVolume(arg1::<b>Union{G4Ellipsoid, CxxRef{<:G4Ellipsoid}}</b>) in Geant4 at <a href=\"file:///Users/mato/.julia/packages/CxxWrap/5IZvn/src/CxxWrap.jl\" target=\"_blank\">/Users/mato/.julia/packages/CxxWrap/5IZvn/src/CxxWrap.jl:624</a></li> <li> GetCubicVolume(arg1::<b>Union{G4Orb, CxxRef{<:G4Orb}}</b>) in Geant4 at <a href=\"file:///Users/mato/.julia/packages/CxxWrap/5IZvn/src/CxxWrap.jl\" target=\"_blank\">/Users/mato/.julia/packages/CxxWrap/5IZvn/src/CxxWrap.jl:624</a></li> <li> GetCubicVolume(arg1::<b>Union{G4Sphere, CxxRef{<:G4Sphere}}</b>) in Geant4 at <a href=\"file:///Users/mato/.julia/packages/CxxWrap/5IZvn/src/CxxWrap.jl\" target=\"_blank\">/Users/mato/.julia/packages/CxxWrap/5IZvn/src/CxxWrap.jl:624</a></li> <li> GetCubicVolume(arg1::<b>Union{G4Cons, CxxRef{<:G4Cons}}</b>) in Geant4 at <a href=\"file:///Users/mato/.julia/packages/CxxWrap/5IZvn/src/CxxWrap.jl\" target=\"_blank\">/Users/mato/.julia/packages/CxxWrap/5IZvn/src/CxxWrap.jl:624</a></li> <li> GetCubicVolume(arg1::<b>Union{G4Trap, CxxRef{<:G4Trap}}</b>) in Geant4 at <a href=\"file:///Users/mato/.julia/packages/CxxWrap/5IZvn/src/CxxWrap.jl\" target=\"_blank\">/Users/mato/.julia/packages/CxxWrap/5IZvn/src/CxxWrap.jl:624</a></li> <li> GetCubicVolume(arg1::<b>Union{G4Trd, CxxRef{<:G4Trd}}</b>) in Geant4 at <a href=\"file:///Users/mato/.julia/packages/CxxWrap/5IZvn/src/CxxWrap.jl\" target=\"_blank\">/Users/mato/.julia/packages/CxxWrap/5IZvn/src/CxxWrap.jl:624</a></li> <li> GetCubicVolume(arg1::<b>Union{G4MultiUnion, CxxRef{<:G4MultiUnion}}</b>) in Geant4 at <a href=\"file:///Users/mato/.julia/packages/CxxWrap/5IZvn/src/CxxWrap.jl\" target=\"_blank\">/Users/mato/.julia/packages/CxxWrap/5IZvn/src/CxxWrap.jl:624</a></li> <li> GetCubicVolume(arg1::<b>Union{G4Box, CxxRef{<:G4Box}}</b>) in Geant4 at <a href=\"file:///Users/mato/.julia/packages/CxxWrap/5IZvn/src/CxxWrap.jl\" target=\"_blank\">/Users/mato/.julia/packages/CxxWrap/5IZvn/src/CxxWrap.jl:624</a></li> <li> GetCubicVolume(arg1::<b>Union{G4DisplacedSolid, CxxRef{<:G4DisplacedSolid}}</b>) in Geant4 at <a href=\"file:///Users/mato/.julia/packages/CxxWrap/5IZvn/src/CxxWrap.jl\" target=\"_blank\">/Users/mato/.julia/packages/CxxWrap/5IZvn/src/CxxWrap.jl:624</a></li> <li> GetCubicVolume(arg1::<b>Union{G4VCSGfaceted, CxxRef{<:G4VCSGfaceted}}</b>) in Geant4 at <a href=\"file:///Users/mato/.julia/packages/CxxWrap/5IZvn/src/CxxWrap.jl\" target=\"_blank\">/Users/mato/.julia/packages/CxxWrap/5IZvn/src/CxxWrap.jl:624</a></li> <li> GetCubicVolume(arg1::<b>Union{G4Polycone, CxxRef{<:G4Polycone}}</b>) in Geant4 at <a href=\"file:///Users/mato/.julia/packages/CxxWrap/5IZvn/src/CxxWrap.jl\" target=\"_blank\">/Users/mato/.julia/packages/CxxWrap/5IZvn/src/CxxWrap.jl:624</a></li> <li> GetCubicVolume(arg1::<b>Union{G4Polyhedra, CxxRef{<:G4Polyhedra}}</b>) in Geant4 at <a href=\"file:///Users/mato/.julia/packages/CxxWrap/5IZvn/src/CxxWrap.jl\" target=\"_blank\">/Users/mato/.julia/packages/CxxWrap/5IZvn/src/CxxWrap.jl:624</a></li> <li> GetCubicVolume(arg1::<b>Union{G4VSolid, CxxRef{<:G4VSolid}}</b>) in Geant4 at <a href=\"file:///Users/mato/.julia/packages/CxxWrap/5IZvn/src/CxxWrap.jl\" target=\"_blank\">/Users/mato/.julia/packages/CxxWrap/5IZvn/src/CxxWrap.jl:624</a></li> </ul>"
      ],
      "text/plain": [
       "# 58 methods for generic function \"GetCubicVolume\" from \u001b[35mGeant4\u001b[39m:\n",
       "  [1] GetCubicVolume(\u001b[90marg1\u001b[39m::\u001b[1mUnion\u001b[22m\u001b[0m{Ptr{Nothing}, CxxPtr{<:G4SubtractionSolid}})\n",
       "\u001b[90m     @\u001b[39m \u001b[90m~/.julia/packages/CxxWrap/5IZvn/src/\u001b[39m\u001b[90m\u001b[4mCxxWrap.jl:624\u001b[24m\u001b[39m\n",
       "  [2] GetCubicVolume(\u001b[90marg1\u001b[39m::\u001b[1mUnion\u001b[22m\u001b[0m{Ptr{Nothing}, CxxPtr{<:G4UnionSolid}})\n",
       "\u001b[90m     @\u001b[39m \u001b[90m~/.julia/packages/CxxWrap/5IZvn/src/\u001b[39m\u001b[90m\u001b[4mCxxWrap.jl:624\u001b[24m\u001b[39m\n",
       "  [3] GetCubicVolume(\u001b[90marg1\u001b[39m::\u001b[1mUnion\u001b[22m\u001b[0m{Ptr{Nothing}, CxxPtr{<:G4TwistedTubs}})\n",
       "\u001b[90m     @\u001b[39m \u001b[90m~/.julia/packages/CxxWrap/5IZvn/src/\u001b[39m\u001b[90m\u001b[4mCxxWrap.jl:624\u001b[24m\u001b[39m\n",
       "  [4] GetCubicVolume(\u001b[90marg1\u001b[39m::\u001b[1mUnion\u001b[22m\u001b[0m{Ptr{Nothing}, CxxPtr{<:G4BooleanSolid}})\n",
       "\u001b[90m     @\u001b[39m \u001b[90m~/.julia/packages/CxxWrap/5IZvn/src/\u001b[39m\u001b[90m\u001b[4mCxxWrap.jl:624\u001b[24m\u001b[39m\n",
       "  [5] GetCubicVolume(\u001b[90marg1\u001b[39m::\u001b[1mUnion\u001b[22m\u001b[0m{Ptr{Nothing}, CxxPtr{<:G4GenericTrap}})\n",
       "\u001b[90m     @\u001b[39m \u001b[90m~/.julia/packages/CxxWrap/5IZvn/src/\u001b[39m\u001b[90m\u001b[4mCxxWrap.jl:624\u001b[24m\u001b[39m\n",
       "  [6] GetCubicVolume(\u001b[90marg1\u001b[39m::\u001b[1mUnion\u001b[22m\u001b[0m{Ptr{Nothing}, CxxPtr{<:G4TwistedTrd}})\n",
       "\u001b[90m     @\u001b[39m \u001b[90m~/.julia/packages/CxxWrap/5IZvn/src/\u001b[39m\u001b[90m\u001b[4mCxxWrap.jl:624\u001b[24m\u001b[39m\n",
       "  [7] GetCubicVolume(\u001b[90marg1\u001b[39m::\u001b[1mUnion\u001b[22m\u001b[0m{Ptr{Nothing}, CxxPtr{<:G4TwistedBox}})\n",
       "\u001b[90m     @\u001b[39m \u001b[90m~/.julia/packages/CxxWrap/5IZvn/src/\u001b[39m\u001b[90m\u001b[4mCxxWrap.jl:624\u001b[24m\u001b[39m\n",
       "  [8] GetCubicVolume(\u001b[90marg1\u001b[39m::\u001b[1mUnion\u001b[22m\u001b[0m{Ptr{Nothing}, CxxPtr{<:G4Tet}})\n",
       "\u001b[90m     @\u001b[39m \u001b[90m~/.julia/packages/CxxWrap/5IZvn/src/\u001b[39m\u001b[90m\u001b[4mCxxWrap.jl:624\u001b[24m\u001b[39m\n",
       "  [9] GetCubicVolume(\u001b[90marg1\u001b[39m::\u001b[1mUnion\u001b[22m\u001b[0m{Ptr{Nothing}, CxxPtr{<:G4Paraboloid}})\n",
       "\u001b[90m     @\u001b[39m \u001b[90m~/.julia/packages/CxxWrap/5IZvn/src/\u001b[39m\u001b[90m\u001b[4mCxxWrap.jl:624\u001b[24m\u001b[39m\n",
       " [10] GetCubicVolume(\u001b[90marg1\u001b[39m::\u001b[1mUnion\u001b[22m\u001b[0m{Ptr{Nothing}, CxxPtr{<:G4EllipticalCone}})\n",
       "\u001b[90m     @\u001b[39m \u001b[90m~/.julia/packages/CxxWrap/5IZvn/src/\u001b[39m\u001b[90m\u001b[4mCxxWrap.jl:624\u001b[24m\u001b[39m\n",
       " [11] GetCubicVolume(\u001b[90marg1\u001b[39m::\u001b[1mUnion\u001b[22m\u001b[0m{Ptr{Nothing}, CxxPtr{<:G4EllipticalTube}})\n",
       "\u001b[90m     @\u001b[39m \u001b[90m~/.julia/packages/CxxWrap/5IZvn/src/\u001b[39m\u001b[90m\u001b[4mCxxWrap.jl:624\u001b[24m\u001b[39m\n",
       " [12] GetCubicVolume(\u001b[90marg1\u001b[39m::\u001b[1mUnion\u001b[22m\u001b[0m{Ptr{Nothing}, CxxPtr{<:G4CutTubs}})\n",
       "\u001b[90m     @\u001b[39m \u001b[90m~/.julia/packages/CxxWrap/5IZvn/src/\u001b[39m\u001b[90m\u001b[4mCxxWrap.jl:624\u001b[24m\u001b[39m\n",
       " [13] GetCubicVolume(\u001b[90marg1\u001b[39m::\u001b[1mUnion\u001b[22m\u001b[0m{Ptr{Nothing}, CxxPtr{<:G4Tubs}})\n",
       "\u001b[90m     @\u001b[39m \u001b[90m~/.julia/packages/CxxWrap/5IZvn/src/\u001b[39m\u001b[90m\u001b[4mCxxWrap.jl:624\u001b[24m\u001b[39m\n",
       " [14] GetCubicVolume(\u001b[90marg1\u001b[39m::\u001b[1mUnion\u001b[22m\u001b[0m{Ptr{Nothing}, CxxPtr{<:G4Hype}})\n",
       "\u001b[90m     @\u001b[39m \u001b[90m~/.julia/packages/CxxWrap/5IZvn/src/\u001b[39m\u001b[90m\u001b[4mCxxWrap.jl:624\u001b[24m\u001b[39m\n",
       " [15] GetCubicVolume(\u001b[90marg1\u001b[39m::\u001b[1mUnion\u001b[22m\u001b[0m{Ptr{Nothing}, CxxPtr{<:G4Para}})\n",
       "\u001b[90m     @\u001b[39m \u001b[90m~/.julia/packages/CxxWrap/5IZvn/src/\u001b[39m\u001b[90m\u001b[4mCxxWrap.jl:624\u001b[24m\u001b[39m\n",
       " [16] GetCubicVolume(\u001b[90marg1\u001b[39m::\u001b[1mUnion\u001b[22m\u001b[0m{Ptr{Nothing}, CxxPtr{<:G4Torus}})\n",
       "\u001b[90m     @\u001b[39m \u001b[90m~/.julia/packages/CxxWrap/5IZvn/src/\u001b[39m\u001b[90m\u001b[4mCxxWrap.jl:624\u001b[24m\u001b[39m\n",
       " [17] GetCubicVolume(\u001b[90marg1\u001b[39m::\u001b[1mUnion\u001b[22m\u001b[0m{Ptr{Nothing}, CxxPtr{<:G4Ellipsoid}})\n",
       "\u001b[90m     @\u001b[39m \u001b[90m~/.julia/packages/CxxWrap/5IZvn/src/\u001b[39m\u001b[90m\u001b[4mCxxWrap.jl:624\u001b[24m\u001b[39m\n",
       " [18] GetCubicVolume(\u001b[90marg1\u001b[39m::\u001b[1mUnion\u001b[22m\u001b[0m{Ptr{Nothing}, CxxPtr{<:G4Orb}})\n",
       "\u001b[90m     @\u001b[39m \u001b[90m~/.julia/packages/CxxWrap/5IZvn/src/\u001b[39m\u001b[90m\u001b[4mCxxWrap.jl:624\u001b[24m\u001b[39m\n",
       " [19] GetCubicVolume(\u001b[90marg1\u001b[39m::\u001b[1mUnion\u001b[22m\u001b[0m{Ptr{Nothing}, CxxPtr{<:G4Sphere}})\n",
       "\u001b[90m     @\u001b[39m \u001b[90m~/.julia/packages/CxxWrap/5IZvn/src/\u001b[39m\u001b[90m\u001b[4mCxxWrap.jl:624\u001b[24m\u001b[39m\n",
       " [20] GetCubicVolume(\u001b[90marg1\u001b[39m::\u001b[1mUnion\u001b[22m\u001b[0m{Ptr{Nothing}, CxxPtr{<:G4Cons}})\n",
       "\u001b[90m     @\u001b[39m \u001b[90m~/.julia/packages/CxxWrap/5IZvn/src/\u001b[39m\u001b[90m\u001b[4mCxxWrap.jl:624\u001b[24m\u001b[39m\n",
       " [21] GetCubicVolume(\u001b[90marg1\u001b[39m::\u001b[1mUnion\u001b[22m\u001b[0m{Ptr{Nothing}, CxxPtr{<:G4Trap}})\n",
       "\u001b[90m     @\u001b[39m \u001b[90m~/.julia/packages/CxxWrap/5IZvn/src/\u001b[39m\u001b[90m\u001b[4mCxxWrap.jl:624\u001b[24m\u001b[39m\n",
       " [22] GetCubicVolume(\u001b[90marg1\u001b[39m::\u001b[1mUnion\u001b[22m\u001b[0m{Ptr{Nothing}, CxxPtr{<:G4Trd}})\n",
       "\u001b[90m     @\u001b[39m \u001b[90m~/.julia/packages/CxxWrap/5IZvn/src/\u001b[39m\u001b[90m\u001b[4mCxxWrap.jl:624\u001b[24m\u001b[39m\n",
       " [23] GetCubicVolume(\u001b[90marg1\u001b[39m::\u001b[1mUnion\u001b[22m\u001b[0m{Ptr{Nothing}, CxxPtr{<:G4MultiUnion}})\n",
       "\u001b[90m     @\u001b[39m \u001b[90m~/.julia/packages/CxxWrap/5IZvn/src/\u001b[39m\u001b[90m\u001b[4mCxxWrap.jl:624\u001b[24m\u001b[39m\n",
       " [24] GetCubicVolume(\u001b[90marg1\u001b[39m::\u001b[1mUnion\u001b[22m\u001b[0m{Ptr{Nothing}, CxxPtr{<:G4Box}})\n",
       "\u001b[90m     @\u001b[39m \u001b[90m~/.julia/packages/CxxWrap/5IZvn/src/\u001b[39m\u001b[90m\u001b[4mCxxWrap.jl:624\u001b[24m\u001b[39m\n",
       " [25] GetCubicVolume(\u001b[90marg1\u001b[39m::\u001b[1mUnion\u001b[22m\u001b[0m{Ptr{Nothing}, CxxPtr{<:G4DisplacedSolid}})\n",
       "\u001b[90m     @\u001b[39m \u001b[90m~/.julia/packages/CxxWrap/5IZvn/src/\u001b[39m\u001b[90m\u001b[4mCxxWrap.jl:624\u001b[24m\u001b[39m\n",
       " [26] GetCubicVolume(\u001b[90marg1\u001b[39m::\u001b[1mUnion\u001b[22m\u001b[0m{Ptr{Nothing}, CxxPtr{<:G4Polyhedra}})\n",
       "\u001b[90m     @\u001b[39m \u001b[90m~/.julia/packages/CxxWrap/5IZvn/src/\u001b[39m\u001b[90m\u001b[4mCxxWrap.jl:624\u001b[24m\u001b[39m\n",
       " [27] GetCubicVolume(\u001b[90marg1\u001b[39m::\u001b[1mUnion\u001b[22m\u001b[0m{Ptr{Nothing}, CxxPtr{<:G4Polycone}})\n",
       "\u001b[90m     @\u001b[39m \u001b[90m~/.julia/packages/CxxWrap/5IZvn/src/\u001b[39m\u001b[90m\u001b[4mCxxWrap.jl:624\u001b[24m\u001b[39m\n",
       " [28] GetCubicVolume(\u001b[90marg1\u001b[39m::\u001b[1mUnion\u001b[22m\u001b[0m{Ptr{Nothing}, CxxPtr{<:G4VCSGfaceted}})\n",
       "\u001b[90m     @\u001b[39m \u001b[90m~/.julia/packages/CxxWrap/5IZvn/src/\u001b[39m\u001b[90m\u001b[4mCxxWrap.jl:624\u001b[24m\u001b[39m\n",
       " [29] GetCubicVolume(\u001b[90marg1\u001b[39m::\u001b[1mUnion\u001b[22m\u001b[0m{Ptr{Nothing}, CxxPtr{<:G4VSolid}})\n",
       "\u001b[90m     @\u001b[39m \u001b[90m~/.julia/packages/CxxWrap/5IZvn/src/\u001b[39m\u001b[90m\u001b[4mCxxWrap.jl:624\u001b[24m\u001b[39m\n",
       " [30] GetCubicVolume(\u001b[90marg1\u001b[39m::\u001b[1mUnion\u001b[22m\u001b[0m{G4SubtractionSolid, CxxRef{<:G4SubtractionSolid}})\n",
       "\u001b[90m     @\u001b[39m \u001b[90m~/.julia/packages/CxxWrap/5IZvn/src/\u001b[39m\u001b[90m\u001b[4mCxxWrap.jl:624\u001b[24m\u001b[39m\n",
       " [31] GetCubicVolume(\u001b[90marg1\u001b[39m::\u001b[1mUnion\u001b[22m\u001b[0m{G4UnionSolid, CxxRef{<:G4UnionSolid}})\n",
       "\u001b[90m     @\u001b[39m \u001b[90m~/.julia/packages/CxxWrap/5IZvn/src/\u001b[39m\u001b[90m\u001b[4mCxxWrap.jl:624\u001b[24m\u001b[39m\n",
       " [32] GetCubicVolume(\u001b[90marg1\u001b[39m::\u001b[1mUnion\u001b[22m\u001b[0m{G4TwistedTubs, CxxRef{<:G4TwistedTubs}})\n",
       "\u001b[90m     @\u001b[39m \u001b[90m~/.julia/packages/CxxWrap/5IZvn/src/\u001b[39m\u001b[90m\u001b[4mCxxWrap.jl:624\u001b[24m\u001b[39m\n",
       " [33] GetCubicVolume(\u001b[90marg1\u001b[39m::\u001b[1mUnion\u001b[22m\u001b[0m{G4BooleanSolid, CxxRef{<:G4BooleanSolid}})\n",
       "\u001b[90m     @\u001b[39m \u001b[90m~/.julia/packages/CxxWrap/5IZvn/src/\u001b[39m\u001b[90m\u001b[4mCxxWrap.jl:624\u001b[24m\u001b[39m\n",
       " [34] GetCubicVolume(\u001b[90marg1\u001b[39m::\u001b[1mUnion\u001b[22m\u001b[0m{G4GenericTrap, CxxRef{<:G4GenericTrap}})\n",
       "\u001b[90m     @\u001b[39m \u001b[90m~/.julia/packages/CxxWrap/5IZvn/src/\u001b[39m\u001b[90m\u001b[4mCxxWrap.jl:624\u001b[24m\u001b[39m\n",
       " [35] GetCubicVolume(\u001b[90marg1\u001b[39m::\u001b[1mUnion\u001b[22m\u001b[0m{G4TwistedTrd, CxxRef{<:G4TwistedTrd}})\n",
       "\u001b[90m     @\u001b[39m \u001b[90m~/.julia/packages/CxxWrap/5IZvn/src/\u001b[39m\u001b[90m\u001b[4mCxxWrap.jl:624\u001b[24m\u001b[39m\n",
       " [36] GetCubicVolume(\u001b[90marg1\u001b[39m::\u001b[1mUnion\u001b[22m\u001b[0m{G4TwistedBox, CxxRef{<:G4TwistedBox}})\n",
       "\u001b[90m     @\u001b[39m \u001b[90m~/.julia/packages/CxxWrap/5IZvn/src/\u001b[39m\u001b[90m\u001b[4mCxxWrap.jl:624\u001b[24m\u001b[39m\n",
       " [37] GetCubicVolume(\u001b[90marg1\u001b[39m::\u001b[1mUnion\u001b[22m\u001b[0m{G4Tet, CxxRef{<:G4Tet}})\n",
       "\u001b[90m     @\u001b[39m \u001b[90m~/.julia/packages/CxxWrap/5IZvn/src/\u001b[39m\u001b[90m\u001b[4mCxxWrap.jl:624\u001b[24m\u001b[39m\n",
       " [38] GetCubicVolume(\u001b[90marg1\u001b[39m::\u001b[1mUnion\u001b[22m\u001b[0m{G4Paraboloid, CxxRef{<:G4Paraboloid}})\n",
       "\u001b[90m     @\u001b[39m \u001b[90m~/.julia/packages/CxxWrap/5IZvn/src/\u001b[39m\u001b[90m\u001b[4mCxxWrap.jl:624\u001b[24m\u001b[39m\n",
       " [39] GetCubicVolume(\u001b[90marg1\u001b[39m::\u001b[1mUnion\u001b[22m\u001b[0m{G4EllipticalCone, CxxRef{<:G4EllipticalCone}})\n",
       "\u001b[90m     @\u001b[39m \u001b[90m~/.julia/packages/CxxWrap/5IZvn/src/\u001b[39m\u001b[90m\u001b[4mCxxWrap.jl:624\u001b[24m\u001b[39m\n",
       " [40] GetCubicVolume(\u001b[90marg1\u001b[39m::\u001b[1mUnion\u001b[22m\u001b[0m{G4EllipticalTube, CxxRef{<:G4EllipticalTube}})\n",
       "\u001b[90m     @\u001b[39m \u001b[90m~/.julia/packages/CxxWrap/5IZvn/src/\u001b[39m\u001b[90m\u001b[4mCxxWrap.jl:624\u001b[24m\u001b[39m\n",
       " [41] GetCubicVolume(\u001b[90marg1\u001b[39m::\u001b[1mUnion\u001b[22m\u001b[0m{G4CutTubs, CxxRef{<:G4CutTubs}})\n",
       "\u001b[90m     @\u001b[39m \u001b[90m~/.julia/packages/CxxWrap/5IZvn/src/\u001b[39m\u001b[90m\u001b[4mCxxWrap.jl:624\u001b[24m\u001b[39m\n",
       " [42] GetCubicVolume(\u001b[90marg1\u001b[39m::\u001b[1mUnion\u001b[22m\u001b[0m{G4Tubs, CxxRef{<:G4Tubs}})\n",
       "\u001b[90m     @\u001b[39m \u001b[90m~/.julia/packages/CxxWrap/5IZvn/src/\u001b[39m\u001b[90m\u001b[4mCxxWrap.jl:624\u001b[24m\u001b[39m\n",
       " [43] GetCubicVolume(\u001b[90marg1\u001b[39m::\u001b[1mUnion\u001b[22m\u001b[0m{G4Hype, CxxRef{<:G4Hype}})\n",
       "\u001b[90m     @\u001b[39m \u001b[90m~/.julia/packages/CxxWrap/5IZvn/src/\u001b[39m\u001b[90m\u001b[4mCxxWrap.jl:624\u001b[24m\u001b[39m\n",
       " [44] GetCubicVolume(\u001b[90marg1\u001b[39m::\u001b[1mUnion\u001b[22m\u001b[0m{G4Para, CxxRef{<:G4Para}})\n",
       "\u001b[90m     @\u001b[39m \u001b[90m~/.julia/packages/CxxWrap/5IZvn/src/\u001b[39m\u001b[90m\u001b[4mCxxWrap.jl:624\u001b[24m\u001b[39m\n",
       " [45] GetCubicVolume(\u001b[90marg1\u001b[39m::\u001b[1mUnion\u001b[22m\u001b[0m{G4Torus, CxxRef{<:G4Torus}})\n",
       "\u001b[90m     @\u001b[39m \u001b[90m~/.julia/packages/CxxWrap/5IZvn/src/\u001b[39m\u001b[90m\u001b[4mCxxWrap.jl:624\u001b[24m\u001b[39m\n",
       " [46] GetCubicVolume(\u001b[90marg1\u001b[39m::\u001b[1mUnion\u001b[22m\u001b[0m{G4Ellipsoid, CxxRef{<:G4Ellipsoid}})\n",
       "\u001b[90m     @\u001b[39m \u001b[90m~/.julia/packages/CxxWrap/5IZvn/src/\u001b[39m\u001b[90m\u001b[4mCxxWrap.jl:624\u001b[24m\u001b[39m\n",
       " [47] GetCubicVolume(\u001b[90marg1\u001b[39m::\u001b[1mUnion\u001b[22m\u001b[0m{G4Orb, CxxRef{<:G4Orb}})\n",
       "\u001b[90m     @\u001b[39m \u001b[90m~/.julia/packages/CxxWrap/5IZvn/src/\u001b[39m\u001b[90m\u001b[4mCxxWrap.jl:624\u001b[24m\u001b[39m\n",
       " [48] GetCubicVolume(\u001b[90marg1\u001b[39m::\u001b[1mUnion\u001b[22m\u001b[0m{G4Sphere, CxxRef{<:G4Sphere}})\n",
       "\u001b[90m     @\u001b[39m \u001b[90m~/.julia/packages/CxxWrap/5IZvn/src/\u001b[39m\u001b[90m\u001b[4mCxxWrap.jl:624\u001b[24m\u001b[39m\n",
       " [49] GetCubicVolume(\u001b[90marg1\u001b[39m::\u001b[1mUnion\u001b[22m\u001b[0m{G4Cons, CxxRef{<:G4Cons}})\n",
       "\u001b[90m     @\u001b[39m \u001b[90m~/.julia/packages/CxxWrap/5IZvn/src/\u001b[39m\u001b[90m\u001b[4mCxxWrap.jl:624\u001b[24m\u001b[39m\n",
       " [50] GetCubicVolume(\u001b[90marg1\u001b[39m::\u001b[1mUnion\u001b[22m\u001b[0m{G4Trap, CxxRef{<:G4Trap}})\n",
       "\u001b[90m     @\u001b[39m \u001b[90m~/.julia/packages/CxxWrap/5IZvn/src/\u001b[39m\u001b[90m\u001b[4mCxxWrap.jl:624\u001b[24m\u001b[39m\n",
       " [51] GetCubicVolume(\u001b[90marg1\u001b[39m::\u001b[1mUnion\u001b[22m\u001b[0m{G4Trd, CxxRef{<:G4Trd}})\n",
       "\u001b[90m     @\u001b[39m \u001b[90m~/.julia/packages/CxxWrap/5IZvn/src/\u001b[39m\u001b[90m\u001b[4mCxxWrap.jl:624\u001b[24m\u001b[39m\n",
       " [52] GetCubicVolume(\u001b[90marg1\u001b[39m::\u001b[1mUnion\u001b[22m\u001b[0m{G4MultiUnion, CxxRef{<:G4MultiUnion}})\n",
       "\u001b[90m     @\u001b[39m \u001b[90m~/.julia/packages/CxxWrap/5IZvn/src/\u001b[39m\u001b[90m\u001b[4mCxxWrap.jl:624\u001b[24m\u001b[39m\n",
       " [53] GetCubicVolume(\u001b[90marg1\u001b[39m::\u001b[1mUnion\u001b[22m\u001b[0m{G4Box, CxxRef{<:G4Box}})\n",
       "\u001b[90m     @\u001b[39m \u001b[90m~/.julia/packages/CxxWrap/5IZvn/src/\u001b[39m\u001b[90m\u001b[4mCxxWrap.jl:624\u001b[24m\u001b[39m\n",
       " [54] GetCubicVolume(\u001b[90marg1\u001b[39m::\u001b[1mUnion\u001b[22m\u001b[0m{G4DisplacedSolid, CxxRef{<:G4DisplacedSolid}})\n",
       "\u001b[90m     @\u001b[39m \u001b[90m~/.julia/packages/CxxWrap/5IZvn/src/\u001b[39m\u001b[90m\u001b[4mCxxWrap.jl:624\u001b[24m\u001b[39m\n",
       " [55] GetCubicVolume(\u001b[90marg1\u001b[39m::\u001b[1mUnion\u001b[22m\u001b[0m{G4VCSGfaceted, CxxRef{<:G4VCSGfaceted}})\n",
       "\u001b[90m     @\u001b[39m \u001b[90m~/.julia/packages/CxxWrap/5IZvn/src/\u001b[39m\u001b[90m\u001b[4mCxxWrap.jl:624\u001b[24m\u001b[39m\n",
       " [56] GetCubicVolume(\u001b[90marg1\u001b[39m::\u001b[1mUnion\u001b[22m\u001b[0m{G4Polycone, CxxRef{<:G4Polycone}})\n",
       "\u001b[90m     @\u001b[39m \u001b[90m~/.julia/packages/CxxWrap/5IZvn/src/\u001b[39m\u001b[90m\u001b[4mCxxWrap.jl:624\u001b[24m\u001b[39m\n",
       " [57] GetCubicVolume(\u001b[90marg1\u001b[39m::\u001b[1mUnion\u001b[22m\u001b[0m{G4Polyhedra, CxxRef{<:G4Polyhedra}})\n",
       "\u001b[90m     @\u001b[39m \u001b[90m~/.julia/packages/CxxWrap/5IZvn/src/\u001b[39m\u001b[90m\u001b[4mCxxWrap.jl:624\u001b[24m\u001b[39m\n",
       " [58] GetCubicVolume(\u001b[90marg1\u001b[39m::\u001b[1mUnion\u001b[22m\u001b[0m{G4VSolid, CxxRef{<:G4VSolid}})\n",
       "\u001b[90m     @\u001b[39m \u001b[90m~/.julia/packages/CxxWrap/5IZvn/src/\u001b[39m\u001b[90m\u001b[4mCxxWrap.jl:624\u001b[24m\u001b[39m"
      ]
     },
     "execution_count": 6,
     "metadata": {},
     "output_type": "execute_result"
    }
   ],
   "source": [
    "methods(GetCubicVolume)"
   ]
  },
  {
   "cell_type": "markdown",
   "metadata": {
    "editable": true,
    "slideshow": {
     "slide_type": ""
    },
    "tags": []
   },
   "source": [
    "### Calling static class methods\n",
    "In this case we do not have an object instance. The way it is done is by concatenating the class name with the method names with the symbol `!`. This is an example: "
   ]
  },
  {
   "cell_type": "code",
   "execution_count": 7,
   "metadata": {
    "editable": true,
    "slideshow": {
     "slide_type": ""
    },
    "tags": []
   },
   "outputs": [
    {
     "data": {
      "text/plain": [
       "1"
      ]
     },
     "execution_count": 7,
     "metadata": {},
     "output_type": "execute_result"
    }
   ],
   "source": [
    "G4Random!getTheSeed()   # This will call the C++ class method G4Random::getTheSeed()"
   ]
  },
  {
   "cell_type": "markdown",
   "metadata": {
    "editable": true,
    "slideshow": {
     "slide_type": ""
    },
    "tags": []
   },
   "source": [
    "### Working in the inheritance\n",
    "In Geant4 all solid types inherit from a common base class `G4VSolid`. The method `Clone` returns a pointer to this base class.  "
   ]
  },
  {
   "cell_type": "code",
   "execution_count": 8,
   "metadata": {
    "editable": true,
    "slideshow": {
     "slide_type": ""
    },
    "tags": []
   },
   "outputs": [
    {
     "data": {
      "text/plain": [
       "\u001b[32m\u001b[1mTest Passed\u001b[22m\u001b[39m"
      ]
     },
     "execution_count": 8,
     "metadata": {},
     "output_type": "execute_result"
    }
   ],
   "source": [
    "solid = Clone(box)\n",
    "@test typeof(solid) == CxxPtr{G4VSolid}\n",
    "@test CxxPtr(box) == box  # same instance\n",
    "@test solid != box        # these are two diffrent instances\n",
    "@test GetCubicVolume(solid) == GetCubicVolume(box)"
   ]
  },
  {
   "cell_type": "markdown",
   "metadata": {
    "editable": true,
    "slideshow": {
     "slide_type": ""
    },
    "tags": []
   },
   "source": [
    "### Object ownership\n",
    "By default all objects instantiated by Julia will garbage collected (deleted) by Julia. this may pose problems with Geant4 since in many occasions the ownership is transferred implicitly to the toolkit, which will take care of doing a cleanup at the adequate moment. If we do nor pay attention we may get crashes (use a deleted objects and double deletions).\n",
    "\n",
    "There are nevertheless some exceptions that have been added to simplify the interactions for the following classes: `G4PVPlacement`,\n",
    "`G4LogicalVolume`, `G4PVReplica`, `G4Material`, `G4Isotope`, `G4Element`, `G4JLParticleGun`, \n",
    "                            `G4JLDetectorConstruction`, `G4JLGeneratorAction`, `G4JLRunAction`, `G4JLSensDet`, `G4JLWorkerInitialization`, `G4JLStateDependent`,\n",
    "                            `G4LogicalSkinSurface`, `G4LogicalBorderSurface`, `G4OpticalSurface`\n",
    "\n",
    "The following code show the behavior when things are not done correctly"
   ]
  },
  {
   "cell_type": "code",
   "execution_count": 9,
   "metadata": {
    "editable": true,
    "slideshow": {
     "slide_type": ""
    },
    "tags": []
   },
   "outputs": [
    {
     "name": "stdout",
     "output_type": "stream",
     "text": [
      "GetCubicVolume(union) = 40.00017222413403\n",
      "DistanceToIn(union, G4ThreeVector(10, 10, 10)) = 9.0\n"
     ]
    },
    {
     "data": {
      "text/plain": [
       "9.0"
      ]
     },
     "execution_count": 9,
     "metadata": {},
     "output_type": "execute_result"
    }
   ],
   "source": [
    "box1 = G4Box(\"box1\", 1,1,3)                                   # construct boxes\n",
    "box2 = G4Box(\"box2\", 1,3,1)                                  \n",
    "union = G4UnionSolid(\"union\", CxxPtr(box1), CxxPtr(box2))     # construct a union solid with the same box\n",
    "@show GetCubicVolume(union)\n",
    "@show DistanceToIn(union, G4ThreeVector(10,10,10))\n"
   ]
  },
  {
   "cell_type": "markdown",
   "metadata": {
    "editable": true,
    "slideshow": {
     "slide_type": ""
    },
    "tags": []
   },
   "source": [
    "now force a GC"
   ]
  },
  {
   "cell_type": "code",
   "execution_count": 10,
   "metadata": {
    "editable": true,
    "slideshow": {
     "slide_type": ""
    },
    "tags": []
   },
   "outputs": [
    {
     "name": "stdout",
     "output_type": "stream",
     "text": [
      "GetCubicVolume(union) = 40.00017222413403\n"
     ]
    },
    {
     "data": {
      "text/plain": [
       "40.00017222413403"
      ]
     },
     "execution_count": 10,
     "metadata": {},
     "output_type": "execute_result"
    }
   ],
   "source": [
    "box1 = box2 = nothing\n",
    "GC.gc()\n",
    "@show GetCubicVolume(union)                     # G4BooleanSolid cashes the volume\n",
    "# DistanceToIn(union, G4ThreeVector(10,10,10))  # this will probably crash the program"
   ]
  },
  {
   "cell_type": "markdown",
   "metadata": {
    "editable": true,
    "slideshow": {
     "slide_type": ""
    },
    "tags": []
   },
   "source": [
    "To avoid this problem the **user must transfer object ownership to the C++ side** using the provided function `move!()`. For example:"
   ]
  },
  {
   "cell_type": "code",
   "execution_count": 11,
   "metadata": {
    "editable": true,
    "slideshow": {
     "slide_type": ""
    },
    "tags": []
   },
   "outputs": [
    {
     "name": "stdout",
     "output_type": "stream",
     "text": [
      "GetCubicVolume(union) = 39.99985174389303\n",
      "DistanceToIn(union, G4ThreeVector(10, 10, 10)) = 9.0\n"
     ]
    }
   ],
   "source": [
    "box1 = G4Box(\"box1\", 1,1,3)                                  # construct boxes\n",
    "box2 = G4Box(\"box2\", 1,3,1)                                  \n",
    "union = G4UnionSolid(\"union\", move!(box1), move!(box2))      # construct a union solid with the same box\n",
    "@show GetCubicVolume(union)\n",
    "@show DistanceToIn(union, G4ThreeVector(10,10,10));"
   ]
  },
  {
   "cell_type": "markdown",
   "metadata": {
    "editable": true,
    "slideshow": {
     "slide_type": ""
    },
    "tags": []
   },
   "source": [
    "forcing now a GC will still work"
   ]
  },
  {
   "cell_type": "code",
   "execution_count": 12,
   "metadata": {
    "editable": true,
    "slideshow": {
     "slide_type": ""
    },
    "tags": [
     "scroll-output"
    ]
   },
   "outputs": [
    {
     "name": "stdout",
     "output_type": "stream",
     "text": [
      "GetCubicVolume(union) = 39.99985174389303\n",
      "DistanceToIn(union, G4ThreeVector(10, 10, 10)) = 9.0\n"
     ]
    }
   ],
   "source": [
    "box1 = box2 = zeros(1000)\n",
    "GC.gc()\n",
    "@show GetCubicVolume(union)                          # G4BooleanSolid cashes the volume\n",
    "@show DistanceToIn(union, G4ThreeVector(10,10,10));  # this will probabluy crash the program"
   ]
  },
  {
   "cell_type": "code",
   "execution_count": 13,
   "metadata": {
    "editable": true,
    "slideshow": {
     "slide_type": ""
    },
    "tags": [
     "scroll-output"
    ]
   },
   "outputs": [
    {
     "name": "stdout",
     "output_type": "stream",
     "text": [
      "\u001b[32m\u001b[1mStatus\u001b[22m\u001b[39m `~/.julia/environments/v1.10/Project.toml`\n",
      "  \u001b[90m[861a8166] \u001b[39mCombinatorics v1.0.2\n",
      "\u001b[33m⌅\u001b[39m \u001b[90m[1f15a43c] \u001b[39mCxxWrap v0.14.2\n",
      "  \u001b[90m[a93c6f00] \u001b[39mDataFrames v1.6.1\n",
      "  \u001b[90m[eb32b910] \u001b[39mEDM4hep v0.3.1 `~/Development/EDM4hep.jl`\n",
      "  \u001b[90m[559df036] \u001b[39mGeant4 v0.1.13\n",
      "  \u001b[90m[7073ff75] \u001b[39mIJulia v1.24.2\n",
      "  \u001b[90m[f612022c] \u001b[39mLorentzVectorHEP v0.1.6\n",
      "\u001b[32m⌃\u001b[39m \u001b[90m[98572fba] \u001b[39mParquet2 v0.2.20\n",
      "\u001b[32m⌃\u001b[39m \u001b[90m[91a5bcdd] \u001b[39mPlots v1.40.1\n",
      "  \u001b[90m[90137ffa] \u001b[39mStaticArrays v1.9.3\n",
      "\u001b[32m⌃\u001b[39m \u001b[90m[3cd96dde] \u001b[39mUnROOT v0.10.22\n",
      "  \u001b[90m[2e619515] \u001b[39mExpat_jll v2.5.0+0\n",
      "  \u001b[90m[872b6946] \u001b[39mGeant4_jll v11.2.0+0\n",
      "  \u001b[90m[637d83c4] \u001b[39mXerces_jll v3.2.4+0\n",
      "\u001b[36m\u001b[1mInfo\u001b[22m\u001b[39m Packages marked with \u001b[32m⌃\u001b[39m and \u001b[33m⌅\u001b[39m have new versions available. Those with \u001b[32m⌃\u001b[39m may be upgradable, but those with \u001b[33m⌅\u001b[39m are restricted by compatibility constraints from upgrading. To see why use `status --outdated`\n"
     ]
    }
   ],
   "source": [
    "using Pkg\n",
    "Pkg.status()"
   ]
  },
  {
   "cell_type": "code",
   "execution_count": null,
   "metadata": {
    "editable": true,
    "slideshow": {
     "slide_type": ""
    },
    "tags": []
   },
   "outputs": [],
   "source": []
  }
 ],
 "metadata": {
  "kernelspec": {
   "display_name": "Julia 1.10.0",
   "language": "julia",
   "name": "julia-1.10"
  },
  "language_info": {
   "file_extension": ".jl",
   "mimetype": "application/julia",
   "name": "julia",
   "version": "1.10.0"
  }
 },
 "nbformat": 4,
 "nbformat_minor": 4
}
