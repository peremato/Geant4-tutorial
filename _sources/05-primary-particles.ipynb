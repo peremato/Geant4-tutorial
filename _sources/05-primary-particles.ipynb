{
 "cells": [
  {
   "cell_type": "markdown",
   "metadata": {},
   "source": [
    "# Defining Primary Particles\n",
    "\n",
    "A Geant4 application requires a source of primary particles. We have several possibilities to provide a primary particle generator.\n",
    "\n",
    "- [**Particle Gun**](#gun) - This is the simplest primary particle generator. It is a single type of particle with a fix energy and direction \n",
    "- [**General Particle Source**](#gps) - This is a generalization of a particle gun with many more parameters to configure its behavior. See the [G4GeneralParticleSource documentation](https://geant4-userdoc.web.cern.ch/UsersGuides/ForApplicationDeveloper/html/GettingStarted/generalParticleSource.html).\n",
    "- **Full customization** - The user can write code to decide the primary particles to create, as well as, their energies and directions for each event. \n",
    "\n",
    "We are going to exercise the three cases in this notebook"
   ]
  },
  {
   "cell_type": "code",
   "execution_count": null,
   "metadata": {},
   "outputs": [],
   "source": [
    "using Geant4\n",
    "using Geant4.SystemOfUnits"
   ]
  },
  {
   "cell_type": "code",
   "execution_count": null,
   "metadata": {},
   "outputs": [],
   "source": [
    "# Do some analysis of energy, positions and directions\n",
    "using DataFrames, Plots \n",
    "\n",
    "function generate(generator, N)\n",
    "    df = DataFrame(energy = Float32[], \n",
    "               pos_x = Float32[], pos_y = Float32[], pos_z = Float32[],\n",
    "               dir_x = Float32[], dir_y = Float32[], dir_z = Float32[])\n",
    "    for i in 1:N\n",
    "        evt = G4Event()\n",
    "        generator.gen_method(evt, generator.data)\n",
    "        pos = evt |> GetPrimaryVertex |> GetPosition\n",
    "        dir = evt |> GetPrimaryVertex |> GetPrimary |> GetMomentumDirection\n",
    "        ene = evt |> GetPrimaryVertex |> GetPrimary |> GetKineticEnergy\n",
    "        push!(df, (ene, x(pos), y(pos), z(pos), x(dir), y(dir), z(dir)))\n",
    "    end\n",
    "    return df\n",
    "end"
   ]
  },
  {
   "cell_type": "markdown",
   "metadata": {},
   "source": [
    "<a id='gun'></a>\n",
    "## Particle Gun\n",
    "We have introduced a new type `G4JLGunGenerator` to facilitate the task of defining a "
   ]
  },
  {
   "cell_type": "code",
   "execution_count": null,
   "metadata": {},
   "outputs": [],
   "source": [
    "particlegun = G4JLGunGenerator(particle = \"pi+\", \n",
    "                               energy = 330MeV, \n",
    "                               direction = G4ThreeVector(0, 0, 1), \n",
    "                               position = G4ThreeVector(0, 0, 0));"
   ]
  },
  {
   "cell_type": "markdown",
   "metadata": {},
   "source": [
    "The actual `G4ParticleGun` object (the `data.gun` field) has not been created yet. It will be done by the `G4RunManager` during initialization. If we do initialize by hand now we will get a error since particles have not been created yet."
   ]
  },
  {
   "cell_type": "markdown",
   "metadata": {},
   "source": [
    "Lets build an application with just the generator"
   ]
  },
  {
   "cell_type": "code",
   "execution_count": null,
   "metadata": {},
   "outputs": [],
   "source": [
    "app = G4JLApplication(\n",
    "    generator = particlegun,\n",
    ")\n",
    "configure(app)\n",
    "initialize(app)"
   ]
  },
  {
   "cell_type": "markdown",
   "metadata": {},
   "source": [
    "Run one event and see the printout of the initial particle"
   ]
  },
  {
   "cell_type": "code",
   "execution_count": null,
   "metadata": {},
   "outputs": [],
   "source": [
    "ui`/tracking/verbose 1`\n",
    "beamOn(app,1)"
   ]
  },
  {
   "cell_type": "markdown",
   "metadata": {},
   "source": [
    "We can easily change the parameters of the particle gun with the following methods"
   ]
  },
  {
   "cell_type": "code",
   "execution_count": null,
   "metadata": {},
   "outputs": [],
   "source": [
    "SetParticleByName(particlegun, \"e-\")\n",
    "SetParticleEnergy(particlegun, 10GeV)\n",
    "SetParticleMomentumDirection(particlegun, G4ThreeVector(1,0,0))\n",
    "\n",
    "beamOn(app,1)"
   ]
  },
  {
   "cell_type": "markdown",
   "metadata": {},
   "source": [
    "<a id='gps'></a>\n",
    "## General Particle Source\n",
    "You can create a `G4JLGeneralParticleSource` with the same parameters (and same behavior) as the Particle Gun."
   ]
  },
  {
   "cell_type": "code",
   "execution_count": null,
   "metadata": {},
   "outputs": [],
   "source": [
    "gps = G4JLGeneralParticleSource(particle = \"proton\", \n",
    "                                energy = 10MeV, \n",
    "                                direction = G4ThreeVector(1,0,0), \n",
    "                                position = G4ThreeVector(0,0,0));"
   ]
  },
  {
   "cell_type": "code",
   "execution_count": null,
   "metadata": {},
   "outputs": [],
   "source": [
    "app = G4JLApplication(\n",
    "    generator = gps,\n",
    ")\n",
    "configure(app)\n",
    "initialize(app)"
   ]
  },
  {
   "cell_type": "code",
   "execution_count": null,
   "metadata": {},
   "outputs": [],
   "source": [
    "df = generate(gps, 1000)\n",
    "histogram(df.energy)"
   ]
  },
  {
   "cell_type": "markdown",
   "metadata": {},
   "source": [
    "**Note that** The exception is due to the fact that Geant4 does not like to re-initialize. Please ignore the exception and look at the created particle. Now we can change the parameters in two different ways:\n",
    "- using the UI commands\n",
    "- instantiating a new `G4JLGeneralParticleSource` with the needed parameters "
   ]
  },
  {
   "cell_type": "code",
   "execution_count": null,
   "metadata": {},
   "outputs": [],
   "source": [
    "reinitialize(app.generator;  particle=\"geantino\",\n",
    "                             energy=2MeV,\n",
    "                             pos=(type=\"Point\", centre=G4ThreeVector(1cm,2cm,1cm)),\n",
    "                             ang=(type=\"iso\"))"
   ]
  },
  {
   "cell_type": "code",
   "execution_count": null,
   "metadata": {},
   "outputs": [],
   "source": [
    "df = generate(gps, 1000)\n",
    "histogram(df.energy)"
   ]
  },
  {
   "cell_type": "code",
   "execution_count": null,
   "metadata": {},
   "outputs": [],
   "source": [
    "reinitialize(gps;  particle=\"geantino\",\n",
    "                   ene=(type=\"Lin\", min=2MeV, max=10MeV, gradient=1, intercept=1),\n",
    "                   pos=(type=\"Plane\", shape=\"Square\", centre=G4ThreeVector(1cm,2cm,1cm), halfx=2cm, halfy=2cm),\n",
    "                   ang=(type=\"cos\",mintheta=10deg, maxtheta=80deg))"
   ]
  },
  {
   "cell_type": "code",
   "execution_count": null,
   "metadata": {},
   "outputs": [],
   "source": [
    "df = generate(gps, 1000)\n",
    "histogram(df.energy)"
   ]
  },
  {
   "cell_type": "code",
   "execution_count": null,
   "metadata": {},
   "outputs": [],
   "source": [
    "scatter(df.pos_x, df.pos_y, df.pos_z)"
   ]
  },
  {
   "cell_type": "markdown",
   "metadata": {},
   "source": [
    "<a id='custom'></a>\n",
    "## Custom Primary Generator\n",
    "The user can provide fully custom primary particle generator. This is done by defining custom structure to configure the generator and two functions to initialize and generate the primary particles that will be called by the `G4RunManager` for each event.\n",
    "\n",
    "The user configuration data structure should inherit from `G4JLGeneratorData` abstract type. Here is an example of a generator of a for a rectangle shape origined a mono-energy particles.    "
   ]
  },
  {
   "cell_type": "code",
   "execution_count": null,
   "metadata": {},
   "outputs": [],
   "source": [
    "# define the data structure with the generator parameters\n",
    "mutable struct PlaneSourceData <: G4JLGeneratorData\n",
    "    particleName::String                         # particle type\n",
    "    particlePtr::CxxPtr{G4ParticleDefinition}    # keep the pointer to definition for performance\n",
    "    energy::Float64                              # kinetic energy\n",
    "    halfx::Float64                               # rectangle dimensions\n",
    "    halfy::Float64\n",
    "    position::G4ThreeVector                      # rectangle origin\n",
    "    direction::G4ThreeVector                     # particle direction\n",
    "end"
   ]
  },
  {
   "cell_type": "markdown",
   "metadata": {},
   "source": [
    "We defile now a function `PlaneSource` that will create an instance of `G4JLPrimaryGenerator` with the configuration data (using some default values) and the two functions: `init` and `generate`. The `init` converts the particle name to a definition, which is then used for the `generate` function at each event. The `generate` generate random points en X and Y and creates a `G4PrimaryParticle` and `G4PrimaryVertex` which are added to the event given as argument. "
   ]
  },
  {
   "cell_type": "code",
   "execution_count": null,
   "metadata": {},
   "outputs": [],
   "source": [
    "# define the constructor with the default parameters\n",
    "function PlaneSource(;particle=\"gamma\", energy=0.07MeV, halfx=7cm, halfy=7cm, \n",
    "                                        position=G4ThreeVector(0,0,0), \n",
    "                                        direction=G4ThreeVector(0,0,1))\n",
    "    data = PlaneSourceData(particle, CxxPtr{G4ParticleDefinition}(C_NULL), energy, halfx, halfy, position, direction)\n",
    "\n",
    "    function init(data:: PlaneSourceData, app::G4JLApplication)\n",
    "        data.particlePtr = FindParticle(data.particleName)\n",
    "    end\n",
    "\n",
    "    function generate( evt::G4Event, data:: PlaneSourceData)::Nothing\n",
    "        mass = data.particlePtr |> GetPDGMass\n",
    "        momentum = √((mass + data.energy)^2 - mass^2)\n",
    "        pvec = momentum * data.direction\n",
    "        pos = data.position + G4ThreeVector( data.halfx * (rand() - 0.5),  data.halfy * (rand() - 0.5), 0)\n",
    "        primary = G4PrimaryParticle(data.particlePtr, pvec |> x, pvec |> y, pvec |> z )\n",
    "        vertex = G4PrimaryVertex(pos, 0ns)\n",
    "        SetPrimary(vertex, move!(primary))    # note that we give up ownership of the objects just created\n",
    "        AddPrimaryVertex(evt, move!(vertex))  # note that we give up ownership of the objects just created\n",
    "    end\n",
    "    G4JLPrimaryGenerator(\"PlaneSource\", data; init_method=init, generate_method=generate)\n",
    "end"
   ]
  },
  {
   "cell_type": "code",
   "execution_count": null,
   "metadata": {},
   "outputs": [],
   "source": [
    "planesource = PlaneSource(energy=10MeV, halfx=10cm, halfy=10cm)"
   ]
  },
  {
   "cell_type": "code",
   "execution_count": null,
   "metadata": {},
   "outputs": [],
   "source": [
    "app = G4JLApplication(\n",
    "    generator = planesource,\n",
    ")\n",
    "configure(app)\n",
    "initialize(app)"
   ]
  },
  {
   "cell_type": "code",
   "execution_count": null,
   "metadata": {},
   "outputs": [],
   "source": [
    "df = generate(planesource, 1000)\n",
    "histogram(df.energy)"
   ]
  },
  {
   "cell_type": "code",
   "execution_count": null,
   "metadata": {},
   "outputs": [],
   "source": [
    "scatter(df.pos_x, df.pos_y)"
   ]
  },
  {
   "cell_type": "code",
   "execution_count": null,
   "metadata": {},
   "outputs": [],
   "source": [
    "scatter(df.pos_x, df.pos_y, df.pos_z)"
   ]
  }
 ],
 "metadata": {
  "kernelspec": {
   "display_name": "Julia 1.10.0",
   "language": "julia",
   "name": "julia-1.10"
  },
  "language_info": {
   "file_extension": ".jl",
   "mimetype": "application/julia",
   "name": "julia",
   "version": "1.10.0"
  }
 },
 "nbformat": 4,
 "nbformat_minor": 2
}
