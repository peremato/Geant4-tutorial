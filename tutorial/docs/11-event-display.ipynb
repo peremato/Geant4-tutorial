{
 "cells": [
  {
   "cell_type": "markdown",
   "metadata": {},
   "source": [
    "# Event Display\n",
    "\n",
    "For visualization applications, the user can create an instance of `G4JLEventDisplay([settings file])` and give it to the constructor of `G4JLApplication` in the `evtdisplay` attribute.\n",
    "\n",
    "The constructor accepts a visualization settings file that will overwrite the default settings in the file [Geant4.jl/ext/G4Vis/settings.jl](https://github.com/JuliaHEP/Geant4.jl/blob/master/ext/G4Vis/settings.jl). The format of the settings is Julia `NamedTuple`. Here is an example:\n",
    "```julia\n",
    "(\n",
    "    display = (\n",
    "        show_axis = false,\n",
    "    ),\n",
    "    trajectories = (\n",
    "        color = :yellow,\n",
    "    ),\n",
    ")\n",
    "```\n"
   ]
  },
  {
   "cell_type": "markdown",
   "metadata": {},
   "source": [
    "Let's define a simple detector and particle gun as generator"
   ]
  },
  {
   "cell_type": "code",
   "execution_count": null,
   "metadata": {},
   "outputs": [],
   "source": [
    "using Geant4\n",
    "using Geant4.SystemOfUnits\n",
    "using CairoMakie, Rotations, IGLWrap_jll # to force loading G4Vis extension"
   ]
  },
  {
   "cell_type": "code",
   "execution_count": null,
   "metadata": {},
   "outputs": [],
   "source": [
    "struct SimpleDetector <: G4JLDetector ; end\n",
    "\n",
    "#---Materials----------------------------------------------------------------------------------\n",
    "nist = G4NistManager!Instance()\n",
    "m_air = FindOrBuildMaterial(nist, \"G4_AIR\")\n",
    "m_bgo = FindOrBuildMaterial(nist, \"G4_BGO\")\n",
    "\n",
    "#---Volumes------------------------------------------------------------------------------------\n",
    "worldS = G4Box(\"world\", 10cm, 10cm, 20cm)\n",
    "worldLV = G4LogicalVolume(worldS, m_air, \"World\")\n",
    "worldPV = G4PVPlacement(nothing, G4ThreeVector(), worldLV, \"World\", nothing, false, 0, false)\n",
    "\n",
    "crystalS = G4Box(\"world\", 5cm, 5cm, 10cm)\n",
    "crystalLV = G4LogicalVolume(crystalS, m_bgo, \"Crystal\")\n",
    "crystalPV = G4PVPlacement(nothing, G4ThreeVector(), crystalLV, \"Crystal\", worldLV, false, 0, false)\n",
    "\n",
    "#---define getConstructor\n",
    "Geant4.getConstructor(::SimpleDetector)::Function = (::SimpleDetector) -> worldPV"
   ]
  },
  {
   "cell_type": "code",
   "execution_count": null,
   "metadata": {},
   "outputs": [],
   "source": [
    "particlegun = G4JLGunGenerator(particle = \"e-\", \n",
    "                               energy = 1GeV, \n",
    "                               direction = G4ThreeVector(0,0,1), \n",
    "                               position = G4ThreeVector(0,0,-10cm));"
   ]
  },
  {
   "cell_type": "markdown",
   "metadata": {},
   "source": [
    "Now define an instance of `G4JLEventDisplay`. The visualization settings file is in same directory as this notebook. "
   ]
  },
  {
   "cell_type": "code",
   "execution_count": null,
   "metadata": {},
   "outputs": [],
   "source": [
    "#---Event Display----------------------------------------------------------------------------------\n",
    "evtdisplay   = G4JLEventDisplay(joinpath(@__DIR__, \"VisSettings.jl\"))"
   ]
  },
  {
   "cell_type": "code",
   "execution_count": null,
   "metadata": {},
   "outputs": [],
   "source": [
    "#---Create the Application-------------------------------------------------------------------------\n",
    "app = G4JLApplication(detector     = SimpleDetector(),          # simple detector\n",
    "                      generator    = particlegun,               # primary generator to instantiate\n",
    "                      physics_type = FTFP_BERT,                 # what physics list to instantiate\n",
    "                      evtdisplay   = evtdisplay                 # event display\n",
    "                     )\n",
    "\n",
    "configure(app)\n",
    "initialize(app)"
   ]
  },
  {
   "cell_type": "code",
   "execution_count": null,
   "metadata": {},
   "outputs": [],
   "source": [
    "#---Event Display is anow ready display events-----------------------------------------------------\n",
    "beamOn(app, 1)\n",
    "display(\"image/png\", evtdisplay.figure)"
   ]
  },
  {
   "cell_type": "code",
   "execution_count": null,
   "metadata": {},
   "outputs": [],
   "source": [
    "beamOn(app, 1)\n",
    "display(\"image/png\", evtdisplay.figure)"
   ]
  }
 ],
 "metadata": {
  "kernelspec": {
   "display_name": "Julia 1.10.0",
   "language": "julia",
   "name": "julia-1.10"
  },
  "language_info": {
   "file_extension": ".jl",
   "mimetype": "application/julia",
   "name": "julia",
   "version": "1.10.0"
  }
 },
 "nbformat": 4,
 "nbformat_minor": 2
}
